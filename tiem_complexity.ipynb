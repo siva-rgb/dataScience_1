{
 "cells": [
  {
   "cell_type": "markdown",
   "id": "7a2237ef-c67f-453f-9e48-be5c76562a71",
   "metadata": {},
   "source": [
    "# Time Complexity O(NlogN)"
   ]
  },
  {
   "cell_type": "code",
   "execution_count": null,
   "id": "141e9b90-4c6d-4e18-ad01-ff531c463b46",
   "metadata": {},
   "outputs": [],
   "source": [
    "def quicksort(arr):  \n",
    "    if len(arr) <= 1:  \n",
    "        return arr  \n",
    "    pivot = arr[len(arr) // 2]  \n",
    "    left = [x for x in arr if x < pivot]  \n",
    "    middle = [x for x in arr if x == pivot]  \n",
    "    right = [x for x in arr if x > pivot]  \n",
    "    return quicksort(left) + middle + quicksort(right) "
   ]
  },
  {
   "cell_type": "markdown",
   "id": "7e3eca89-280e-4f9b-b810-97b6179ddb12",
   "metadata": {},
   "source": [
    "# Time Complexity O(N*M)"
   ]
  },
  {
   "cell_type": "code",
   "execution_count": null,
   "id": "4b5891ea-7212-40bc-8838-4b4a91ae3cb4",
   "metadata": {},
   "outputs": [],
   "source": [
    "def nested_loop_example(matrix):  \n",
    "rows, cols = len(matrix), len(matrix[0])  \n",
    "total = 0  \n",
    "for i in range(rows):\n",
    "    for j in range(cols):  \n",
    "        total += matrix[i][j]  \n",
    "        return total \n"
   ]
  },
  {
   "cell_type": "markdown",
   "id": "81e15414-346f-4351-98fd-9ea12d5728e9",
   "metadata": {},
   "source": [
    "# Time Complexity O(N)"
   ]
  },
  {
   "cell_type": "code",
   "execution_count": null,
   "id": "37b65965-1ed5-4241-8cb1-4398c8adaf9f",
   "metadata": {},
   "outputs": [],
   "source": [
    "def example_function(arr):\n",
    "    result = 0\n",
    "    for element in arr:\n",
    "        result += element\n",
    "    return result"
   ]
  },
  {
   "cell_type": "markdown",
   "id": "502031d1-1be6-4110-ac95-7a493795eb29",
   "metadata": {},
   "source": [
    "# Time Complexity O(N*N)"
   ]
  },
  {
   "cell_type": "code",
   "execution_count": null,
   "id": "9f4293af-723f-40fb-b35b-9346fce42cb3",
   "metadata": {},
   "outputs": [],
   "source": [
    "def longest_increasing_subsequence(nums):\n",
    "    n = len(nums)\n",
    "    lis = [1] * n\n",
    "    for i in range(1, n):\n",
    "        for j in range(0, i):\n",
    "            if nums[i] > nums[j] and lis[i] < lis[j] + 1:\n",
    "                lis[i] = lis[j] + 1\n",
    "    return max(lis)"
   ]
  },
  {
   "cell_type": "markdown",
   "id": "a2d7c4cb-582c-41f1-a5b5-5d4c73a7874b",
   "metadata": {},
   "source": [
    "# Time Complexity O(N*N)"
   ]
  },
  {
   "cell_type": "code",
   "execution_count": null,
   "id": "a5dc348c-c163-4720-9df6-9458dba0b1de",
   "metadata": {},
   "outputs": [],
   "source": [
    "def mysterious_function(arr):\n",
    "    n = len(arr)\n",
    "    result = 0\n",
    "    for i in range(n):\n",
    "        for j in range(i, n):\n",
    "        result += arr[i] * arr[j]\n",
    "    return result"
   ]
  },
  {
   "cell_type": "code",
   "execution_count": 3,
   "id": "b150a8d1-5f9b-4c1f-95ba-eb5da720cfcc",
   "metadata": {},
   "outputs": [
    {
     "name": "stdout",
     "output_type": "stream",
     "text": [
      "6\n"
     ]
    }
   ],
   "source": [
    "# Write a recursive function to calculate the sum of digits of a given positive integer.\n",
    "# sum_of_digits(123) -> 6\n",
    "\n",
    "def sum_of_digits(n):\n",
    "    # Base case: if n is 0, the sum of its digits is 0\n",
    "    if n == 0:\n",
    "        return 0\n",
    "    else:\n",
    "        \n",
    "        return n % 10 + sum_of_digits(n // 10)\n",
    "\n",
    "input_number = 123\n",
    "output = sum_of_digits(input_number)\n",
    "print(output) \n"
   ]
  },
  {
   "cell_type": "code",
   "execution_count": 1,
   "id": "ce6da95d-3b89-400e-8839-0280d8583abd",
   "metadata": {},
   "outputs": [
    {
     "name": "stdout",
     "output_type": "stream",
     "text": [
      "[0, 1, 1, 2, 3, 5]\n"
     ]
    }
   ],
   "source": [
    "def fibonacci(n):\n",
    "    # Base cases: the first two Fibonacci numbers are 0 and 1\n",
    "    if n == 0:\n",
    "        return 0\n",
    "    elif n == 1:\n",
    "        return 1\n",
    "    else:\n",
    "        # Recursive case: sum of the two preceding numbers\n",
    "        return fibonacci(n - 1) + fibonacci(n - 2)\n",
    "\n",
    "def fibonacci_series(n):\n",
    "    return [fibonacci(i) for i in range(n)]\n",
    "\n",
    "\n",
    "n = 6\n",
    "output = fibonacci_series(n)\n",
    "print(output) \n"
   ]
  },
  {
   "cell_type": "code",
   "execution_count": 2,
   "id": "740455a7-74a3-4114-a48e-b6341f4c05ca",
   "metadata": {},
   "outputs": [
    {
     "name": "stdout",
     "output_type": "stream",
     "text": [
      "True\n"
     ]
    }
   ],
   "source": [
    "# Given a set of positive integers and a target sum, write a recursive function to determine if there exists a subset of the integers that adds up to the target sum.   \n",
    "# subset_sum([3, 34, 4, 12, 5, 2], 9) -> True    \n",
    "def subset_sum(nums, target, index=0):\n",
    "    # Base Case 1: If the target sum is 0, we've found a subset\n",
    "    if target == 0:\n",
    "        return True\n",
    "    \n",
    "    # Base Case 2: If we've processed all elements or target becomes negative, return False\n",
    "    if index == len(nums) or target < 0:\n",
    "        return False\n",
    "    \n",
    "    # Recursive case: Include the current number or exclude it\n",
    "    include_current = subset_sum(nums, target - nums[index], index + 1)\n",
    "    exclude_current = subset_sum(nums, target, index + 1)\n",
    "    \n",
    "    \n",
    "    return include_current or exclude_current\n",
    "\n",
    "\n",
    "nums = [3, 34, 4, 12, 5, 2]\n",
    "target = 9\n",
    "output = subset_sum(nums, target)\n",
    "print(output)\n"
   ]
  },
  {
   "cell_type": "code",
   "execution_count": 3,
   "id": "48436c18-760a-4bf2-8bb4-4ea7413ed65a",
   "metadata": {},
   "outputs": [
    {
     "name": "stdout",
     "output_type": "stream",
     "text": [
      "True\n"
     ]
    }
   ],
   "source": [
    "def word_break(s, word_dict):\n",
    "    def can_segment(start):\n",
    "        # Base Case: If we've reached the end of the string, return True\n",
    "        if start == len(s):\n",
    "            return True\n",
    "        \n",
    "        # Check every possible end point for the current substring starting at 'start'\n",
    "        for end in range(start + 1, len(s) + 1):\n",
    "            # If the current substring is in the word dictionary, recursively check the rest\n",
    "            if s[start:end] in word_dict and can_segment(end):\n",
    "                return True\n",
    "        \n",
    "        # If no valid segmentation is found, return False\n",
    "        return False\n",
    "    \n",
    "    # Convert the word list to a set for faster lookup\n",
    "    word_set = set(word_dict)\n",
    "    return can_segment(0)\n",
    "\n",
    "\n",
    "s = \"leetcode\"\n",
    "word_dict = [\"leet\", \"code\"]\n",
    "output = word_break(s, word_dict)\n",
    "print(output) \n"
   ]
  },
  {
   "cell_type": "code",
   "execution_count": 4,
   "id": "ff7eab27-96d2-4dd8-addc-d9dbadf4e578",
   "metadata": {},
   "outputs": [
    {
     "name": "stdout",
     "output_type": "stream",
     "text": [
      "[['.Q..', '...Q', 'Q...', '..Q.'], ['..Q.', 'Q...', '...Q', '.Q..']]\n"
     ]
    }
   ],
   "source": [
    "def n_queens(n):\n",
    "    def solve(row, columns, diagonals1, diagonals2, board, solutions):\n",
    "        # Base case: if we've placed queens on all rows\n",
    "        if row == n:\n",
    "            # Add a copy of the board to solutions\n",
    "            solutions.append([''.join(row) for row in board])\n",
    "            return\n",
    "        \n",
    "        for col in range(n):\n",
    "            # Check if the queen can be placed safely at (row, col)\n",
    "            if col in columns or (row - col) in diagonals1 or (row + col) in diagonals2:\n",
    "                continue\n",
    "            \n",
    "            # Place the queen on the board\n",
    "            board[row][col] = 'Q'\n",
    "            columns.add(col)\n",
    "            diagonals1.add(row - col)\n",
    "            diagonals2.add(row + col)\n",
    "            \n",
    "            # Recursively place the next queen\n",
    "            solve(row + 1, columns, diagonals1, diagonals2, board, solutions)\n",
    "            \n",
    "            # Backtrack: remove the queen and reset the state\n",
    "            board[row][col] = '.'\n",
    "            columns.remove(col)\n",
    "            diagonals1.remove(row - col)\n",
    "            diagonals2.remove(row + col)\n",
    "    \n",
    "    # Initialize the board and solutions list\n",
    "    board = [['.' for _ in range(n)] for _ in range(n)]\n",
    "    solutions = []\n",
    "    solve(0, set(), set(), set(), board, solutions)\n",
    "    return solutions\n",
    "\n",
    "n = 4\n",
    "output = n_queens(n)\n",
    "print(output)\n"
   ]
  }
 ],
 "metadata": {
  "kernelspec": {
   "display_name": "Python 3 (ipykernel)",
   "language": "python",
   "name": "python3"
  },
  "language_info": {
   "codemirror_mode": {
    "name": "ipython",
    "version": 3
   },
   "file_extension": ".py",
   "mimetype": "text/x-python",
   "name": "python",
   "nbconvert_exporter": "python",
   "pygments_lexer": "ipython3",
   "version": "3.10.8"
  }
 },
 "nbformat": 4,
 "nbformat_minor": 5
}

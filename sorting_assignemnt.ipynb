{
 "cells": [
  {
   "cell_type": "code",
   "execution_count": 1,
   "id": "962c00e2-07f7-4eb0-9975-ce3906562687",
   "metadata": {},
   "outputs": [
    {
     "name": "stdout",
     "output_type": "stream",
     "text": [
      "The element appearing maximum number of times is: 1\n"
     ]
    }
   ],
   "source": [
    "#Given an array of n numbers, give an algorithm which gives the element appearing maximum number of times?    \n",
    "def find_max_occurrence(arr):\n",
    "    \n",
    "    frequency = {}\n",
    "    for num in arr:\n",
    "        if num in frequency:\n",
    "            frequency[num] += 1\n",
    "        else:\n",
    "            frequency[num] = 1\n",
    "\n",
    "    max_count = 0\n",
    "    max_element = None\n",
    "\n",
    "    for key, value in frequency.items():\n",
    "        if value > max_count:\n",
    "            max_count = value\n",
    "            max_element = key\n",
    "\n",
    "    return max_element\n",
    "\n",
    "arr = [1, 3, 2, 1, 4, 1, 5, 3, 1, 2, 2, 2]\n",
    "result = find_max_occurrence(arr)\n",
    "print(f\"The element appearing maximum number of times is: {result}\")\n"
   ]
  },
  {
   "cell_type": "code",
   "execution_count": 2,
   "id": "6f26bc4c-b81e-4584-9ac8-332a78fe8acc",
   "metadata": {},
   "outputs": [
    {
     "name": "stdout",
     "output_type": "stream",
     "text": [
      "The missing number is: 5\n"
     ]
    }
   ],
   "source": [
    "#We are given a list of n-1 integers and these integers are in the range of 1 to n . There are no duplicates in the list. One of the integers is missing in the list. Give an algorithm to find that element Ex: [1,2,4,6,3,7,8] 5 is the missing num.\n",
    "\n",
    "def find_missing_number_xor(nums):\n",
    "    n = len(nums) + 1\n",
    "    \n",
    "   \n",
    "    xor_all = 0\n",
    "    for num in nums:\n",
    "        xor_all ^= num\n",
    "    \n",
    "    xor_full = 0\n",
    "    for i in range(1, n + 1):\n",
    "        xor_full ^= i\n",
    "    \n",
    "    missing_number = xor_all ^ xor_full\n",
    "    \n",
    "    return missing_number\n",
    "\n",
    "nums = [1, 2, 4, 6, 3, 7, 8]\n",
    "missing_number = find_missing_number_xor(nums)\n",
    "print(f\"The missing number is: {missing_number}\")\n"
   ]
  },
  {
   "cell_type": "code",
   "execution_count": 4,
   "id": "7fc9cf50-ab0a-4c72-a649-705df8b18965",
   "metadata": {},
   "outputs": [
    {
     "name": "stdout",
     "output_type": "stream",
     "text": [
      "The number that occurs an odd number of times is: 3\n"
     ]
    }
   ],
   "source": [
    "#Given an array of n positive numbers. All numbers occurs even number of times except 1 which occurs odd number of times. Find that number in O(n) time and O(1) space. Ex: [1,2,3,2,3,1,3]. 3 is repeats odd times.  \n",
    "\n",
    "def find_odd_occurrence(nums):\n",
    "    result = 0\n",
    "    \n",
    "    for num in nums:\n",
    "        result ^= num\n",
    "    \n",
    "    return result\n",
    "\n",
    "nums = [1, 2, 3, 2, 3, 1, 3]\n",
    "odd_occurrence_number = find_odd_occurrence(nums)\n",
    "print(f\"The number that occurs an odd number of times is: {odd_occurrence_number}\")\n"
   ]
  },
  {
   "cell_type": "code",
   "execution_count": 5,
   "id": "d1ecb00b-829a-4689-a6aa-09633963e8bd",
   "metadata": {},
   "outputs": [
    {
     "name": "stdout",
     "output_type": "stream",
     "text": [
      "The pair that sums to 9 is: (2, 7)\n"
     ]
    }
   ],
   "source": [
    "#Given an array of n elements. Find two elements in the array such that their sum is equal to given element K.    \n",
    "\n",
    "def find_pair_with_sum_two_pointers(arr, K):\n",
    "    arr.sort()\n",
    "    \n",
    "    left, right = 0, len(arr) - 1\n",
    "    \n",
    "    while left < right:\n",
    "        current_sum = arr[left] + arr[right]\n",
    "        \n",
    "        if current_sum == K:\n",
    "            return (arr[left], arr[right])\n",
    "        elif current_sum < K:\n",
    "            left += 1  \n",
    "        else:\n",
    "            right -= 1 \n",
    " \n",
    "    return None\n",
    "\n",
    "\n",
    "arr = [2, 7, 11, 15]\n",
    "K = 9\n",
    "pair = find_pair_with_sum_two_pointers(arr, K)\n",
    "if pair:\n",
    "    print(f\"The pair that sums to {K} is: {pair}\")\n",
    "else:\n",
    "    print(f\"No pair found that sums to {K}.\")\n"
   ]
  },
  {
   "cell_type": "code",
   "execution_count": 6,
   "id": "621b60bf-8a0a-4630-a60b-c11137d2da4e",
   "metadata": {},
   "outputs": [
    {
     "name": "stdout",
     "output_type": "stream",
     "text": [
      "The pair with the sum closest to 0 is: (-80, 85)\n"
     ]
    }
   ],
   "source": [
    "#Given an array of both positive and negative numbers, find two numbers such that their sum is closest to 0. Ex: [ 1 ,60 ,-10, 70, -80,85]. Ans : -80,85.    \n",
    "def find_pair_closest_to_zero(arr):\n",
    "    arr.sort()\n",
    "    \n",
    "    left = 0\n",
    "    right = len(arr) - 1\n",
    "    closest_pair = (arr[left], arr[right])\n",
    "    min_sum = abs(arr[left] + arr[right])\n",
    "    \n",
    "    while left < right:\n",
    "        current_sum = arr[left] + arr[right]\n",
    "        \n",
    "        if abs(current_sum) < min_sum:\n",
    "            min_sum = abs(current_sum)\n",
    "            closest_pair = (arr[left], arr[right])\n",
    "        \n",
    "        if current_sum < 0:\n",
    "            left += 1\n",
    "        else:\n",
    "            right -= 1\n",
    "    \n",
    "    return closest_pair\n",
    "\n",
    "arr = [1, 60, -10, 70, -80, 85]\n",
    "closest_pair = find_pair_closest_to_zero(arr)\n",
    "print(f\"The pair with the sum closest to 0 is: {closest_pair}\")\n"
   ]
  },
  {
   "cell_type": "code",
   "execution_count": 7,
   "id": "5656799d-3cea-46a0-852c-73da4405a3e6",
   "metadata": {},
   "outputs": [
    {
     "name": "stdout",
     "output_type": "stream",
     "text": [
      "Triplets with sum 6 are: [(-1, 2, 5), (-1, 3, 4), (0, 1, 5), (0, 2, 4), (1, 2, 3)]\n"
     ]
    }
   ],
   "source": [
    "#Given an array of n elements . Find three elements such that their sum is equal to the given number.    \n",
    "def find_triplets_with_sum(arr, K):\n",
    "    arr.sort()\n",
    "    triplets = []\n",
    "    \n",
    "    for i in range(len(arr) - 2):\n",
    "        if i > 0 and arr[i] == arr[i - 1]:\n",
    "            continue\n",
    "            \n",
    "        left, right = i + 1, len(arr) - 1\n",
    "        while left < right:\n",
    "            current_sum = arr[i] + arr[left] + arr[right]\n",
    "            \n",
    "            if current_sum == K:\n",
    "                triplets.append((arr[i], arr[left], arr[right]))\n",
    "                # Skip duplicates for the second and third elements\n",
    "                while left < right and arr[left] == arr[left + 1]:\n",
    "                    left += 1\n",
    "                while left < right and arr[right] == arr[right - 1]:\n",
    "                    right -= 1\n",
    "                left += 1\n",
    "                right -= 1\n",
    "            elif current_sum < K:\n",
    "                left += 1\n",
    "            else:\n",
    "                right -= 1\n",
    "    \n",
    "    return triplets\n",
    "\n",
    "arr = [1, 4, 2, -1, 5, 3, 0]\n",
    "K = 6\n",
    "triplets = find_triplets_with_sum(arr, K)\n",
    "print(f\"Triplets with sum {K} are: {triplets}\")\n"
   ]
  },
  {
   "cell_type": "code",
   "execution_count": 8,
   "id": "8f235732-4b44-4d2f-a516-d7a4f4e6ff17",
   "metadata": {},
   "outputs": [
    {
     "name": "stdout",
     "output_type": "stream",
     "text": [
      "Triplets (i, j, k) where i^2 + j^2 = k^2 are: [(3, 4, 5), (6, 8, 10)]\n"
     ]
    }
   ],
   "source": [
    "#: Given an array of n elements . Find three elements i, j, k in the array such that  i * i + j * j = k*k\n",
    "def find_pythagorean_triplets(arr):\n",
    "    squares = set(x * x for x in arr)\n",
    "    \n",
    "    triplets = []\n",
    "    n = len(arr)\n",
    "    \n",
    "    for i in range(n):\n",
    "        for j in range(i + 1, n):\n",
    "            \n",
    "            sum_squares = arr[i] * arr[i] + arr[j] * arr[j]\n",
    "            \n",
    "            if sum_squares in squares:\n",
    "                k_squared = sum_squares\n",
    "                k = int(k_squared ** 0.5)\n",
    "                if k in arr:\n",
    "                    triplets.append((arr[i], arr[j], k))\n",
    "    \n",
    "    return triplets\n",
    "\n",
    "arr = [3, 4, 5, 6, 8, 10]\n",
    "triplets = find_pythagorean_triplets(arr)\n",
    "print(f\"Triplets (i, j, k) where i^2 + j^2 = k^2 are: {triplets}\")\n"
   ]
  },
  {
   "cell_type": "code",
   "execution_count": 9,
   "id": "352cf85f-fa3c-4a83-a840-6d0b4e33a8ef",
   "metadata": {},
   "outputs": [
    {
     "name": "stdout",
     "output_type": "stream",
     "text": [
      "The majority element is: 4\n"
     ]
    }
   ],
   "source": [
    "# An element is a majority if it appears more than n/2 times. Give an algorithm takes an array of n element as argument and identifies a majority (if it exists).   \n",
    "def find_majority_element(arr):\n",
    "    candidate = None\n",
    "    count = 0\n",
    "    \n",
    "    for num in arr:\n",
    "        if count == 0:\n",
    "            candidate = num\n",
    "            count = 1\n",
    "        elif num == candidate:\n",
    "            count += 1\n",
    "        else:\n",
    "            count -= 1\n",
    "            \n",
    "    count = 0\n",
    "    for num in arr:\n",
    "        if num == candidate:\n",
    "            count += 1\n",
    "    \n",
    "    if count > len(arr) // 2:\n",
    "        return candidate\n",
    "    else:\n",
    "        return None\n",
    "\n",
    "arr = [3, 3, 4, 2, 4, 4, 2, 4, 4]\n",
    "majority_element = find_majority_element(arr)\n",
    "print(f\"The majority element is: {majority_element}\")\n"
   ]
  },
  {
   "cell_type": "code",
   "execution_count": 10,
   "id": "4666919c-a00c-4dfc-a3ed-20817afdc557",
   "metadata": {},
   "outputs": [
    {
     "name": "stdout",
     "output_type": "stream",
     "text": [
      "The row with the maximum number of 0's is: 0\n"
     ]
    }
   ],
   "source": [
    "#Given n × n matrix, and in each row all 1’s are followed by 0’s. Find the row with the maximum number of 0’s. \n",
    "def row_with_max_zeros(matrix):\n",
    "    n = len(matrix)\n",
    "    max_row_index = -1\n",
    "    max_zero_count = -1\n",
    "    \n",
    "    row = 0\n",
    "    col = n - 1\n",
    "    \n",
    "    while row < n and col >= 0:\n",
    "        if matrix[row][col] == 0:\n",
    "            zero_count = n - col\n",
    "            if zero_count > max_zero_count:\n",
    "                max_zero_count = zero_count\n",
    "                max_row_index = row\n",
    "            # Move down to the next row\n",
    "            row += 1\n",
    "        else:\n",
    "            col -= 1\n",
    "    \n",
    "    return max_row_index\n",
    "\n",
    "# Example usage\n",
    "matrix = [\n",
    "    [1, 1, 1, 0, 0],\n",
    "    [1, 1, 0, 0, 0],\n",
    "    [1, 0, 0, 0, 0],\n",
    "    [0, 0, 0, 0, 0],\n",
    "    [0, 0, 0, 0, 0]\n",
    "]\n",
    "row_index = row_with_max_zeros(matrix)\n",
    "print(f\"The row with the maximum number of 0's is: {row_index}\")\n"
   ]
  },
  {
   "cell_type": "code",
   "execution_count": 11,
   "id": "92a427dc-46e3-4fa5-9082-27c5c5db0449",
   "metadata": {},
   "outputs": [
    {
     "name": "stdout",
     "output_type": "stream",
     "text": [
      "Sorted array: [0, 0, 0, 0, 0, 1, 1, 1, 1, 1, 2, 2]\n"
     ]
    }
   ],
   "source": [
    "#Sort an array of 0’s, 1’s and 2’s [or R’s, G’s and B’s]: Given an array A[] consisting of 0’s, 1’s and 2’s, give an algorithm for sorting A[].The algorithm should put all 0’s first, then all 1’s and finally all 2’s at the end. Example Input = {0,1,1,0,1,2,1,2,0,0,0,1}, Output = {0,0,0,0,0,1,1,1,1,1,2,2} \n",
    "\n",
    "def sort_012(arr):\n",
    "    low = 0\n",
    "    mid = 0\n",
    "    high = len(arr) - 1\n",
    "    \n",
    "    while mid <= high:\n",
    "        if arr[mid] == 0:\n",
    "            arr[low], arr[mid] = arr[mid], arr[low]\n",
    "            low += 1\n",
    "            mid += 1\n",
    "        elif arr[mid] == 1:\n",
    "            mid += 1\n",
    "        else:  # arr[mid] == 2\n",
    "            arr[high], arr[mid] = arr[mid], arr[high]\n",
    "            high -= 1\n",
    "\n",
    "# Example usage\n",
    "arr = [0, 1, 1, 0, 1, 2, 1, 2, 0, 0, 0, 1]\n",
    "sort_012(arr)\n",
    "print(f\"Sorted array: {arr}\")\n"
   ]
  }
 ],
 "metadata": {
  "kernelspec": {
   "display_name": "Python 3 (ipykernel)",
   "language": "python",
   "name": "python3"
  },
  "language_info": {
   "codemirror_mode": {
    "name": "ipython",
    "version": 3
   },
   "file_extension": ".py",
   "mimetype": "text/x-python",
   "name": "python",
   "nbconvert_exporter": "python",
   "pygments_lexer": "ipython3",
   "version": "3.10.8"
  }
 },
 "nbformat": 4,
 "nbformat_minor": 5
}

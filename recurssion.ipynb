{
 "cells": [
  {
   "cell_type": "code",
   "execution_count": 1,
   "id": "fed84bcd-a46f-4f30-98c2-af60035bb69e",
   "metadata": {},
   "outputs": [
    {
     "name": "stdout",
     "output_type": "stream",
     "text": [
      "3\n"
     ]
    }
   ],
   "source": [
    "# Given two strings word1 and word2, return the minimum number of operations required to convert word1    to word2.  \n",
    "# Example 1:  \n",
    "# Input: word1 = \"horse\", word2 = \"ros\"  \n",
    "# Output: 3  \n",
    "def minDistance(word1: str, word2: str) -> int:\n",
    "    def solve(i: int, j: int) -> int:\n",
    "        # Base cases\n",
    "        if i == 0:  # word1 is empty, insert all characters of word2\n",
    "            return j\n",
    "        if j == 0:  # word2 is empty, delete all characters of word1\n",
    "            return i\n",
    "\n",
    "        # If last characters match, no additional operation is needed\n",
    "        if word1[i - 1] == word2[j - 1]:\n",
    "            return solve(i - 1, j - 1)\n",
    "        else:\n",
    "            # Calculate the minimum operations among insert, delete, and replace\n",
    "            insert_op = solve(i, j - 1)    \n",
    "            delete_op = solve(i - 1, j)     \n",
    "            replace_op = solve(i - 1, j - 1)  \n",
    "            return 1 + min(insert_op, delete_op, replace_op)\n",
    "\n",
    "    return solve(len(word1), len(word2))\n",
    "\n",
    "# Example usage\n",
    "word1 = \"horse\"\n",
    "word2 = \"ros\"\n",
    "print(minDistance(word1, word2))\n"
   ]
  },
  {
   "cell_type": "code",
   "execution_count": 2,
   "id": "2764cc7f-1623-4914-9078-1bb13b06ac45",
   "metadata": {},
   "outputs": [
    {
     "name": "stdout",
     "output_type": "stream",
     "text": [
      "22\n"
     ]
    }
   ],
   "source": [
    "# Print the max value of the array [ 13, 1, -3, 22, 5].  \n",
    "def findMax(arr, n):\n",
    "    # Base case: If there's only one element, return it\n",
    "    if n == 1:\n",
    "        return arr[0]\n",
    "\n",
    "    # Recursive case: Compare the last element with the maximum of the rest\n",
    "    return max(arr[n-1], findMax(arr, n-1))\n",
    "\n",
    "arr = [13, 1, -3, 22, 5]\n",
    "print(findMax(arr, len(arr))) \n"
   ]
  },
  {
   "cell_type": "code",
   "execution_count": 3,
   "id": "286be903-7c46-4f1f-ab2e-e38bcdc6569a",
   "metadata": {},
   "outputs": [
    {
     "name": "stdout",
     "output_type": "stream",
     "text": [
      "120\n"
     ]
    }
   ],
   "source": [
    "# Find the sum of the values of the array [92, 23, 15, -20, 10].  \n",
    "def findSum(arr, n):\n",
    "    # Base case: If the array is empty\n",
    "    if n == 0:\n",
    "        return 0\n",
    "    \n",
    "    # Recursive case: Sum the last element with the sum of the rest\n",
    "    return arr[n - 1] + findSum(arr, n - 1)\n",
    "\n",
    "\n",
    "arr = [92, 23, 15, -20, 10]\n",
    "print(findSum(arr, len(arr)))\n"
   ]
  },
  {
   "cell_type": "code",
   "execution_count": 4,
   "id": "dbbceed9-7bd9-42d7-aeba-b259971248d1",
   "metadata": {},
   "outputs": [
    {
     "name": "stdout",
     "output_type": "stream",
     "text": [
      "153 is an Armstrong number.\n"
     ]
    }
   ],
   "source": [
    "#Given a number n. Print if it is an armstrong number or not.An armstrong number is a number if the sum of every digit in that number raised to the power of total digits in that number is equal to the number. \n",
    "def is_armstrong(n):\n",
    "    # Convert the number to a string to easily iterate over digits\n",
    "    str_n = str(n)\n",
    "    \n",
    "    # Calculate the number of digits\n",
    "    num_digits = len(str_n)\n",
    "    \n",
    "    sum_of_powers = sum(int(digit) ** num_digits for digit in str_n)\n",
    "    \n",
    "    return sum_of_powers == n\n",
    "\n",
    "\n",
    "n = 153\n",
    "if is_armstrong(n):\n",
    "    print(f\"{n} is an Armstrong number.\")\n",
    "else:\n",
    "    print(f\"{n} is not an Armstrong number.\")\n"
   ]
  },
  {
   "cell_type": "code",
   "execution_count": null,
   "id": "3833574c-e134-42ff-b80e-72e28fce430c",
   "metadata": {},
   "outputs": [],
   "source": []
  }
 ],
 "metadata": {
  "kernelspec": {
   "display_name": "Python 3 (ipykernel)",
   "language": "python",
   "name": "python3"
  },
  "language_info": {
   "codemirror_mode": {
    "name": "ipython",
    "version": 3
   },
   "file_extension": ".py",
   "mimetype": "text/x-python",
   "name": "python",
   "nbconvert_exporter": "python",
   "pygments_lexer": "ipython3",
   "version": "3.10.8"
  }
 },
 "nbformat": 4,
 "nbformat_minor": 5
}

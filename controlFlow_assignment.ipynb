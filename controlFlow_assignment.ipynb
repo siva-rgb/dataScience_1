{
 "cells": [
  {
   "cell_type": "code",
   "execution_count": 1,
   "id": "5b6982c2-043b-4353-9533-b788851e8f58",
   "metadata": {},
   "outputs": [
    {
     "name": "stdin",
     "output_type": "stream",
     "text": [
      "Enter your Numbver 5\n"
     ]
    },
    {
     "name": "stdout",
     "output_type": "stream",
     "text": [
      "Positive\n"
     ]
    }
   ],
   "source": [
    "#1. Write a Python program to check if a given number is positive or negative.\n",
    "\n",
    "a=int(input('Enter your Numbver'))\n",
    "if a<0:\n",
    "    print('Negetive')\n",
    "else:\n",
    "    print('Positive')"
   ]
  },
  {
   "cell_type": "code",
   "execution_count": 2,
   "id": "afb92641-b2ed-42d8-98fd-a5f05633e266",
   "metadata": {},
   "outputs": [
    {
     "name": "stdin",
     "output_type": "stream",
     "text": [
      "Enter your Age 23\n"
     ]
    },
    {
     "name": "stdout",
     "output_type": "stream",
     "text": [
      "You are eilgible to vote\n"
     ]
    }
   ],
   "source": [
    "#2. Create a program that determines if a person is eligible to vote based on their age.\n",
    "age=int(input('Enter your Age'))\n",
    "\n",
    "if age<18:\n",
    "    print('You are not eligible to vote')\n",
    "else:\n",
    "    print('You are eilgible to vote')\n",
    "    "
   ]
  },
  {
   "cell_type": "code",
   "execution_count": 2,
   "id": "5cc8f73a-b936-4270-b81c-230fe7e61b32",
   "metadata": {},
   "outputs": [
    {
     "name": "stdin",
     "output_type": "stream",
     "text": [
      "Enter 2 number 5 6\n"
     ]
    },
    {
     "name": "stdout",
     "output_type": "stream",
     "text": [
      "6 is greater\n"
     ]
    }
   ],
   "source": [
    "#3. Develop a program to find the maximum of two numbers using if-else statements.\n",
    "\n",
    "def maxi(a,b):\n",
    "    if a>b:\n",
    "        return a\n",
    "    else:\n",
    "        return b\n",
    "    \n",
    "a, b= input('Enter 2 number').split()\n",
    "\n",
    "ans=maxi(int(a),int(b))\n",
    "print(ans,'is greater')"
   ]
  },
  {
   "cell_type": "code",
   "execution_count": 14,
   "id": "776c96fc-9b73-41e9-b637-4196ec1d3dad",
   "metadata": {},
   "outputs": [
    {
     "name": "stdin",
     "output_type": "stream",
     "text": [
      "Enter the year 1000\n"
     ]
    },
    {
     "name": "stdout",
     "output_type": "stream",
     "text": [
      "Not Leap Year\n"
     ]
    }
   ],
   "source": [
    "#4. Write a Python script to classify a given year as a leap year or not.\n",
    "def is_leap(y):\n",
    "    if((y%4==0) and ((y%400==0) or (y%100!=0))):\n",
    "        return 1\n",
    "    else:\n",
    "        return 0\n",
    "year=int(input('Enter the year'))\n",
    "ans=is_leap(year)\n",
    "if(ans==1):\n",
    "    print('Leap Year')\n",
    "else:\n",
    "    print('Not Leap Year')"
   ]
  },
  {
   "cell_type": "code",
   "execution_count": 4,
   "id": "48f51726-406e-4b9d-88d5-2b9ee75ab9a8",
   "metadata": {},
   "outputs": [
    {
     "name": "stdin",
     "output_type": "stream",
     "text": [
      "Enter a single character a\n"
     ]
    },
    {
     "name": "stdout",
     "output_type": "stream",
     "text": [
      "It is vowel\n"
     ]
    }
   ],
   "source": [
    "#5. Create a program that checks whether a character is a vowel or a consonant.\n",
    "\n",
    "vowel=input('Enter a single character')\n",
    "if vowel=='a' or vowel=='e' or vowel=='i' or vowel=='o' or vowel=='u':\n",
    "    print('It is vowel')\n",
    "else:\n",
    "    print('It is not a consonannt')"
   ]
  },
  {
   "cell_type": "code",
   "execution_count": 5,
   "id": "4fa597df-78ad-4e03-8a4c-bd4d8a1364f0",
   "metadata": {},
   "outputs": [
    {
     "name": "stdin",
     "output_type": "stream",
     "text": [
      "Enter your number 12\n"
     ]
    },
    {
     "name": "stdout",
     "output_type": "stream",
     "text": [
      "Number is Even\n"
     ]
    }
   ],
   "source": [
    "#6. Implement a program to determine whether a given number is even or odd.\n",
    "\n",
    "num=int(input('Enter your number'))\n",
    "\n",
    "if (num&1)==0:\n",
    "    print('Number is Even')\n",
    "else:\n",
    "    print('Number is Odd')"
   ]
  },
  {
   "cell_type": "code",
   "execution_count": 11,
   "id": "5aa4b591-a715-40a6-a2f4-c241cd53b68f",
   "metadata": {},
   "outputs": [
    {
     "name": "stdin",
     "output_type": "stream",
     "text": [
      "Enter your number 23\n"
     ]
    },
    {
     "name": "stdout",
     "output_type": "stream",
     "text": [
      "23\n"
     ]
    }
   ],
   "source": [
    "#7. Write a Python function to calculate the absolute value of a number without using the `abs()` function.\n",
    "\n",
    "def abs_num(num):\n",
    "    if num<0:\n",
    "        return num*-1\n",
    "    else:\n",
    "        return num\n",
    "    \n",
    "num=int(input('Enter your number'))\n",
    "\n",
    "ans=abs_num(num)\n",
    "print(ans)"
   ]
  },
  {
   "cell_type": "code",
   "execution_count": 23,
   "id": "f0ad4273-7bec-4716-beef-db70db0ecf46",
   "metadata": {},
   "outputs": [
    {
     "name": "stdin",
     "output_type": "stream",
     "text": [
      "Enter therr number 23 45 11\n"
     ]
    },
    {
     "name": "stdout",
     "output_type": "stream",
     "text": [
      "45\n"
     ]
    }
   ],
   "source": [
    "#8. Develop a program that determines the largest of three given numbers using if-else statements.\n",
    "def greatest_three(a, b, c):\n",
    "    if a>b and a>c:\n",
    "        return a\n",
    "    elif b>c and b>a:\n",
    "        return b\n",
    "    else:\n",
    "        return c\n",
    "    \n",
    "a,b,c=input('Enter therr number').split()\n",
    "\n",
    "ans=greatest_three(int(a), int(b), int(c))\n",
    "print(ans)"
   ]
  },
  {
   "cell_type": "code",
   "execution_count": null,
   "id": "e5ad2efa-5ad1-4c4e-8222-d229280fd2e1",
   "metadata": {},
   "outputs": [],
   "source": [
    "#9. Create a program that checks if a given string is a palindrome.\n",
    "\n",
    "string=input('Enter your String')\n",
    "\n",
    "i=0\n",
    "j=len(string)-1\n",
    "is_palindrome=False\n",
    "while i<j:\n",
    "    if string[i]==string[j]:\n",
    "        is_palindrome=True\n",
    "    else:\n",
    "        is_palindrome=False\n",
    "    i+=1\n",
    "    j-=1\n",
    "    \n",
    "if is_palindrome:\n",
    "    print('This is a Palindrome String')\n",
    "else:\n",
    "    print('This is not a Palindrome String ')"
   ]
  },
  {
   "cell_type": "code",
   "execution_count": 19,
   "id": "49a5910b-696d-42f6-bc5a-a25d5d05dd18",
   "metadata": {},
   "outputs": [
    {
     "name": "stdin",
     "output_type": "stream",
     "text": [
      "Enter the score 92\n"
     ]
    },
    {
     "name": "stdout",
     "output_type": "stream",
     "text": [
      "Grade: A\n"
     ]
    }
   ],
   "source": [
    "#10. Write a Python program to calculate the grade based on a student's score.\n",
    "\n",
    "score= int(input('Enter the score'))\n",
    "\n",
    "if score>=90:\n",
    "    print('Grade: A')\n",
    "elif score<90 and score>=70:\n",
    "    print('Grade: B')\n",
    "elif score<70 and score>=50:\n",
    "    print('Grade: C')\n",
    "elif score<50 and score>=30:\n",
    "    print('Grade: D')\n",
    "else:\n",
    "    print('Gread: F')"
   ]
  },
  {
   "cell_type": "code",
   "execution_count": 25,
   "id": "9787b925-a8c3-4007-a948-e8d185efd6cb",
   "metadata": {},
   "outputs": [
    {
     "name": "stdin",
     "output_type": "stream",
     "text": [
      "Enter therr number 100 23 34\n"
     ]
    },
    {
     "name": "stdout",
     "output_type": "stream",
     "text": [
      "100\n"
     ]
    }
   ],
   "source": [
    "#Write a program to find the largest among three numbers using nested if-else statements.\n",
    "def largest_three(a, b, c):\n",
    "    if a>b and a>c:\n",
    "        return a\n",
    "    elif b>c and b>a:\n",
    "        return b\n",
    "    else:\n",
    "        return c\n",
    "    \n",
    "a,b,c=input('Enter therr number').split()\n",
    "\n",
    "ans=largest_three(int(a), int(b), int(c))\n",
    "print(ans)"
   ]
  },
  {
   "cell_type": "code",
   "execution_count": 8,
   "id": "5b7823b2-83fb-4fed-90d0-eb92d26aac53",
   "metadata": {},
   "outputs": [
    {
     "name": "stdin",
     "output_type": "stream",
     "text": [
      "Enter the three side of Tringle 10 10 12\n"
     ]
    },
    {
     "name": "stdout",
     "output_type": "stream",
     "text": [
      "isosceles triangle\n"
     ]
    }
   ],
   "source": [
    "#12. Implement a program to determine if a triangle is equilateral, isosceles, or scalene.\n",
    "def triangle(a,b,c):\n",
    "    if a==b and a==c:\n",
    "        print('equilateral tringle')\n",
    "    elif a==b or b==c or a==c:\n",
    "        print('isosceles triangle')\n",
    "    else:\n",
    "        print('scalene triangle')\n",
    "a,b,c= input('Enter the three side of Tringle').split()\n",
    "\n",
    "triangle(int(a),int(b),int(c))"
   ]
  },
  {
   "cell_type": "code",
   "execution_count": null,
   "id": "1bc367b9-ba7c-423c-ab1a-0853889658ed",
   "metadata": {},
   "outputs": [],
   "source": [
    "#13. Develop a program that checks if a year is a leap year and also if it is a century year.\n",
    "year=int(input('Enter the Year'))\n",
    "\n",
    "if (year%4==0)and(year%400==0):\n",
    "    print('Leap year')\n",
    "else:\n",
    "    print('Not not year')\n"
   ]
  },
  {
   "cell_type": "code",
   "execution_count": null,
   "id": "317ec720-18ce-4ca0-81d0-683164e50e7c",
   "metadata": {},
   "outputs": [],
   "source": [
    "#14. Write a Python script to determine if a number is positive, negative, or zero.\n",
    "\n",
    "num=int(input('Enter your number'))\n",
    "\n",
    "if num<0:\n",
    "    print('Negetive')\n",
    "elif(num==0):\n",
    "    print('Zero')\n",
    "else:\n",
    "    print('positive')"
   ]
  },
  {
   "cell_type": "code",
   "execution_count": null,
   "id": "f233203d-681d-49f4-b823-f242b205e5a9",
   "metadata": {},
   "outputs": [],
   "source": [
    "#15. Create a program to check if a person is a teenager (between 13 and 19 years old).\n",
    "\n",
    "age= int(input('Enter age'))\n",
    "\n",
    "if age>13 and age<19:\n",
    "    print('You are teenager')"
   ]
  },
  {
   "cell_type": "code",
   "execution_count": 3,
   "id": "87c81385-a0a9-4881-8464-e6c023eb0fa5",
   "metadata": {},
   "outputs": [
    {
     "name": "stdin",
     "output_type": "stream",
     "text": [
      "Enter three angle of a tringle 120 30 29\n"
     ]
    },
    {
     "name": "stdout",
     "output_type": "stream",
     "text": [
      "Tringle is acute\n"
     ]
    }
   ],
   "source": [
    "#16 Develop a program that determines the type of angle based on its measure (acute, obtuse, or right).\n",
    "\n",
    "def angle(a, b, c):\n",
    "    if (a+b+c)>180:\n",
    "        return \"invalid\"\n",
    "    elif a>120 or b>120 or c>120:\n",
    "        return \"Obtuse\"\n",
    "    elif a==90 or b==90 or c==90:\n",
    "        return \"Right\"\n",
    "    else:\n",
    "        return \"acute\"\n",
    "\n",
    "a,b,c=input('Enter three angle of a tringle').split()\n",
    "\n",
    "ans=angle(int(a), int(b), int(c))\n",
    "\n",
    "print('Tringle is',ans)"
   ]
  },
  {
   "cell_type": "code",
   "execution_count": 7,
   "id": "bd051421-e51b-4709-bb2a-4fa930a675da",
   "metadata": {},
   "outputs": [
    {
     "name": "stdin",
     "output_type": "stream",
     "text": [
      "Enter the cofficient of quadratic equation in order of (ax^2+bx+c) 1 -5 6 \n"
     ]
    },
    {
     "name": "stdout",
     "output_type": "stream",
     "text": [
      "3.0 2.0\n"
     ]
    }
   ],
   "source": [
    "#17 Write a Python program to calculate the roots of a quadratic equation.\n",
    "import math\n",
    "def roots(a,b,c):\n",
    "    p= ((b*b)-(4*a*c))\n",
    "    \n",
    "    if p<0:\n",
    "        print('imaginary roots')\n",
    "    else:\n",
    "        r= p**(1/2)\n",
    "        ans1= (-b+r)/2*a\n",
    "        ans2= (-b-r)/2*a\n",
    "        print('Roots are',ans1, ans2)\n",
    "    \n",
    "a,b,c= input('Enter the cofficient of quadratic equation in order of (ax^2+bx+c)').split()\n",
    "\n",
    "roots(int(a), int(b), int(c))"
   ]
  },
  {
   "cell_type": "code",
   "execution_count": 10,
   "id": "7725548d-f9d3-4c5e-a7f2-fde180e43b7e",
   "metadata": {},
   "outputs": [
    {
     "name": "stdin",
     "output_type": "stream",
     "text": [
      "Enter a Number bewtween 1 to7 5\n"
     ]
    },
    {
     "name": "stdout",
     "output_type": "stream",
     "text": [
      "Friday\n"
     ]
    }
   ],
   "source": [
    "#18. Implement a program to determine the day of the week based on a user-provided number (1 for Monday, 2 for Tuesday, etc.).\n",
    "\n",
    "num= int(input('Enter a Number bewtween 1 to7'))\n",
    "\n",
    "if num==1:\n",
    "    print('Monday')\n",
    "elif num==2:\n",
    "    print('Tuesday')\n",
    "elif num==3:\n",
    "    print('Wednesday')\n",
    "\n",
    "elif num==4:\n",
    "    print('Thursday')\n",
    "elif num==5:\n",
    "    print('Friday')\n",
    "elif num==6:\n",
    "    print('Saturday')\n",
    "elif num==7:\n",
    "    print('Sunday')\n",
    "else:\n",
    "    print('invalid')"
   ]
  },
  {
   "cell_type": "code",
   "execution_count": 14,
   "id": "a9d55368-44c8-4f1f-9ce3-975b3bd988a3",
   "metadata": {},
   "outputs": [
    {
     "name": "stdin",
     "output_type": "stream",
     "text": [
      "Enter the year 2004\n"
     ]
    },
    {
     "name": "stdout",
     "output_type": "stream",
     "text": [
      "Not leap year that divisible by 400\n"
     ]
    }
   ],
   "source": [
    "#19. Create a program that determines if a year is a leap year and also if it is evenly divisible by 400.\n",
    "\n",
    "year=int(input('Enter the year'))\n",
    "\n",
    "if(year%4==0) and (year%400==0):\n",
    "    print('Leap year that is divisible by 400')\n",
    "else:\n",
    "    print('Not leap year that divisible by 400')"
   ]
  },
  {
   "cell_type": "code",
   "execution_count": 5,
   "id": "1842acc4-8d8a-4955-ad23-f2e4e98af950",
   "metadata": {},
   "outputs": [
    {
     "name": "stdin",
     "output_type": "stream",
     "text": [
      "Enter your number 8\n"
     ]
    },
    {
     "name": "stdout",
     "output_type": "stream",
     "text": [
      "Not prime Number\n"
     ]
    }
   ],
   "source": [
    "#20. Develop a program that checks if a given number is prime or not using nested if-else statements. \n",
    "#time O(sqrt(N))\n",
    "def is_prime(num):\n",
    "    flag=1\n",
    "    if(num%2==0):\n",
    "        flag=0\n",
    "    if(num%3==0):\n",
    "        flag=0\n",
    "        \n",
    "    for i in range(4,num):\n",
    "        i*=i\n",
    "        if(num%i==0):\n",
    "            flag=0\n",
    "    return flag\n",
    "num=int(input('Enter your number'))\n",
    "\n",
    "ans=is_prime(num)\n",
    "\n",
    "if ans:\n",
    "    print('prime number')\n",
    "else:\n",
    "    print('Not prime Number')\n",
    "\n"
   ]
  },
  {
   "cell_type": "code",
   "execution_count": null,
   "id": "7adfdea2-e126-4aa0-a3b0-edd9e636d4fe",
   "metadata": {},
   "outputs": [],
   "source": [
    "#21. Write a Python program to assign grades based on different ranges of scores using elif statements\n",
    "\n",
    "score= int(input('Enter the score'))\n",
    "\n",
    "if score>=90:\n",
    "    print('Grade: A')\n",
    "elif score<90 and score>=70:\n",
    "    print('Grade: B')\n",
    "elif score<70 and score>=50:\n",
    "    print('Grade: C')\n",
    "elif score<50 and score>=30:\n",
    "    print('Grade: D')\n",
    "else:\n",
    "    print('Gread: F')"
   ]
  },
  {
   "cell_type": "code",
   "execution_count": 1,
   "id": "7ea32a1d-334e-4c4c-a217-e28c0f65c39b",
   "metadata": {},
   "outputs": [
    {
     "name": "stdin",
     "output_type": "stream",
     "text": [
      "Enter three angle of a tringle 60 60 60\n"
     ]
    },
    {
     "name": "stdout",
     "output_type": "stream",
     "text": [
      "Tringle is acute\n"
     ]
    }
   ],
   "source": [
    "#22. Implement a program to determine the type of a triangle based on its angles. \n",
    "\n",
    "def angle(a, b, c):\n",
    "    if (a+b+c)!=180:\n",
    "        return \"invalid\"\n",
    "    elif a>120 or b>120 or c>120:\n",
    "        return \"Obtuse Tringle\"\n",
    "    elif a==90 or b==90 or c==90:\n",
    "        return \"Rightangle Trangle\"\n",
    "    else:\n",
    "        return \"acute\"\n",
    "\n",
    "a,b,c=input('Enter three angle of a tringle').split()\n",
    "\n",
    "ans=angle(int(a), int(b), int(c))\n",
    "\n",
    "print('Tringle is',ans)\n"
   ]
  },
  {
   "cell_type": "code",
   "execution_count": 7,
   "id": "ab2a7dca-9871-4390-a6e3-7ddc2d195620",
   "metadata": {},
   "outputs": [
    {
     "name": "stdin",
     "output_type": "stream",
     "text": [
      "Enter age 23\n",
      "Enter Weight in kg 65\n",
      "Enter Height in meter 1.64\n"
     ]
    },
    {
     "name": "stdout",
     "output_type": "stream",
     "text": [
      "Normal\n"
     ]
    }
   ],
   "source": [
    "#23. Develop a program to categorize a given person's BMI into underweight, normal, overweight, or obese using elif statements\n",
    "\n",
    "age=int(input('Enter age'))\n",
    "\n",
    "weight=int(input('Enter Weight in kg'))\n",
    "height=float(input('Enter Height in meter'))\n",
    "\n",
    "bmi= weight/(height*height)\n",
    "\n",
    "if bmi<=18.4:\n",
    "    print('Under Weight')\n",
    "elif bmi>18.5 and bmi<=24.9:\n",
    "    print('Normal')\n",
    "elif bmi>=25 and bmi<=39.9:\n",
    "    print('over weight')\n",
    "else:\n",
    "    print('Obese')"
   ]
  },
  {
   "cell_type": "code",
   "execution_count": null,
   "id": "e8996d3f-2ea5-468f-98e8-bf3b1cf65e3b",
   "metadata": {},
   "outputs": [],
   "source": [
    "#24. Create a program that determines whether a given number is positive, negative, or zero using elif statements.\n",
    "\n",
    "num=int(input('Enter your number'))\n",
    "\n",
    "if num<0:\n",
    "    print('Negetive')\n",
    "elif(num==0):\n",
    "    print('Zero')\n",
    "else:\n",
    "    print('positive')"
   ]
  },
  {
   "cell_type": "code",
   "execution_count": 3,
   "id": "587441bc-6101-4bfd-a48f-90f8dff5e420",
   "metadata": {},
   "outputs": [
    {
     "name": "stdin",
     "output_type": "stream",
     "text": [
      "Enter a character a\n"
     ]
    },
    {
     "name": "stdout",
     "output_type": "stream",
     "text": [
      "lower case\n"
     ]
    }
   ],
   "source": [
    "#25. Write a Python script to determine the type of a character (uppercase, lowercase, or special) using elif statements\n",
    "\n",
    "char=input('Enter a character')\n",
    "\n",
    "if char>='a' and char<='z':\n",
    "    print('lower case')\n",
    "elif char>='A' and char<='Z':\n",
    "    print('Upper Case')\n",
    "else:\n",
    "    print('Special Character')"
   ]
  },
  {
   "cell_type": "code",
   "execution_count": 10,
   "id": "350d4f86-e731-47cf-a0ba-8a496bdecc28",
   "metadata": {},
   "outputs": [
    {
     "name": "stdin",
     "output_type": "stream",
     "text": [
      "Enter purchase amount  5555\n"
     ]
    },
    {
     "name": "stdout",
     "output_type": "stream",
     "text": [
      "Discount Amount = 55.50\n",
      "Net Bill Amount = 5499.50\n"
     ]
    }
   ],
   "source": [
    "#26. Implement a program to calculate the discounted price based on different purchase amounts using elif statements.\n",
    "\n",
    "price=int(input('Enter purchase amount '))\n",
    "\n",
    "if price<=5000:\n",
    "    dis=0\n",
    "elif price>5000 and price<=10000:\n",
    "    dis=(price-5000)*(10/100.0)\n",
    "elif price>10000 and price<=20000:\n",
    "    dis=(price-10000)*(20/100.0)\n",
    "elif price>20000 and price<=30000:\n",
    "    dis=(price-20000)*(30/100.0)\n",
    "else:\n",
    "    dis=(price-30000)*(40/100.0)\n",
    "\n",
    "print('Discount Amount = {:.2f}'.format(dis))\n",
    "print('Net Bill Amount = {:.2f}'.format(price-dis))"
   ]
  },
  {
   "cell_type": "code",
   "execution_count": 1,
   "id": "ec4ce06d-e321-4d09-9bf8-ac0dc4bc1340",
   "metadata": {},
   "outputs": [
    {
     "name": "stdout",
     "output_type": "stream",
     "text": [
      "3500\n"
     ]
    }
   ],
   "source": [
    "#27. Develop a program to calculate the electricity bill based on different consumption slabs using elif statements.\n",
    "\n",
    "def calculateBill(units):\n",
    "\n",
    "\tif (units <= 100):\n",
    "\t\n",
    "\t\treturn units * 10;\n",
    "\t\n",
    "\telif (units <= 200):\n",
    "\t\n",
    "\t\treturn ((100 * 10) +\n",
    "\t\t\t\t(units - 100) * 15);\n",
    "\t\n",
    "\telif (units <= 300):\n",
    "\t\n",
    "\t\treturn ((100 * 10) +\n",
    "\t\t\t\t(100 * 15) +\n",
    "\t\t\t\t(units - 200) * 20);\n",
    "\t\n",
    "\telif (units > 300):\n",
    "\t\n",
    "\t\treturn ((100 * 10) +\n",
    "\t\t\t\t(100 * 15) +\n",
    "\t\t\t\t(100 * 20) +\n",
    "\t\t\t\t(units - 300) * 25);\n",
    "\t\n",
    "\treturn 0;\n",
    "\n",
    "\n",
    "units = int(input('Enter unit'));\n",
    "print(calculateBill(units));\n",
    "\n"
   ]
  },
  {
   "cell_type": "code",
   "execution_count": 2,
   "id": "43f52ff1-9e01-48eb-8079-f83d75736e16",
   "metadata": {},
   "outputs": [
    {
     "name": "stdin",
     "output_type": "stream",
     "text": [
      "Enter the length of side 1:  8\n",
      "Enter the length of side 2:  8\n",
      "Enter the length of side 3:  8\n",
      "Enter the length of side 4:  8\n",
      "Enter the measure of angle 1 (in degrees):  90\n",
      "Enter the measure of angle 2 (in degrees):  90\n",
      "Enter the measure of angle 3 (in degrees):  90\n",
      "Enter the measure of angle 4 (in degrees):  90\n"
     ]
    },
    {
     "name": "stdout",
     "output_type": "stream",
     "text": [
      "It's a square.\n"
     ]
    }
   ],
   "source": [
    "#28. Create a program to determine the type of quadrilateral based on its angles and sides using elif statements\n",
    "\n",
    "# Input the lengths of the four sides\n",
    "side1 = float(input(\"Enter the length of side 1: \"))\n",
    "side2 = float(input(\"Enter the length of side 2: \"))\n",
    "side3 = float(input(\"Enter the length of side 3: \"))\n",
    "side4 = float(input(\"Enter the length of side 4: \"))\n",
    "\n",
    "# Input the measures of the four angles\n",
    "angle1 = float(input(\"Enter the measure of angle 1 (in degrees): \"))\n",
    "angle2 = float(input(\"Enter the measure of angle 2 (in degrees): \"))\n",
    "angle3 = float(input(\"Enter the measure of angle 3 (in degrees): \"))\n",
    "angle4 = float(input(\"Enter the measure of angle 4 (in degrees): \"))\n",
    "\n",
    "# Check if it's a quadrilateral\n",
    "if angle1 + angle2 + angle3 + angle4 == 360:\n",
    "    \n",
    "    if side1 == side2 == side3 == side4 and angle1 == angle2 == angle3 == angle4 == 90:\n",
    "        print(\"It's a square.\")\n",
    "\n",
    "    elif side1 == side2 == side3 == side4 and (angle1 == angle3 == 90 or angle2 == angle4 == 90):\n",
    "        print(\"It's a rectangle.\")\n",
    "\n",
    "    elif (side1 == side3 and side2 == side4) or (side1 == side2 and side3 == side4):\n",
    "        print(\"It's a parallelogram.\")\n",
    "\n",
    "    elif side1 == side2 == side3 == side4:\n",
    "        print(\"It's a rhombus.\")\n",
    " \n",
    "    elif (angle1 == angle2 != angle3 == angle4) or (angle2 == angle3 != angle4 == angle1):\n",
    "        print(\"It's a trapezoid.\")\n",
    "    else:\n",
    "        print(\"It's a generic quadrilateral.\")\n",
    "else:\n",
    "    print(\"It's not a valid quadrilateral.\")\n"
   ]
  },
  {
   "cell_type": "code",
   "execution_count": null,
   "id": "3fa06c51-840b-43d0-8b33-9f419e8d1e0e",
   "metadata": {},
   "outputs": [],
   "source": [
    "#29. Write a Python script to determine the season based on a user-provided month using elif statements.\n",
    "\n",
    "# Input the month from the user\n",
    "month = input(\"Enter a month (e.g., January, February, etc.): \").lower()\n",
    "\n",
    "# Check the month and determine the season\n",
    "if month in [\"december\", \"january\", \"february\"]:\n",
    "    season = \"winter\"\n",
    "elif month in [\"march\", \"april\", \"may\"]:\n",
    "    season = \"spring\"\n",
    "elif month in [\"june\", \"july\", \"august\"]:\n",
    "    season = \"summer\"\n",
    "elif month in [\"september\", \"october\", \"november\"]:\n",
    "    season = \"autumn\"\n",
    "else:\n",
    "    season = \"unknown\"\n",
    "\n",
    "if season != \"unknown\":\n",
    "    print(f\"The season for {month} is {season}.\")\n",
    "else:\n",
    "    print(f\"Sorry, '{month}' is not a valid month.\")\n"
   ]
  },
  {
   "cell_type": "code",
   "execution_count": 3,
   "id": "440b83be-211f-434b-80f7-24dac5f2cffe",
   "metadata": {},
   "outputs": [
    {
     "name": "stdin",
     "output_type": "stream",
     "text": [
      "Enter a year:  2000\n",
      "Enter a month (1-12):  3\n"
     ]
    },
    {
     "name": "stdout",
     "output_type": "stream",
     "text": [
      "March 2000 has 31 days.\n",
      "2000 is a leap year.\n"
     ]
    }
   ],
   "source": [
    "#30. Implement a program to determine the type of a year (leap or common) and month (30 or 31 days) using elif statements.\n",
    "\n",
    "# Input the year and month from the user\n",
    "year = int(input(\"Enter a year: \"))\n",
    "month = int(input(\"Enter a month (1-12): \"))\n",
    "\n",
    "# Check if it's a leap year\n",
    "is_leap_year = (year % 4 == 0 and year % 100 != 0) or (year % 400 == 0)\n",
    "\n",
    "# Use elif statements to determine the number of days in the month\n",
    "if month == 1:\n",
    "    month_name = \"January\"\n",
    "    days = 31\n",
    "elif month == 2:\n",
    "    month_name = \"February\"\n",
    "    if is_leap_year:\n",
    "        days = 29\n",
    "    else:\n",
    "        days = 28\n",
    "elif month == 3:\n",
    "    month_name = \"March\"\n",
    "    days = 31\n",
    "elif month == 4:\n",
    "    month_name = \"April\"\n",
    "    days = 30\n",
    "elif month == 5:\n",
    "    month_name = \"May\"\n",
    "    days = 31\n",
    "elif month == 6:\n",
    "    month_name = \"June\"\n",
    "    days = 30\n",
    "elif month == 7:\n",
    "    month_name = \"July\"\n",
    "    days = 31\n",
    "elif month == 8:\n",
    "    month_name = \"August\"\n",
    "    days = 31\n",
    "elif month == 9:\n",
    "    month_name = \"September\"\n",
    "    days = 30\n",
    "elif month == 10:\n",
    "    month_name = \"October\"\n",
    "    days = 31\n",
    "elif month == 11:\n",
    "    month_name = \"November\"\n",
    "    days = 30\n",
    "elif month == 12:\n",
    "    month_name = \"December\"\n",
    "    days = 31\n",
    "else:\n",
    "    month_name = \"Invalid\"\n",
    "    days = None\n",
    "\n",
    "# Print the results\n",
    "if month_name != \"Invalid\":\n",
    "    print(f\"{month_name} {year} has {days} days.\")\n",
    "    if is_leap_year:\n",
    "        print(f\"{year} is a leap year.\")\n",
    "    else:\n",
    "        print(f\"{year} is a common year.\")\n",
    "else:\n",
    "    print(\"Invalid month. Please enter a month between 1 and 12.\")\n",
    "\n"
   ]
  },
  {
   "cell_type": "code",
   "execution_count": null,
   "id": "cffad394-8491-4ae0-9373-74b425d4abd1",
   "metadata": {},
   "outputs": [],
   "source": [
    "#1. Write a Python program that checks if a given number is positive, negative, or zero.\n",
    "\n",
    "num=int(input('Enter your number'))\n",
    "\n",
    "if num<0:\n",
    "    print('Negetive')\n",
    "elif(num==0):\n",
    "    print('Zero')\n",
    "else:\n",
    "    print('positive') "
   ]
  },
  {
   "cell_type": "code",
   "execution_count": null,
   "id": "2bcfbf3a-614f-4e85-ac4b-f15cb4019d3c",
   "metadata": {},
   "outputs": [],
   "source": [
    "#2. Create a program to determine if a person is eligible to vote based on their age.\n",
    "# Input the age from the user\n",
    "age = int(input(\"Enter your age: \"))\n",
    "\n",
    "# Check if the person is eligible to vote\n",
    "if age >= 18:\n",
    "    print(\"You are eligible to vote.\")\n",
    "else:\n",
    "    print(\"You are not eligible to vote.\")\n"
   ]
  },
  {
   "cell_type": "code",
   "execution_count": null,
   "id": "074d7ef9-9444-42f4-8f80-0aa3eab8aa7b",
   "metadata": {},
   "outputs": [],
   "source": [
    "#3. Write a program to find the maximum of two given numbers using conditional statements.\n",
    "# Input two numbers from the user\n",
    "num1 = int(input(\"Enter the first number: \"))\n",
    "num2 = int(input(\"Enter the second number: \"))\n",
    "\n",
    "# Find the maximum using an if statement\n",
    "if num1 > num2:\n",
    "    maximum = num1\n",
    "else:\n",
    "    maximum = num2\n",
    "\n",
    "# Print the maximum\n",
    "print(f\"The maximum of {num1} and {num2} is {maximum}.\")\n"
   ]
  },
  {
   "cell_type": "code",
   "execution_count": null,
   "id": "1983216a-2e64-49d2-89f0-4008d39d7c3d",
   "metadata": {},
   "outputs": [],
   "source": [
    "#4. Develop a program that calculates the grade of a student based on their exam score.\n",
    "\n",
    "# Input the exam score from the user\n",
    "exam_score = float(input(\"Enter the exam score (0-100): \"))\n",
    "\n",
    "# Check the score and calculate the grade\n",
    "if 90 <= exam_score <= 100:\n",
    "    grade = \"A\"\n",
    "elif 80 <= exam_score < 90:\n",
    "    grade = \"B\"\n",
    "elif 70 <= exam_score < 80:\n",
    "    grade = \"C\"\n",
    "elif 60 <= exam_score < 70:\n",
    "    grade = \"D\"\n",
    "elif 0 <= exam_score < 60:\n",
    "    grade = \"F\"\n",
    "else:\n",
    "    grade = \"Invalid score\"\n",
    "\n",
    "# Print the grade\n",
    "if grade != \"Invalid score\":\n",
    "    print(f\"Your grade is {grade}.\")\n",
    "else:\n",
    "    print(\"Invalid score. Please enter a score between 0 and 100.\")\n"
   ]
  },
  {
   "cell_type": "code",
   "execution_count": null,
   "id": "516339c8-8967-44e7-b282-3c563bbd65aa",
   "metadata": {},
   "outputs": [],
   "source": [
    "#5. Create a program that checks if a year is a leap year or not.\n",
    "\n",
    "# Input the year from the user\n",
    "year = int(input(\"Enter a year: \"))\n",
    "\n",
    "# Check if it's a leap year using conditional statements\n",
    "if (year % 4 == 0 and year % 100 != 0) or (year % 400 == 0):\n",
    "    print(f\"{year} is a leap year.\")\n",
    "else:\n",
    "    print(f\"{year} is not a leap year.\")\n"
   ]
  },
  {
   "cell_type": "code",
   "execution_count": 1,
   "id": "08dd4281-139a-442d-ba40-3c452db6d285",
   "metadata": {},
   "outputs": [
    {
     "name": "stdin",
     "output_type": "stream",
     "text": [
      "Enter the length of side 1:  4\n",
      "Enter the length of side 2:  4\n",
      "Enter the length of side 3:  7\n"
     ]
    },
    {
     "name": "stdout",
     "output_type": "stream",
     "text": [
      "This is a Isosceles Triangle.\n"
     ]
    }
   ],
   "source": [
    "# 6. Write a program to classify a triangle based on its sides' lengths\n",
    "\n",
    "def triangle_type(side1, side2, side3):\n",
    "    if side1 == side2 == side3:\n",
    "        return \"Equilateral Triangle\"\n",
    "    elif side1 == side2 or side1 == side3 or side2 == side3:\n",
    "        return \"Isosceles Triangle\"\n",
    "    else:\n",
    "        return \"Scalene Triangle\"\n",
    "\n",
    "# Input the sides' lengths\n",
    "side1 = int(input(\"Enter the length of side 1: \"))\n",
    "side2 = int(input(\"Enter the length of side 2: \"))\n",
    "side3 = int(input(\"Enter the length of side 3: \"))\n",
    "\n",
    "# Check if it's a valid triangle\n",
    "if side1 + side2 > side3 and side1 + side3 > side2 and side2 + side3 > side1:\n",
    "    triangle_type = triangle_type(side1, side2, side3)\n",
    "    print(f\"This is a {triangle_type}.\")\n",
    "else:\n",
    "    print(\"These side lengths do not form a valid triangle.\")\n"
   ]
  },
  {
   "cell_type": "code",
   "execution_count": null,
   "id": "d07bebf2-2d42-477c-ab9d-da1d2ab95821",
   "metadata": {},
   "outputs": [],
   "source": [
    "#7. Build a program that determines the largest of three given numbers.\n",
    "\n",
    "# Input three numbers\n",
    "num1 = int(input(\"Enter the first number: \"))\n",
    "num2 = int(input(\"Enter the second number: \"))\n",
    "num3 = int(input(\"Enter the third number: \"))\n",
    "\n",
    "# Initialize a variable to store the largest number\n",
    "largest = num1\n",
    "\n",
    "# Compare the second number with the largest\n",
    "if num2 > largest:\n",
    "    largest = num2\n",
    "\n",
    "# Compare the third number with the largest\n",
    "if num3 > largest:\n",
    "    largest = num3\n",
    "\n",
    "# Print the result\n",
    "print(f\"The largest number among {num1}, {num2}, and {num3} is {largest}.\")\n"
   ]
  },
  {
   "cell_type": "code",
   "execution_count": null,
   "id": "8edefed6-1998-4916-9ff5-a1fc99cbb63a",
   "metadata": {},
   "outputs": [],
   "source": [
    "#8. Develop a program that checks whether a character is a vowel or a consonant.\n",
    "# Input a character\n",
    "char = input(\"Enter a character: \")\n",
    "\n",
    "# Ensure the input is a single character\n",
    "if len(char) == 1:\n",
    "    # Convert the character to lowercase for easier comparison\n",
    "    char = char.lower()\n",
    "\n",
    "    # Check if it's a vowel or a consonant\n",
    "    if char in 'aeiou':\n",
    "        print(f\"{char} is a vowel.\")\n",
    "    else:\n",
    "        print(f\"{char} is a consonant.\")\n",
    "else:\n",
    "    print(\"Please enter a single character.\")\n"
   ]
  },
  {
   "cell_type": "code",
   "execution_count": 1,
   "id": "ef1276d5-99ac-4899-a524-b19dd18dd479",
   "metadata": {},
   "outputs": [
    {
     "name": "stdout",
     "output_type": "stream",
     "text": [
      "Total cost of the shopping cart with discounts: $45.00\n"
     ]
    }
   ],
   "source": [
    "#9. Create a program to calculate the total cost of a shopping cart based on discounts.\n",
    "# Define a dictionary of items with their prices\n",
    "item_prices = {\n",
    "    \"item1\": 10.0,\n",
    "    \"item2\": 5.0,\n",
    "    \"item3\": 8.0,\n",
    "    # Add more items and prices as needed\n",
    "}\n",
    "\n",
    "# Define the shopping cart as a list of items with their quantities\n",
    "shopping_cart = [\n",
    "    {\"item\": \"item1\", \"quantity\": 3},\n",
    "    {\"item\": \"item2\", \"quantity\": 2},\n",
    "    {\"item\": \"item3\", \"quantity\": 1},\n",
    "    # Add more items and quantities as needed\n",
    "]\n",
    "\n",
    "# Define discount rules (item name, minimum quantity for discount, discount percentage)\n",
    "discount_rules = [\n",
    "    (\"item1\", 2, 10),  # 10% discount if you buy 2 or more of item1\n",
    "    (\"item2\", 3, 15),  # 15% discount if you buy 3 or more of item2\n",
    "    # Add more discount rules as needed\n",
    "]\n",
    "\n",
    "# Function to calculate the total cost with discounts\n",
    "def calculate_total_cost(cart, prices, discounts):\n",
    "    total_cost = 0.0\n",
    "\n",
    "    # Calculate the cost of each item, applying discounts if applicable\n",
    "    for item_info in cart:\n",
    "        item_name = item_info[\"item\"]\n",
    "        quantity = item_info[\"quantity\"]\n",
    "\n",
    "        if item_name in prices:\n",
    "            item_price = prices[item_name]\n",
    "\n",
    "            # Check for discounts\n",
    "            for discount_rule in discounts:\n",
    "                if item_name == discount_rule[0] and quantity >= discount_rule[1]:\n",
    "                    item_price *= 1 - (discount_rule[2] / 100.0)\n",
    "\n",
    "            total_cost += item_price * quantity\n",
    "        else:\n",
    "            print(f\"Item '{item_name}' not found in the price list.\")\n",
    "\n",
    "    return total_cost\n",
    "\n",
    "# Calculate the total cost with discounts\n",
    "total_cost = calculate_total_cost(shopping_cart, item_prices, discount_rules)\n",
    "\n",
    "# Display the total cost\n",
    "print(f\"Total cost of the shopping cart with discounts: ${total_cost:.2f}\")\n"
   ]
  },
  {
   "cell_type": "code",
   "execution_count": 1,
   "id": "90b5365a-915c-4ee6-9f6d-74d2ee13c453",
   "metadata": {},
   "outputs": [
    {
     "name": "stdin",
     "output_type": "stream",
     "text": [
      "Enter your number 10\n"
     ]
    },
    {
     "name": "stdout",
     "output_type": "stream",
     "text": [
      "Number is Even\n"
     ]
    }
   ],
   "source": [
    "#. Write a program that checks if a given number is even or odd.\n",
    "\n",
    "num=int(input('Enter your number'))\n",
    "\n",
    "if (num&1)==0:\n",
    "    print('Number is Even')\n",
    "else:\n",
    "    print('Number is Odd')"
   ]
  },
  {
   "cell_type": "code",
   "execution_count": 2,
   "id": "ea1e9b73-fcd0-449f-9934-d0f0fc15aff6",
   "metadata": {},
   "outputs": [
    {
     "name": "stdin",
     "output_type": "stream",
     "text": [
      "Enter the cofficient of quadratic equation in order of (ax^2+bx+c) 1 4 12\n"
     ]
    },
    {
     "name": "stdout",
     "output_type": "stream",
     "text": [
      "imaginary roots\n"
     ]
    }
   ],
   "source": [
    "# 11. Write a program that calculates the roots of a quadratic equation \n",
    "\n",
    "import math\n",
    "def roots(a,b,c):\n",
    "    p= ((b*b)-(4*a*c))\n",
    "    \n",
    "    if p<0:\n",
    "        print('imaginary roots')\n",
    "    else:\n",
    "        r= p**(1/2)\n",
    "        ans1= (-b+r)/2*a\n",
    "        ans2= (-b-r)/2*a\n",
    "        print('Roots are',ans1, ans2)\n",
    "    \n",
    "a,b,c= input('Enter the cofficient of quadratic equation in order of (ax^2+bx+c)').split()\n",
    "\n",
    "roots(int(a), int(b), int(c))"
   ]
  },
  {
   "cell_type": "code",
   "execution_count": 1,
   "id": "29d1ce37-1a05-42b9-b30e-67fad44b4cea",
   "metadata": {},
   "outputs": [
    {
     "name": "stdin",
     "output_type": "stream",
     "text": [
      "Enter a day number (1-7):  3\n"
     ]
    },
    {
     "name": "stdout",
     "output_type": "stream",
     "text": [
      "The day corresponding to day number 3 is Tuesday.\n"
     ]
    }
   ],
   "source": [
    "#12. Create a program that determines the day of the week based on the day number (1-7).\n",
    "\n",
    "# Define a dictionary to map day numbers to day names\n",
    "day_mapping = {\n",
    "    1: \"Sunday\",\n",
    "    2: \"Monday\",\n",
    "    3: \"Tuesday\",\n",
    "    4: \"Wednesday\",\n",
    "    5: \"Thursday\",\n",
    "    6: \"Friday\",\n",
    "    7: \"Saturday\"\n",
    "}\n",
    "\n",
    "\n",
    "day_number = int(input(\"Enter a day number (1-7): \"))\n",
    "\n",
    "if day_number in day_mapping:\n",
    "    # Get the day name from the dictionary\n",
    "    day_name = day_mapping[day_number]\n",
    "\n",
    "    # Display the result\n",
    "    print(f\"The day corresponding to day number {day_number} is {day_name}.\")\n",
    "else:\n",
    "    print(\"Invalid day number. Please enter a number between 1 and 7.\")\n"
   ]
  },
  {
   "cell_type": "code",
   "execution_count": 3,
   "id": "a9c12e05-ab6e-4299-8316-02cae2b12b8a",
   "metadata": {},
   "outputs": [
    {
     "name": "stdin",
     "output_type": "stream",
     "text": [
      "Enter number 5\n"
     ]
    },
    {
     "name": "stdout",
     "output_type": "stream",
     "text": [
      "Factorial120\n"
     ]
    }
   ],
   "source": [
    "#13. Develop a program that calculates the factorial of a given number using recursion\n",
    "\n",
    "def factorial(n):\n",
    "    if n==0:\n",
    "        return 1\n",
    "    else:\n",
    "        return n*factorial(n-1)\n",
    "\n",
    "num=int(input('Enter number'))\n",
    "ans= factorial(num)\n",
    "\n",
    "print(f\"Factorial {ans}\")"
   ]
  },
  {
   "cell_type": "code",
   "execution_count": 4,
   "id": "f4ee86bd-66e4-42d7-9497-21f5e3b4eeab",
   "metadata": {},
   "outputs": [
    {
     "name": "stdin",
     "output_type": "stream",
     "text": [
      "Enter the first number:  6\n",
      "Enter the second number:  3\n",
      "Enter the third number:  9\n"
     ]
    },
    {
     "name": "stdout",
     "output_type": "stream",
     "text": [
      "The largest number among 6.0, 3.0, and 9.0 is 9.0.\n"
     ]
    }
   ],
   "source": [
    "# Input: Get three numbers from the user\n",
    "num1 = int(input(\"Enter the first number: \"))\n",
    "num2 = int(input(\"Enter the second number: \"))\n",
    "num3 = int(input(\"Enter the third number: \"))\n",
    "\n",
    "# Compare the numbers to find the largest\n",
    "if num1 >= num2 and num1 >= num3:\n",
    "    largest = num1\n",
    "elif num2 >= num1 and num2 >= num3:\n",
    "    largest = num2\n",
    "else:\n",
    "    largest = num3\n",
    "\n",
    "# Display the largest number\n",
    "print(f\"The largest number among {num1}, {num2}, and {num3} is {largest}.\")\n"
   ]
  },
  {
   "cell_type": "code",
   "execution_count": 2,
   "id": "d6aceb19-6168-44b1-8cd2-019a83e2e48a",
   "metadata": {},
   "outputs": [
    {
     "name": "stdin",
     "output_type": "stream",
     "text": [
      "Enter card number 100101\n",
      "Enter password 4 digit 2002\n"
     ]
    },
    {
     "name": "stdout",
     "output_type": "stream",
     "text": [
      "\n",
      "ATM Menu:\n",
      "1. Display Balance\n",
      "2. Deposit Money\n",
      "3. Withdraw Money\n",
      "4. Exit\n"
     ]
    },
    {
     "name": "stdin",
     "output_type": "stream",
     "text": [
      "Enter your choice (1/2/3/4):  1\n"
     ]
    },
    {
     "name": "stdout",
     "output_type": "stream",
     "text": [
      "curresnt balance60000\n",
      "\n",
      "ATM Menu:\n",
      "1. Display Balance\n",
      "2. Deposit Money\n",
      "3. Withdraw Money\n",
      "4. Exit\n"
     ]
    },
    {
     "name": "stdin",
     "output_type": "stream",
     "text": [
      "Enter your choice (1/2/3/4):  3\n",
      "Enter your amount 200\n"
     ]
    },
    {
     "name": "stdout",
     "output_type": "stream",
     "text": [
      "amount withdraw successful amount: 200\n",
      "current balance59800\n",
      "\n",
      "ATM Menu:\n",
      "1. Display Balance\n",
      "2. Deposit Money\n",
      "3. Withdraw Money\n",
      "4. Exit\n"
     ]
    },
    {
     "name": "stdin",
     "output_type": "stream",
     "text": [
      "Enter your choice (1/2/3/4):  1\n"
     ]
    },
    {
     "name": "stdout",
     "output_type": "stream",
     "text": [
      "curresnt balance59800\n",
      "\n",
      "ATM Menu:\n",
      "1. Display Balance\n",
      "2. Deposit Money\n",
      "3. Withdraw Money\n",
      "4. Exit\n"
     ]
    },
    {
     "name": "stdin",
     "output_type": "stream",
     "text": [
      "Enter your choice (1/2/3/4):  4\n"
     ]
    },
    {
     "name": "stdout",
     "output_type": "stream",
     "text": [
      "Thank you for using this ATM. Goodbye!\n"
     ]
    }
   ],
   "source": [
    "#Create a program that simulates a basic ATM transaction menu\n",
    "bal=60000\n",
    "def balance():\n",
    "    print(f'curresnt balance: {bal}')\n",
    "    \n",
    "def withdraw():\n",
    "    global bal\n",
    "    amt=int(input('Enter your amount'))\n",
    "    if amt>bal:\n",
    "        print('not enough balance to withdraw')\n",
    "    else:\n",
    "        cur_balance=bal\n",
    "        new_balance=cur_balance-amt\n",
    "        bal=new_balance\n",
    "        print (f'amount withdraw successful amount: {amt}')\n",
    "        print(f'current balance: {new_balance}')\n",
    "def deposit():\n",
    "    global bal\n",
    "    amount=int(input('Enter the amount you want to deposit'))\n",
    "    new_balance= bal+amount\n",
    "    bal=new_balance\n",
    "    print(f'New balance: {bal}')\n",
    "\n",
    "#main program\n",
    "c_no=100101\n",
    "pas=2002\n",
    "card= int(input('Enter card number'))\n",
    "password= int(input('Enter password 4 digit'))\n",
    "\n",
    "\n",
    "if card==c_no and password==pas:\n",
    "    while True:\n",
    "        print(\"\\nATM Menu:\")\n",
    "        print(\"1. Display Balance\")\n",
    "        print(\"2. Deposit Money\")\n",
    "        print(\"3. Withdraw Money\")\n",
    "        print(\"4. Exit\")\n",
    "\n",
    "        choice = input(\"Enter your choice (1/2/3/4): \")\n",
    "\n",
    "        if choice == '1':\n",
    "            balance()\n",
    "        elif choice == '2':\n",
    "            deposit()\n",
    "        elif choice == '3':\n",
    "            withdraw()\n",
    "        elif choice == '4':\n",
    "            print(\"Thank you for using this ATM. Goodbye!\")\n",
    "            break\n",
    "        else:\n",
    "            print(\"Invalid choice. Please select a valid option (1/2/3/4).\")\n",
    "else: \n",
    "    print('incorrect pin or passward')"
   ]
  },
  {
   "cell_type": "code",
   "execution_count": null,
   "id": "08d231cf-0b1d-4950-99f7-fd907545d774",
   "metadata": {},
   "outputs": [],
   "source": [
    "# Build a program that checks if a given string is a palindrome or not.\n",
    "\n",
    "string=input('Enter your String')\n",
    "low=0\n",
    "high=len(string)-1\n",
    "is_palin=False\n",
    "while low<=high:\n",
    "    if string[low]==string[high]:\n",
    "        is_palin=True\n",
    "    else:\n",
    "        is_palin=False\n",
    "    low+=1\n",
    "    high-=1\n",
    "\n",
    "if is_palin==True:\n",
    "    print('String is palindrome')\n",
    "else:\n",
    "    print('String is not palindrome')"
   ]
  },
  {
   "cell_type": "code",
   "execution_count": 8,
   "id": "f83dffbe-5add-4217-8944-347e6fb01f2d",
   "metadata": {},
   "outputs": [
    {
     "name": "stdout",
     "output_type": "stream",
     "text": [
      "5.6\n"
     ]
    }
   ],
   "source": [
    "#Write a program that calculates the average of a list of numbers, excluding the smallest and largest values.\n",
    "\n",
    "li=[1,5,3,7,4,9,10]\n",
    "\n",
    "maxi=max(li)\n",
    "mini=min(li)\n",
    "s=0\n",
    "for i in range(0,len(li)):\n",
    "    s+=li[i]\n",
    "res= (s-(maxi+mini))/(len(li)-2)\n",
    "print(res)"
   ]
  },
  {
   "cell_type": "code",
   "execution_count": null,
   "id": "2786a04b-6cdb-41ac-9db6-5d5f9978edf4",
   "metadata": {},
   "outputs": [],
   "source": [
    "#18. Develop a program that converts a given temperature from Celsius to Fahrenheit.\n",
    "\n",
    "def celsius_to_fahrenheit(celsius):\n",
    "    fahrenheit = (celsius * 9/5) + 32\n",
    "    return fahrenheit\n",
    "\n",
    "celsius = float(input(\"Enter temperature in Celsius: \"))\n",
    "\n",
    "fahrenheit = celsius_to_fahrenheit(celsius)\n",
    "\n",
    "print(f\"{celsius} degrees Celsius is equal to {fahrenheit} degrees Fahrenheit\")\n"
   ]
  },
  {
   "cell_type": "code",
   "execution_count": 10,
   "id": "37699ad7-caeb-4550-b384-73027328d189",
   "metadata": {},
   "outputs": [
    {
     "name": "stdout",
     "output_type": "stream",
     "text": [
      "Select operation:\n",
      "1. Addition\n",
      "2. Subtraction\n",
      "3. Multiplication\n",
      "4. Division\n",
      "5. Exit\n"
     ]
    },
    {
     "name": "stdin",
     "output_type": "stream",
     "text": [
      "Enter choice (1/2/3/4/5):  4\n",
      "Enter first number:  6\n",
      "Enter second number:  0\n"
     ]
    },
    {
     "name": "stdout",
     "output_type": "stream",
     "text": [
      "Result: Cannot divide by zero\n",
      "Select operation:\n",
      "1. Addition\n",
      "2. Subtraction\n",
      "3. Multiplication\n",
      "4. Division\n",
      "5. Exit\n"
     ]
    },
    {
     "name": "stdin",
     "output_type": "stream",
     "text": [
      "Enter choice (1/2/3/4/5):  2\n",
      "Enter first number:  7\n",
      "Enter second number:  5\n"
     ]
    },
    {
     "name": "stdout",
     "output_type": "stream",
     "text": [
      "Result: 2.0\n",
      "Select operation:\n",
      "1. Addition\n",
      "2. Subtraction\n",
      "3. Multiplication\n",
      "4. Division\n",
      "5. Exit\n"
     ]
    },
    {
     "name": "stdin",
     "output_type": "stream",
     "text": [
      "Enter choice (1/2/3/4/5):  5\n"
     ]
    },
    {
     "name": "stdout",
     "output_type": "stream",
     "text": [
      "Exiting the calculator. Goodbye!\n"
     ]
    }
   ],
   "source": [
    "# Create a program that simulates a basic calculator for addition, subtraction, multiplication, and division.\n",
    "\n",
    "# Function to perform addition\n",
    "def add(x, y):\n",
    "    return x + y\n",
    "\n",
    "# Function to perform subtraction\n",
    "def subtract(x, y):\n",
    "    return x - y\n",
    "\n",
    "# Function to perform multiplication\n",
    "def multiply(x, y):\n",
    "    return x * y\n",
    "\n",
    "# Function to perform division\n",
    "def divide(x, y):\n",
    "    if y == 0:\n",
    "        return \"Cannot divide by zero\"\n",
    "    return x / y\n",
    "try:\n",
    "    while True:\n",
    "\n",
    "        print(\"Select operation:\")\n",
    "        print(\"1. Addition\")\n",
    "        print(\"2. Subtraction\")\n",
    "        print(\"3. Multiplication\")\n",
    "        print(\"4. Division\")\n",
    "        print(\"5. Exit\")\n",
    "\n",
    "        choice = input(\"Enter choice (1/2/3/4/5): \")\n",
    "\n",
    "        # Check if choice is valid\n",
    "        if choice in ('1', '2', '3', '4'):\n",
    "            num1 = float(input(\"Enter first number: \"))\n",
    "            num2 = float(input(\"Enter second number: \"))\n",
    "\n",
    "            if choice == '1':\n",
    "                print(\"Result:\", add(num1, num2))\n",
    "            elif choice == '2':\n",
    "                print(\"Result:\", subtract(num1, num2))\n",
    "            elif choice == '3':\n",
    "                print(\"Result:\", multiply(num1, num2))\n",
    "            elif choice == '4':\n",
    "                print(\"Result:\", divide(num1, num2))\n",
    "        elif choice == '5':\n",
    "            print(\"Exiting the calculator. Goodbye!\")\n",
    "            break\n",
    "        else:\n",
    "            print(\"Invalid Input\")\n",
    "\n",
    "except Exception as e:\n",
    "    print(e)\n"
   ]
  },
  {
   "cell_type": "code",
   "execution_count": null,
   "id": "7bb28392-252e-4121-a454-7680ba175149",
   "metadata": {},
   "outputs": [],
   "source": []
  },
  {
   "cell_type": "code",
   "execution_count": 15,
   "id": "599e14b0-8701-47d0-8fc5-1f6f283a16a2",
   "metadata": {},
   "outputs": [
    {
     "name": "stdin",
     "output_type": "stream",
     "text": [
      "Enter your income:  1000000\n"
     ]
    },
    {
     "name": "stdout",
     "output_type": "stream",
     "text": [
      "Your income tax is: RS.59999.80\n"
     ]
    }
   ],
   "source": [
    "# Create a program that calculates the income tax based on the user's income and tax brackets.\n",
    "\n",
    "tax_bracket=[\n",
    "    (0,700000,0.10),\n",
    "    (700001, 2500000, 0.20),\n",
    "    (2500001, 5000000, 0.30), \n",
    "    (5000001, float(\"inf\"), 0.40)\n",
    "]\n",
    "\n",
    "def income_tax_calculation(income):\n",
    "    income_tax=0\n",
    "    for i in tax_bracket:\n",
    "        min_income, max_income, tax= i\n",
    "        if income<=min_income:\n",
    "            continue\n",
    "        tax_income= min(income,max_income)-min_income\n",
    "        income_tax= tax_income*tax\n",
    "    return income_tax\n",
    "\n",
    "try:\n",
    "    income = float(input(\"Enter your income: \"))\n",
    "    if income < 0:\n",
    "        print(\"Income cannot be negative.\")\n",
    "    else:\n",
    "        income_tax = income_tax_calculation(income)\n",
    "        print(f\"Your income tax is: RS.{income_tax:.2f}\")\n",
    "except ValueError:\n",
    "    print(\"Invalid input. Please enter a valid income.\")"
   ]
  },
  {
   "cell_type": "code",
   "execution_count": 4,
   "id": "bcba5886-6bd0-400f-bae2-70a538ab21b7",
   "metadata": {},
   "outputs": [
    {
     "name": "stdin",
     "output_type": "stream",
     "text": [
      "Choose rock, paper, or scissors:  rock\n"
     ]
    },
    {
     "name": "stdout",
     "output_type": "stream",
     "text": [
      "You chose rock, and the computer chose rock.\n",
      "It's a tie!\n"
     ]
    },
    {
     "name": "stdin",
     "output_type": "stream",
     "text": [
      "Do you want to play again? (yes/no):  yes\n",
      "Choose rock, paper, or scissors:  rock\n"
     ]
    },
    {
     "name": "stdout",
     "output_type": "stream",
     "text": [
      "You chose rock, and the computer chose rock.\n",
      "It's a tie!\n"
     ]
    },
    {
     "name": "stdin",
     "output_type": "stream",
     "text": [
      "Do you want to play again? (yes/no):  yes\n",
      "Choose rock, paper, or scissors:  paper\n"
     ]
    },
    {
     "name": "stdout",
     "output_type": "stream",
     "text": [
      "You chose paper, and the computer chose rock.\n",
      "You win!\n"
     ]
    },
    {
     "name": "stdin",
     "output_type": "stream",
     "text": [
      "Do you want to play again? (yes/no):  no\n"
     ]
    }
   ],
   "source": [
    "\n",
    "import random\n",
    "\n",
    "def get_user_choice():\n",
    "    while True:\n",
    "        user_choice = input(\"Choose rock, paper, or scissors: \").lower()\n",
    "        if user_choice in [\"rock\", \"paper\", \"scissors\"]:\n",
    "            return user_choice\n",
    "        else:\n",
    "            print(\"Invalid choice. Please choose rock, paper, or scissors.\")\n",
    "\n",
    "def get_computer_choice():\n",
    "    choices = [\"rock\", \"paper\", \"scissors\"]\n",
    "    return random.choice(choices)\n",
    "\n",
    "def determine_winner(user_choice, computer_choice):\n",
    "    if user_choice == computer_choice:\n",
    "        return \"It's a tie!\"\n",
    "    elif (user_choice == \"rock\" and computer_choice == \"scissors\") or \\\n",
    "         (user_choice == \"paper\" and computer_choice == \"rock\") or \\\n",
    "         (user_choice == \"scissors\" and computer_choice == \"paper\"):\n",
    "        return \"You win!\"\n",
    "    else:\n",
    "        return \"Computer wins!\"\n",
    "\n",
    "def main():\n",
    "    while True:\n",
    "        user_choice = get_user_choice()\n",
    "        computer_choice = get_computer_choice()\n",
    "        print(f\"You chose {user_choice}, and the computer chose {computer_choice}.\")\n",
    "        result = determine_winner(user_choice, computer_choice)\n",
    "        print(result)\n",
    "\n",
    "        play_again = input(\"Do you want to play again? (yes/no): \").lower()\n",
    "        if play_again != \"yes\":\n",
    "            break\n",
    "\n",
    "if __name__ == \"__main__\":\n",
    "    main()\n"
   ]
  },
  {
   "cell_type": "code",
   "execution_count": 6,
   "id": "88bb669e-99e6-4832-8f0b-48f2c429ccf3",
   "metadata": {},
   "outputs": [
    {
     "name": "stdout",
     "output_type": "stream",
     "text": [
      "Password Generator\n"
     ]
    },
    {
     "name": "stdin",
     "output_type": "stream",
     "text": [
      "Enter the desired password length:  8\n",
      "Include lowercase letters? (yes/no):  yes\n",
      "Include uppercase letters? (yes/no):  yes\n",
      "Include digits? (yes/no):  yes\n",
      "Include special characters? (yes/no):  yes\n"
     ]
    },
    {
     "name": "stdout",
     "output_type": "stream",
     "text": [
      "Generated password: >wQ61lGV\n"
     ]
    }
   ],
   "source": [
    "import random\n",
    "import string\n",
    "\n",
    "def generate_password(length, use_lowercase, use_uppercase, use_digits, use_special_chars):\n",
    "    if not (use_lowercase or use_uppercase or use_digits or use_special_chars):\n",
    "        print(\"Error: You must select at least one character type.\")\n",
    "        return None\n",
    "\n",
    "    characters = \"\"\n",
    "    if use_lowercase:\n",
    "        characters += string.ascii_lowercase\n",
    "    if use_uppercase:\n",
    "        characters += string.ascii_uppercase\n",
    "    if use_digits:\n",
    "        characters += string.digits\n",
    "    if use_special_chars:\n",
    "        characters += string.punctuation\n",
    "\n",
    "    if length < 1:\n",
    "        print(\"Error: Password length must be at least 1.\")\n",
    "        return None\n",
    "\n",
    "    password = ''.join(random.choice(characters) for _ in range(length))\n",
    "    return password\n",
    "\n",
    "def main():\n",
    "    print(\"Password Generator\")\n",
    "    length = int(input(\"Enter the desired password length: \"))\n",
    "    use_lowercase = input(\"Include lowercase letters? (yes/no): \").lower() == \"yes\"\n",
    "    use_uppercase = input(\"Include uppercase letters? (yes/no): \").lower() == \"yes\"\n",
    "    use_digits = input(\"Include digits? (yes/no): \").lower() == \"yes\"\n",
    "    use_special_chars = input(\"Include special characters? (yes/no): \").lower() == \"yes\"\n",
    "\n",
    "    password = generate_password(length, use_lowercase, use_uppercase, use_digits, use_special_chars)\n",
    "\n",
    "    if password:\n",
    "        print(\"Generated password:\", password)\n",
    "\n",
    "if __name__ == \"__main__\":\n",
    "    main()\n"
   ]
  },
  {
   "cell_type": "code",
   "execution_count": 2,
   "id": "89684da5-ab25-4d67-8b4e-d34a0a939d8a",
   "metadata": {},
   "outputs": [
    {
     "name": "stdout",
     "output_type": "stream",
     "text": [
      "Welcome to the Text Adventure Game!\n",
      "You find yourself in a dark forest.\n",
      "What do you want to do?\n",
      "1. Explore the forest\n",
      "2. Follow a path\n"
     ]
    },
    {
     "name": "stdin",
     "output_type": "stream",
     "text": [
      "Enter 1 or 2:  1\n"
     ]
    },
    {
     "name": "stdout",
     "output_type": "stream",
     "text": [
      "You venture deeper into the forest.\n",
      "As you explore, you encounter a wild animal.\n",
      "What do you want to do?\n",
      "1. Try to tame the animal\n",
      "2. Run away\n"
     ]
    },
    {
     "name": "stdin",
     "output_type": "stream",
     "text": [
      "Enter 1 or 2:  1\n"
     ]
    },
    {
     "name": "stdout",
     "output_type": "stream",
     "text": [
      "You successfully tame the animal. It becomes your loyal companion.\n",
      "Congratulations! You have successfully completed your adventure.\n"
     ]
    },
    {
     "name": "stdin",
     "output_type": "stream",
     "text": [
      "Do you want to play again? (yes/no):  no\n"
     ]
    },
    {
     "name": "stdout",
     "output_type": "stream",
     "text": [
      "Thanks for playing the Text Adventure Game!\n"
     ]
    }
   ],
   "source": [
    "import time\n",
    "\n",
    "def delay_print(text, delay=0.2):\n",
    "    for char in text:\n",
    "        print(char, end='', flush=True)\n",
    "        time.sleep(delay)\n",
    "    print()\n",
    "\n",
    "def start_adventure():\n",
    "    delay_print(\"Welcome to the Text Adventure Game!\")\n",
    "    delay_print(\"You find yourself in a dark forest.\")\n",
    "    while True:\n",
    "        delay_print(\"What do you want to do?\")\n",
    "        delay_print(\"1. Explore the forest\")\n",
    "        delay_print(\"2. Follow a path\")\n",
    "        choice = input(\"Enter 1 or 2: \")\n",
    "        if choice == \"1\":\n",
    "            explore_forest()\n",
    "            break\n",
    "        elif choice == \"2\":\n",
    "            follow_path()\n",
    "            break\n",
    "        else:\n",
    "            delay_print(\"Invalid choice. Please enter 1 or 2.\")\n",
    "\n",
    "def explore_forest():\n",
    "    delay_print(\"You venture deeper into the forest.\")\n",
    "    delay_print(\"As you explore, you encounter a wild animal.\")\n",
    "    while True:\n",
    "        delay_print(\"What do you want to do?\")\n",
    "        delay_print(\"1. Try to tame the animal\")\n",
    "        delay_print(\"2. Run away\")\n",
    "        choice = input(\"Enter 1 or 2: \")\n",
    "        if choice == \"1\":\n",
    "            delay_print(\"You successfully tame the animal. It becomes your loyal companion.\")\n",
    "            victory()\n",
    "            break\n",
    "        elif choice == \"2\":\n",
    "            delay_print(\"You manage to escape but feel the animal's eyes on your back.\")\n",
    "            start_adventure()\n",
    "            break\n",
    "        else:\n",
    "            delay_print(\"Invalid choice. Please enter 1 or 2.\")\n",
    "\n",
    "def follow_path():\n",
    "    delay_print(\"You follow a path that leads you to a mystical village.\")\n",
    "    delay_print(\"The villagers are celebrating a festival.\")\n",
    "    while True:\n",
    "        delay_print(\"What do you want to do?\")\n",
    "        delay_print(\"1. Join the festival\")\n",
    "        delay_print(\"2. Continue your journey\")\n",
    "        choice = input(\"Enter 1 or 2: \")\n",
    "        if choice == \"1\":\n",
    "            delay_print(\"You join the festival and have a great time.\")\n",
    "            victory()\n",
    "            break\n",
    "        elif choice == \"2\":\n",
    "            delay_print(\"You decide to continue your journey, leaving the village behind.\")\n",
    "            start_adventure()\n",
    "            break\n",
    "        else:\n",
    "            delay_print(\"Invalid choice. Please enter 1 or 2.\")\n",
    "\n",
    "def victory():\n",
    "    delay_print(\"Congratulations! You have successfully completed your adventure.\")\n",
    "    play_again = input(\"Do you want to play again? (yes/no): \").lower()\n",
    "    if play_again == \"yes\":\n",
    "        start_adventure()\n",
    "    else:\n",
    "        delay_print(\"Thanks for playing the Text Adventure Game!\")\n",
    "\n",
    "if __name__ == \"__main__\":\n",
    "    start_adventure()\n"
   ]
  },
  {
   "cell_type": "code",
   "execution_count": 9,
   "id": "1010b468-946b-4d79-b415-2fe300faec9a",
   "metadata": {},
   "outputs": [
    {
     "name": "stdout",
     "output_type": "stream",
     "text": [
      "Linear Equation Solver\n",
      "Format: ax + b = 0\n"
     ]
    },
    {
     "name": "stdin",
     "output_type": "stream",
     "text": [
      "Enter the value of 'a':  10\n",
      "Enter the value of 'b':  23\n"
     ]
    },
    {
     "name": "stdout",
     "output_type": "stream",
     "text": [
      "Solution: x = -2.3\n"
     ]
    }
   ],
   "source": [
    "def solve_linear_equation():\n",
    "    print(\"Linear Equation Solver\")\n",
    "    print(\"Format: ax + b = 0\")\n",
    "\n",
    "    a = float(input(\"Enter the value of 'a': \"))\n",
    "    b = float(input(\"Enter the value of 'b': \"))\n",
    "\n",
    "    if a == 0:\n",
    "        if b == 0:\n",
    "            print(\"Infinite solutions. Any value of x will satisfy the equation.\")\n",
    "        else:\n",
    "            print(\"No solution. The equation is inconsistent.\")\n",
    "    else:\n",
    "        x = -b / a\n",
    "        print(\"Solution: x =\", x)\n",
    "\n",
    "if __name__ == \"__main__\":\n",
    "    solve_linear_equation()\n"
   ]
  },
  {
   "cell_type": "code",
   "execution_count": 11,
   "id": "14bb02eb-f1fc-4c82-ba1a-45a5c9502a2d",
   "metadata": {},
   "outputs": [
    {
     "name": "stdout",
     "output_type": "stream",
     "text": [
      "Question 1: What is the capital of France?\n",
      "1. London\n",
      "2. Berlin\n",
      "3. Paris\n",
      "4. Madrid\n"
     ]
    },
    {
     "name": "stdin",
     "output_type": "stream",
     "text": [
      "Enter the number of your answer:  3\n"
     ]
    },
    {
     "name": "stdout",
     "output_type": "stream",
     "text": [
      "Correct!\n",
      "\n",
      "Question 2: Which planet is known as the Red Planet?\n",
      "1. Mars\n",
      "2. Venus\n",
      "3. Jupiter\n",
      "4. Saturn\n"
     ]
    },
    {
     "name": "stdin",
     "output_type": "stream",
     "text": [
      "Enter the number of your answer:  1\n"
     ]
    },
    {
     "name": "stdout",
     "output_type": "stream",
     "text": [
      "Correct!\n",
      "\n",
      "Question 3: What is the largest mammal on Earth?\n",
      "1. Elephant\n",
      "2. Giraffe\n",
      "3. Whale\n",
      "4. Lion\n"
     ]
    },
    {
     "name": "stdin",
     "output_type": "stream",
     "text": [
      "Enter the number of your answer:  3\n"
     ]
    },
    {
     "name": "stdout",
     "output_type": "stream",
     "text": [
      "Correct!\n",
      "\n",
      "Quiz completed! Your score is: 3/3\n"
     ]
    }
   ],
   "source": [
    "class QuizQuestion:\n",
    "    def __init__(self, question, choices, correct_answer):\n",
    "        self.question = question\n",
    "        self.choices = choices\n",
    "        self.correct_answer = correct_answer\n",
    "\n",
    "    def is_correct(self, user_answer):\n",
    "        return user_answer == self.correct_answer\n",
    "\n",
    "\n",
    "class QuizGame:\n",
    "    def __init__(self, questions):\n",
    "        self.questions = questions\n",
    "        self.score = 0\n",
    "\n",
    "    def run(self):\n",
    "        for i, question in enumerate(self.questions, 1):\n",
    "            print(f\"Question {i}: {question.question}\")\n",
    "            for j, choice in enumerate(question.choices, 1):\n",
    "                print(f\"{j}. {choice}\")\n",
    "            user_answer = input(\"Enter the number of your answer: \")\n",
    "            if user_answer.isnumeric():\n",
    "                user_answer = int(user_answer)\n",
    "                if 1 <= user_answer <= len(question.choices):\n",
    "                    if question.is_correct(user_answer):\n",
    "                        print(\"Correct!\\n\")\n",
    "                        self.score += 1\n",
    "                    else:\n",
    "                        print(f\"Wrong! The correct answer is {question.correct_answer}: {question.choices[question.correct_answer - 1]}\\n\")\n",
    "                else:\n",
    "                    print(\"Invalid answer. Please choose a number between 1 and the number of choices.\\n\")\n",
    "            else:\n",
    "                print(\"Invalid answer. Please enter a number.\\n\")\n",
    "        print(f\"Quiz completed! Your score is: {self.score}/{len(self.questions)}\")\n",
    "\n",
    "if __name__ == \"__main__\":\n",
    "    question1 = QuizQuestion(\"What is the capital of France?\", [\"London\", \"Berlin\", \"Paris\", \"Madrid\"], 3)\n",
    "    question2 = QuizQuestion(\"Which planet is known as the Red Planet?\", [\"Mars\", \"Venus\", \"Jupiter\", \"Saturn\"], 1)\n",
    "    question3 = QuizQuestion(\"What is the largest mammal on Earth?\", [\"Elephant\", \"Giraffe\", \"Whale\", \"Lion\"], 3)\n",
    "\n",
    "    questions = [question1, question2, question3]\n",
    "\n",
    "    quiz = QuizGame(questions)\n",
    "    quiz.run()\n"
   ]
  },
  {
   "cell_type": "code",
   "execution_count": null,
   "id": "56243fac-063b-42b9-8b41-c56ef1ba5a9c",
   "metadata": {},
   "outputs": [],
   "source": [
    "# Get three numbers from the user\n",
    "num1 = float(input(\"Enter the first number: \"))\n",
    "num2 = float(input(\"Enter the second number: \"))\n",
    "num3 = float(input(\"Enter the third number: \"))\n",
    "\n",
    "# Sort the numbers using conditional statements\n",
    "if num1 <= num2 <= num3:\n",
    "    sorted_nums = [num1, num2, num3]\n",
    "elif num1 <= num3 <= num2:\n",
    "    sorted_nums = [num1, num3, num2]\n",
    "elif num2 <= num1 <= num3:\n",
    "    sorted_nums = [num2, num1, num3]\n",
    "elif num2 <= num3 <= num1:\n",
    "    sorted_nums = [num2, num3, num1]\n",
    "elif num3 <= num1 <= num2:\n",
    "    sorted_nums = [num3, num1, num2]\n",
    "else:\n",
    "    sorted_nums = [num3, num2, num1]\n",
    "\n",
    "# Display the sorted numbers\n",
    "print(\"Sorted numbers in ascending order:\", sorted_nums)\n"
   ]
  },
  {
   "cell_type": "code",
   "execution_count": null,
   "id": "aab17c1e-6f5b-4d73-b770-f0cf38606024",
   "metadata": {},
   "outputs": [],
   "source": [
    "def quartic_equation(x, a, b, c, d, e):\n",
    "    return a * x**4 + b * x**3 + c * x**2 + d * x + e\n",
    "\n",
    "def quartic_derivative(x, a, b, c, d):\n",
    "    return 4 * a * x**3 + 3 * b * x**2 + 2 * c * x + d\n",
    "\n",
    "def newton_method_quartic(a, b, c, d, e, initial_guess, tolerance, max_iterations):\n",
    "    x = initial_guess\n",
    "    iteration = 0\n",
    "\n",
    "    while iteration < max_iterations:\n",
    "        f_x = quartic_equation(x, a, b, c, d, e)\n",
    "        f_prime_x = quartic_derivative(x, a, b, c, d)\n",
    "\n",
    "        if abs(f_x) < tolerance:\n",
    "            return x\n",
    "\n",
    "        if abs(f_prime_x) < tolerance:\n",
    "            break\n",
    "\n",
    "        x = x - f_x / f_prime_x\n",
    "        iteration += 1\n",
    "\n",
    "    return None\n",
    "\n",
    "if __name__ == \"__main__\":\n",
    "    a = float(input(\"Enter the coefficient a: \"))\n",
    "    b = float(input(\"Enter the coefficient b: \"))\n",
    "    c = float(input(\"Enter the coefficient c: \"))\n",
    "    d = float(input(\"Enter the coefficient d: \"))\n",
    "    e = float(input(\"Enter the constant term e: \"))\n",
    "\n",
    "    initial_guess = float(input(\"Enter an initial guess: \"))\n",
    "    tolerance = 1e-6\n",
    "    max_iterations = 100\n",
    "\n",
    "    root = newton_method_quartic(a, b, c, d, e, initial_guess, tolerance, max_iterations)\n",
    "\n",
    "    if root is not None:\n",
    "        print(f\"Approximate root: {root:.6f}\")\n",
    "    else:\n",
    "        print(\"Newton's method did not converge within the specified iterations.\")\n"
   ]
  },
  {
   "cell_type": "code",
   "execution_count": null,
   "id": "1a0bf4ad-2766-417a-9ba6-5a9e69863a6d",
   "metadata": {},
   "outputs": [],
   "source": [
    "def calculate_bmi(weight, height):\n",
    "    # BMI formula: BMI = weight (kg) / (height (m) ^ 2)\n",
    "    return weight / (height ** 2)\n",
    "\n",
    "def get_health_recommendation(bmi):\n",
    "    if bmi < 18.5:\n",
    "        return \"You are underweight. You should consider gaining some weight to maintain a healthy BMI.\"\n",
    "    elif 18.5 <= bmi < 24.9:\n",
    "        return \"Congratulations! Your BMI is within the healthy range.\"\n",
    "    elif 25.0 <= bmi < 29.9:\n",
    "        return \"You are overweight. It's recommended to lose some weight to maintain a healthy BMI.\"\n",
    "    else:\n",
    "        return \"You are obese. It's essential to consult with a healthcare professional to discuss a weight management plan.\"\n",
    "\n",
    "if __name__ == \"__main__\":\n",
    "    print(\"BMI Calculator\")\n",
    "    weight = float(input(\"Enter your weight in kilograms: \"))\n",
    "    height = float(input(\"Enter your height in meters: \"))\n",
    "\n",
    "    bmi = calculate_bmi(weight, height)\n",
    "    print(f\"Your BMI is: {bmi:.2f}\")\n",
    "    \n",
    "    recommendation = get_health_recommendation(bmi)\n",
    "    print(\"Health Recommendation:\", recommendation)\n"
   ]
  },
  {
   "cell_type": "code",
   "execution_count": null,
   "id": "a1883d79-e8cd-4aaf-901e-b7d047e8a55a",
   "metadata": {},
   "outputs": [],
   "source": [
    "import re\n",
    "\n",
    "def is_valid_password(password):\n",
    "    # Check the length of the password (at least 8 characters)\n",
    "    if len(password) < 8:\n",
    "        return False\n",
    "\n",
    "    # Check if the password contains at least one uppercase letter\n",
    "    if not re.search(r'[A-Z]', password):\n",
    "        return False\n",
    "\n",
    "    # Check if the password contains at least one lowercase letter\n",
    "    if not re.search(r'[a-z]', password):\n",
    "        return False\n",
    "\n",
    "    # Check if the password contains at least one digit\n",
    "    if not re.search(r'\\d', password):\n",
    "        return False\n",
    "\n",
    "    # Check if the password contains at least one special character (e.g., !@#$%^&*)\n",
    "    if not re.search(r'[!@#\\$%\\^&\\*\\(\\)_\\+{}\\[\\]:;<>,.?\\\\|`~\\-=\\?/]', password):\n",
    "        return False\n",
    "\n",
    "    # Check if the password does not contain spaces\n",
    "    if ' ' in password:\n",
    "        return False\n",
    "\n",
    "    return True\n",
    "\n",
    "if __name__ == \"__main__\":\n",
    "    print(\"Password Validator\")\n",
    "    password = input(\"Enter a password: \")\n",
    "\n",
    "    if is_valid_password(password):\n",
    "        print(\"Password is valid.\")\n",
    "    else:\n",
    "        print(\"Password is invalid. Please make sure it meets the complexity rules.\")\n"
   ]
  },
  {
   "cell_type": "code",
   "execution_count": null,
   "id": "115ce80f-9b52-4b77-b073-22bca4ed9ffb",
   "metadata": {},
   "outputs": [],
   "source": [
    "def input_matrix(rows, columns):\n",
    "    matrix = []\n",
    "    print(f\"Enter the elements of the {rows}x{columns} matrix:\")\n",
    "    for i in range(rows):\n",
    "        row = []\n",
    "        for j in range(columns):\n",
    "            element = float(input(f\"Enter element at row {i+1}, column {j+1}: \"))\n",
    "            row.append(element)\n",
    "        matrix.append(row)\n",
    "    return matrix\n",
    "\n",
    "def print_matrix(matrix):\n",
    "    for row in matrix:\n",
    "        print(row)\n",
    "\n",
    "def add_matrices(matrix1, matrix2):\n",
    "    if len(matrix1) != len(matrix2) or len(matrix1[0]) != len(matrix2[0]):\n",
    "        return None  # Matrices must have the same dimensions for addition\n",
    "    result = []\n",
    "    for i in range(len(matrix1)):\n",
    "        row = []\n",
    "        for j in range(len(matrix1[0])):\n",
    "            row.append(matrix1[i][j] + matrix2[i][j])\n",
    "        result.append(row)\n",
    "    return result\n",
    "\n",
    "def subtract_matrices(matrix1, matrix2):\n",
    "    if len(matrix1) != len(matrix2) or len(matrix1[0]) != len(matrix2[0]):\n",
    "        return None  # Matrices must have the same dimensions for subtraction\n",
    "    result = []\n",
    "    for i in range(len(matrix1)):\n",
    "        row = []\n",
    "        for j in range(len(matrix1[0])):\n",
    "            row.append(matrix1[i][j] - matrix2[i][j])\n",
    "        result.append(row)\n",
    "    return result\n",
    "\n",
    "if __name__ == \"__main__\":\n",
    "    print(\"Matrix Addition and Subtraction\")\n",
    "    rows = int(input(\"Enter the number of rows: \"))\n",
    "    columns = int(input(\"Enter the number of columns: \")\n",
    "\n",
    "    print(\"Enter the first matrix:\")\n",
    "    matrix1 = input_matrix(rows, columns)\n",
    "    print(\"Enter the second matrix:\")\n",
    "    matrix2 = input_matrix(rows, columns)\n",
    "\n",
    "    print(\"Matrix 1:\")\n",
    "    print_matrix(matrix1)\n",
    "    print(\"Matrix 2:\")\n",
    "    print_matrix(matrix2)\n",
    "\n",
    "    sum_result = add_matrices(matrix1, matrix2)\n",
    "    if sum_result is not None:\n",
    "        print(\"Matrix Addition (Matrix1 + Matrix2):\")\n",
    "        print_matrix(sum_result)\n",
    "    else:\n",
    "        print(\"Matrix addition is not possible. Matrices have different dimensions.\")\n",
    "\n",
    "    diff_result = subtract_matrices(matrix1, matrix2)\n",
    "    if diff_result is not None:\n",
    "        print(\"Matrix Subtraction (Matrix1 - Matrix2):\")\n",
    "        print_matrix(diff_result)\n",
    "    else:\n",
    "        print(\"Matrix subtraction is not possible. Matrices have different dimensions.\")\n"
   ]
  },
  {
   "cell_type": "code",
   "execution_count": 7,
   "id": "f8783f05-bf61-41a0-a0a2-81df21d3e568",
   "metadata": {},
   "outputs": [
    {
     "name": "stdout",
     "output_type": "stream",
     "text": [
      "Greatest Common Divisor (GCD) Calculator\n"
     ]
    },
    {
     "name": "stdin",
     "output_type": "stream",
     "text": [
      "Enter the first number:  5\n",
      "Enter the second number:  10\n"
     ]
    },
    {
     "name": "stdout",
     "output_type": "stream",
     "text": [
      "The GCD of 5 and 10 is 5.\n"
     ]
    }
   ],
   "source": [
    "def euclidean_gcd(a, b):\n",
    "    while b:\n",
    "        a, b = b, a % b\n",
    "    return a\n",
    "\n",
    "if __name__ == \"__main__\":\n",
    "    try:\n",
    "        \n",
    "        print(\"Greatest Common Divisor (GCD) Calculator\")\n",
    "        num1 = int(input(\"Enter the first number: \"))\n",
    "        num2 = int(input(\"Enter the second number: \"))\n",
    "\n",
    "        if num1 < 0:\n",
    "            num1 = abs(num1)\n",
    "        if num2 < 0:\n",
    "            num2 = abs(num2)\n",
    "\n",
    "        gcd = euclidean_gcd(num1, num2)\n",
    "        print(f\"The GCD of {num1} and {num2} is {gcd}.\")\n",
    "    except e as Exception:\n",
    "        print(e)\n"
   ]
  },
  {
   "cell_type": "code",
   "execution_count": 3,
   "id": "46b06007-db6e-4297-9446-3295d6c91e65",
   "metadata": {},
   "outputs": [
    {
     "name": "stdout",
     "output_type": "stream",
     "text": [
      "Welcome to Text-Based Tic-Tac-Toe!\n",
      "  |   |  \n",
      "---------\n",
      "  |   |  \n",
      "---------\n",
      "  |   |  \n",
      "---------\n",
      "Your turn (row and column, e.g., '1 2'): \n"
     ]
    },
    {
     "name": "stdin",
     "output_type": "stream",
     "text": [
      " 2 3\n"
     ]
    },
    {
     "name": "stdout",
     "output_type": "stream",
     "text": [
      "Invalid move. Try again.\n",
      "Your turn (row and column, e.g., '1 2'): \n"
     ]
    },
    {
     "name": "stdin",
     "output_type": "stream",
     "text": [
      " 1 2\n"
     ]
    },
    {
     "name": "stdout",
     "output_type": "stream",
     "text": [
      "  |   |  \n",
      "---------\n",
      "  |   | X\n",
      "---------\n",
      "  |   |  \n",
      "---------\n",
      "Computer's turn:\n",
      "Computer chooses row 3, col 1\n",
      "  |   |  \n",
      "---------\n",
      "  |   | X\n",
      "---------\n",
      "O |   |  \n",
      "---------\n",
      "Your turn (row and column, e.g., '1 2'): \n"
     ]
    },
    {
     "name": "stdin",
     "output_type": "stream",
     "text": [
      " 0 2\n"
     ]
    },
    {
     "name": "stdout",
     "output_type": "stream",
     "text": [
      "  |   | X\n",
      "---------\n",
      "  |   | X\n",
      "---------\n",
      "O |   |  \n",
      "---------\n",
      "Computer's turn:\n",
      "Computer chooses row 2, col 1\n",
      "  |   | X\n",
      "---------\n",
      "O |   | X\n",
      "---------\n",
      "O |   |  \n",
      "---------\n",
      "Your turn (row and column, e.g., '1 2'): \n"
     ]
    },
    {
     "name": "stdin",
     "output_type": "stream",
     "text": [
      " 2 2\n"
     ]
    },
    {
     "name": "stdout",
     "output_type": "stream",
     "text": [
      "  |   | X\n",
      "---------\n",
      "O |   | X\n",
      "---------\n",
      "O |   | X\n",
      "---------\n",
      "X wins! Congratulations!\n"
     ]
    }
   ],
   "source": [
    "import random\n",
    "\n",
    "def print_board(board):\n",
    "    for row in board:\n",
    "        print(\" | \".join(row))\n",
    "        print(\"-\" * 9)\n",
    "\n",
    "def check_winner(board, player):\n",
    "    for row in board:\n",
    "        if all(cell == player for cell in row):\n",
    "            return True\n",
    "\n",
    "    for col in range(3):\n",
    "        if all(board[row][col] == player for row in range(3)):\n",
    "            return True\n",
    "\n",
    "    if all(board[i][i] == player for i in range(3)) or all(board[i][2 - i] == player for i in range(3)):\n",
    "        return True\n",
    "\n",
    "    return False\n",
    "\n",
    "def is_full(board):\n",
    "    return all(cell != \" \" for row in board for cell in row)\n",
    "\n",
    "def computer_move(board):\n",
    "    empty_cells = [(i, j) for i in range(3) for j in range(3) if board[i][j] == \" \"]\n",
    "    return random.choice(empty_cells)\n",
    "\n",
    "def play_game():\n",
    "    board = [[\" \" for _ in range(3)] for _ in range(3)]\n",
    "    player = \"X\"\n",
    "    computer = \"O\"\n",
    "\n",
    "    print(\"Welcome to Text-Based Tic-Tac-Toe!\")\n",
    "    print_board(board)\n",
    "\n",
    "    while True:\n",
    "        if player == \"X\":\n",
    "            print(\"Your turn (row and column, e.g., '1 2'): \")\n",
    "            try:\n",
    "                row, col = map(int, input().split())\n",
    "            except ValueError:\n",
    "                print(\"Invalid input. Please enter two numbers separated by a space.\")\n",
    "                continue\n",
    "        else:\n",
    "            print(\"Computer's turn:\")\n",
    "            row, col = computer_move(board)\n",
    "            print(f\"Computer chooses row {row + 1}, col {col + 1}\")\n",
    "\n",
    "        if row in range(3) and col in range(3) and board[row][col] == \" \":\n",
    "            board[row][col] = player\n",
    "        else:\n",
    "            print(\"Invalid move. Try again.\")\n",
    "            continue\n",
    "\n",
    "        print_board(board)\n",
    "\n",
    "        if check_winner(board, player):\n",
    "            print(f\"{player} wins! Congratulations!\")\n",
    "            break\n",
    "        elif is_full(board):\n",
    "            print(\"It's a tie! The board is full.\")\n",
    "            break\n",
    "\n",
    "        player, computer = computer, player\n",
    "\n",
    "if __name__ == \"__main__\":\n",
    "    play_game()\n"
   ]
  },
  {
   "cell_type": "code",
   "execution_count": 4,
   "id": "4cea93e7-5208-4d50-bf13-4fda40de3d99",
   "metadata": {},
   "outputs": [
    {
     "name": "stdin",
     "output_type": "stream",
     "text": [
      "Enter the number of Fibonacci terms to generate:  6\n"
     ]
    },
    {
     "name": "stdout",
     "output_type": "stream",
     "text": [
      "Fibonacci sequence up to the 6 term(s): [0, 1, 1, 2, 3, 5]\n"
     ]
    }
   ],
   "source": [
    "def generate_fibonacci(n):\n",
    "    fib_sequence = []\n",
    "    if n >= 1:\n",
    "        fib_sequence.append(0)\n",
    "    if n >= 2:\n",
    "        fib_sequence.append(1)\n",
    "    for i in range(2, n):\n",
    "        next_fib = fib_sequence[i - 1] + fib_sequence[i - 2]\n",
    "        fib_sequence.append(next_fib)\n",
    "    return fib_sequence\n",
    "\n",
    "if __name__ == \"__main__\":\n",
    "    n = int(input(\"Enter the number of Fibonacci terms to generate: \"))\n",
    "    if n <= 0:\n",
    "        print(\"Please enter a positive integer.\")\n",
    "    else:\n",
    "        fibonacci_sequence = generate_fibonacci(n)\n",
    "        print(\"Fibonacci sequence up to the\", n, \"term(s):\", fibonacci_sequence)\n"
   ]
  },
  {
   "cell_type": "code",
   "execution_count": 8,
   "id": "093d32b4-4ea0-4b07-909a-9abbbd3ff38c",
   "metadata": {},
   "outputs": [
    {
     "name": "stdout",
     "output_type": "stream",
     "text": [
      "Welcome to Text-Based Blackjack!\n",
      "\n",
      "Your hand:\n",
      "Five of Clubs\n",
      "Nine of Diamonds\n",
      "\n",
      "Computer's hand:\n",
      "Seven of Clubs\n",
      "Face-down card\n"
     ]
    },
    {
     "name": "stdin",
     "output_type": "stream",
     "text": [
      "\n",
      "Do you want to 'hit' or 'stand'?  hit\n"
     ]
    },
    {
     "name": "stdout",
     "output_type": "stream",
     "text": [
      "\n",
      "Your new card:\n",
      "King of Spades\n",
      "\n",
      "Bust! You lose.\n"
     ]
    },
    {
     "name": "stdin",
     "output_type": "stream",
     "text": [
      "\n",
      "Do you want to play again? (yes/no):  no\n"
     ]
    }
   ],
   "source": [
    "import random\n",
    "\n",
    "# Initialize deck and card values\n",
    "suits = ['Hearts', 'Diamonds', 'Clubs', 'Spades']\n",
    "ranks = ['Two', 'Three', 'Four', 'Five', 'Six', 'Seven', 'Eight', 'Nine', 'Ten', 'Jack', 'Queen', 'King', 'Ace']\n",
    "card_values = {'Two': 2, 'Three': 3, 'Four': 4, 'Five': 5, 'Six': 6, 'Seven': 7, 'Eight': 8, 'Nine': 9, 'Ten': 10,\n",
    "               'Jack': 10, 'Queen': 10, 'King': 10, 'Ace': 11}\n",
    "\n",
    "# Initialize the deck\n",
    "deck = [{'rank': rank, 'suit': suit} for rank in ranks for suit in suits]\n",
    "\n",
    "def get_card_value(card):\n",
    "    return card_values[card['rank']]\n",
    "\n",
    "def deal_card(deck):\n",
    "    card = random.choice(deck)\n",
    "    deck.remove(card)\n",
    "    return card\n",
    "\n",
    "def calculate_hand_value(hand):\n",
    "    value = sum(get_card_value(card) for card in hand)\n",
    "    # Check for aces and adjust their value\n",
    "    aces = [card for card in hand if card['rank'] == 'Ace']\n",
    "    for ace in aces:\n",
    "        if value > 21:\n",
    "            value -= 10\n",
    "    return value\n",
    "\n",
    "def blackjack_game():\n",
    "    print(\"Welcome to Text-Based Blackjack!\")\n",
    "    \n",
    "    while True:\n",
    "        # Initialize the deck and hands\n",
    "        deck = [{'rank': rank, 'suit': suit} for rank in ranks for suit in suits]\n",
    "        player_hand = [deal_card(deck), deal_card(deck)]\n",
    "        computer_hand = [deal_card(deck), deal_card(deck)]\n",
    "        \n",
    "        print(\"\\nYour hand:\")\n",
    "        print(player_hand[0]['rank'], 'of', player_hand[0]['suit'])\n",
    "        print(player_hand[1]['rank'], 'of', player_hand[1]['suit'])\n",
    "\n",
    "        print(\"\\nComputer's hand:\")\n",
    "        print(computer_hand[0]['rank'], 'of', computer_hand[0]['suit'])\n",
    "        print(\"Face-down card\")\n",
    "\n",
    "        while True:\n",
    "            player_value = calculate_hand_value(player_hand)\n",
    "            if player_value == 21:\n",
    "                print(\"\\nBlackjack! You win!\")\n",
    "                break\n",
    "            elif player_value > 21:\n",
    "                print(\"\\nBust! You lose.\")\n",
    "                break\n",
    "\n",
    "            action = input(\"\\nDo you want to 'hit' or 'stand'? \").lower()\n",
    "            if action == 'hit':\n",
    "                card = deal_card(deck)\n",
    "                player_hand.append(card)\n",
    "                print(\"\\nYour new card:\")\n",
    "                print(card['rank'], 'of', card['suit'])\n",
    "            elif action == 'stand':\n",
    "                while calculate_hand_value(computer_hand) < 17:\n",
    "                    card = deal_card(deck)\n",
    "                    computer_hand.append(card)\n",
    "                print(\"\\nComputer's hand:\")\n",
    "                for card in computer_hand:\n",
    "                    print(card['rank'], 'of', card['suit'])\n",
    "                computer_value = calculate_hand_value(computer_hand)\n",
    "                if computer_value > 21:\n",
    "                    print(\"Computer busts! You win!\")\n",
    "                elif computer_value == player_value:\n",
    "                    print(\"It's a tie!\")\n",
    "                elif computer_value > player_value:\n",
    "                    print(\"Computer wins!\")\n",
    "                else:\n",
    "                    print(\"You win!\")\n",
    "                break\n",
    "            else:\n",
    "                print(\"Invalid input. Please enter 'hit' or 'stand'.\")\n",
    "\n",
    "        play_again = input(\"\\nDo you want to play again? (yes/no): \").lower()\n",
    "        if play_again != 'yes':\n",
    "            break\n",
    "\n",
    "if __name__ == \"__main__\":\n",
    "    blackjack_game()\n"
   ]
  },
  {
   "cell_type": "code",
   "execution_count": 13,
   "id": "1eb6ca21-2dac-4a26-a898-4ffc89e50b25",
   "metadata": {},
   "outputs": [
    {
     "name": "stdin",
     "output_type": "stream",
     "text": [
      "Enter a number to find its prime factors:  24\n"
     ]
    },
    {
     "name": "stdout",
     "output_type": "stream",
     "text": [
      "The prime factors of 24 are: [2, 2, 2, 3]\n"
     ]
    }
   ],
   "source": [
    "def prime_factors(n):\n",
    "    factors = []\n",
    "    divisor = 2\n",
    "\n",
    "    while divisor <= n:\n",
    "        if n % divisor == 0:\n",
    "            factors.append(divisor)\n",
    "            n = n // divisor  # Integer division\n",
    "        else:\n",
    "            divisor += 1\n",
    "\n",
    "    return factors\n",
    "\n",
    "if __name__ == \"__main__\":\n",
    "    try:\n",
    "        num = int(input(\"Enter a number to find its prime factors: \"))\n",
    "        if num <= 0:\n",
    "            print(\"Please enter a positive integer.\")\n",
    "        else:\n",
    "            factors = prime_factors(num)\n",
    "            if len(factors) == 0:\n",
    "                print(f\"{num} is a prime number and has no prime factors.\")\n",
    "            else:\n",
    "                print(f\"The prime factors of {num} are: {factors}\")\n",
    "    except ValueError:\n",
    "        print(\"Invalid input. Please enter a positive integer.\")\n"
   ]
  }
 ],
 "metadata": {
  "kernelspec": {
   "display_name": "Python 3 (ipykernel)",
   "language": "python",
   "name": "python3"
  },
  "language_info": {
   "codemirror_mode": {
    "name": "ipython",
    "version": 3
   },
   "file_extension": ".py",
   "mimetype": "text/x-python",
   "name": "python",
   "nbconvert_exporter": "python",
   "pygments_lexer": "ipython3",
   "version": "3.10.8"
  }
 },
 "nbformat": 4,
 "nbformat_minor": 5
}

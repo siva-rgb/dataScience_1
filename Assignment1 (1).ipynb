{
 "cells": [
  {
   "cell_type": "code",
   "execution_count": 3,
   "id": "666531dd-80a8-43df-ae40-c74401e36c0c",
   "metadata": {},
   "outputs": [
    {
     "name": "stdout",
     "output_type": "stream",
     "text": [
      "Before Swap 10 20\n",
      "After Swap 20 10\n"
     ]
    }
   ],
   "source": [
    "#swap of 2 number without using 3rd variabale\n",
    "\n",
    "x=10\n",
    "y=20\n",
    "print(\"Before Swap\",x,y)\n",
    "x=x^y\n",
    "y=x^y\n",
    "x=x^y\n",
    "print(\"After Swap\",x,y)"
   ]
  },
  {
   "cell_type": "code",
   "execution_count": 11,
   "id": "889b25e2-94fa-432e-b2fe-250cef2f0e8e",
   "metadata": {},
   "outputs": [
    {
     "name": "stdin",
     "output_type": "stream",
     "text": [
      "Enter the Length:  4\n",
      "Enter the widthL:  3\n"
     ]
    },
    {
     "name": "stdout",
     "output_type": "stream",
     "text": [
      "The area of the rectangle:  12\n"
     ]
    }
   ],
   "source": [
    "#Find the area of a rectangle\n",
    "length=int(input('Enter the Length: '))\n",
    "width=int(input('Enter the widthL: '))\n",
    "#l=int(length)\n",
    "#w=int(width)\n",
    "area=length*width\n",
    "print(\"The area of the rectangle: \", area)"
   ]
  },
  {
   "cell_type": "code",
   "execution_count": 15,
   "id": "1e48bad6-4a60-4c42-b93c-27578e563de2",
   "metadata": {},
   "outputs": [
    {
     "name": "stdin",
     "output_type": "stream",
     "text": [
      "Enter tempreture in celsius:  5.9\n"
     ]
    },
    {
     "name": "stdout",
     "output_type": "stream",
     "text": [
      "Temprature in Fahrenheit:  42.620000000000005 F\n"
     ]
    }
   ],
   "source": [
    "#converts temperatures from Celsius to Fahrenheit\n",
    "\n",
    "cel=float(input('Enter tempreture in celsius: '))\n",
    "fahr=(cel*(9/5))+32\n",
    "\n",
    "print('Temprature in Fahrenheit: ',fahr,'F')"
   ]
  },
  {
   "cell_type": "code",
   "execution_count": 16,
   "id": "bc8cdb69-a1f2-46e5-b890-f3fa97bf5f23",
   "metadata": {},
   "outputs": [
    {
     "data": {
      "text/plain": [
       "11"
      ]
     },
     "execution_count": 16,
     "metadata": {},
     "output_type": "execute_result"
    }
   ],
   "source": [
    "#string as input and prints the length of the string\n",
    "s=\"Hello World\"\n",
    "len(s)"
   ]
  },
  {
   "cell_type": "code",
   "execution_count": 23,
   "id": "f80e1835-a51e-47af-b19d-96b28f0d13f0",
   "metadata": {},
   "outputs": [
    {
     "name": "stdin",
     "output_type": "stream",
     "text": [
      "Enter your Sentence:  Hello World\n"
     ]
    },
    {
     "name": "stdout",
     "output_type": "stream",
     "text": [
      "3\n"
     ]
    }
   ],
   "source": [
    "#program to count vowel in a string\n",
    "\n",
    "string=input('Enter your Sentence: ')\n",
    "cnt=0\n",
    "n=len(string)\n",
    "for i in string:\n",
    "    if i=='a' or i=='A':\n",
    "        cnt+=1\n",
    "    if i=='e' or i=='E':\n",
    "        cnt+=1\n",
    "    if i=='i' or i=='I':\n",
    "        cnt+=1\n",
    "    if i=='o' or i=='O':\n",
    "        cnt+=1\n",
    "    if i=='u' or i=='U':\n",
    "        cnt+=1\n",
    "        \n",
    "print('The count of Vowels: 'cnt)"
   ]
  },
  {
   "cell_type": "code",
   "execution_count": 24,
   "id": "78f70d17-a4e9-406d-bb65-68416c3a692c",
   "metadata": {},
   "outputs": [
    {
     "name": "stdin",
     "output_type": "stream",
     "text": [
      "Enter your String Hello World\n"
     ]
    },
    {
     "name": "stdout",
     "output_type": "stream",
     "text": [
      "dlroW olleH\n"
     ]
    }
   ],
   "source": [
    "#reverse the order of characters using string slicing and print the reversed string\n",
    "string = input('Enter your String')\n",
    "rev_string = string[::-1]\n",
    "print(rev_string)"
   ]
  },
  {
   "cell_type": "code",
   "execution_count": 34,
   "id": "c0077d32-8cd3-40f8-b95a-1f3f8a9622f0",
   "metadata": {},
   "outputs": [
    {
     "name": "stdin",
     "output_type": "stream",
     "text": [
      "Enter your String abbabba\n"
     ]
    },
    {
     "name": "stdout",
     "output_type": "stream",
     "text": [
      "This is a Palindrome String\n"
     ]
    }
   ],
   "source": [
    "#palindrome\n",
    "\n",
    "string=input('Enter your String')\n",
    "\n",
    "i=0\n",
    "j=len(string)-1\n",
    "is_palindrome=False\n",
    "while i<j:\n",
    "    if string[i]==string[j]:\n",
    "        is_palindrome=True\n",
    "    else:\n",
    "        is_palindrome=False\n",
    "    i+=1\n",
    "    j-=1\n",
    "    \n",
    "if is_palindrome:\n",
    "    print('This is a Palindrome String')\n",
    "else:\n",
    "    print('This is not a Palindrome String ')"
   ]
  },
  {
   "cell_type": "code",
   "execution_count": 35,
   "id": "81bf7a05-f216-4d4f-b1e2-a1de9d80fa02",
   "metadata": {},
   "outputs": [
    {
     "name": "stdin",
     "output_type": "stream",
     "text": [
      "Enter a string:  Hello World\n"
     ]
    },
    {
     "name": "stdout",
     "output_type": "stream",
     "text": [
      "Modified string without spaces: HelloWorld\n"
     ]
    }
   ],
   "source": [
    "#takes a string as input and removes all the spaces from it\n",
    "\n",
    "input_string = input(\"Enter a string: \")\n",
    "modified_string = input_string.replace(\" \", \"\")\n",
    "print(\"Modified string without spaces:\", modified_string)"
   ]
  },
  {
   "cell_type": "code",
   "execution_count": null,
   "id": "ac0c1ad8-ca78-4c1b-98e8-781f23650d09",
   "metadata": {},
   "outputs": [],
   "source": []
  }
 ],
 "metadata": {
  "kernelspec": {
   "display_name": "Python 3 (ipykernel)",
   "language": "python",
   "name": "python3"
  },
  "language_info": {
   "codemirror_mode": {
    "name": "ipython",
    "version": 3
   },
   "file_extension": ".py",
   "mimetype": "text/x-python",
   "name": "python",
   "nbconvert_exporter": "python",
   "pygments_lexer": "ipython3",
   "version": "3.10.8"
  }
 },
 "nbformat": 4,
 "nbformat_minor": 5
}

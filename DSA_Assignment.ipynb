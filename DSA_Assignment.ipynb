{
 "cells": [
  {
   "cell_type": "code",
   "execution_count": 1,
   "id": "e3a53fe4-7e88-4043-abab-ea838f4dda5e",
   "metadata": {},
   "outputs": [
    {
     "name": "stdout",
     "output_type": "stream",
     "text": [
      "Original list:\n",
      "1 -> 2 -> 3 -> 4 -> 5\n",
      "Reversed list:\n",
      "5 -> 4 -> 3 -> 2 -> 1\n"
     ]
    }
   ],
   "source": [
    "# #Reverse a singly linked list. \n",
    "# Input: 1 -> 2 -> 3 -> 4 -> 5  Output: 5 -> 4 -> 3 -> 2 -> 1  \n",
    "class ListNode:\n",
    "    def __init__(self, value=0, next=None):\n",
    "        self.value = value\n",
    "        self.next = next\n",
    "\n",
    "def reverse_linked_list(head):\n",
    "    prev = None\n",
    "    current = head\n",
    "    \n",
    "    while current is not None:\n",
    "        next_node = current.next  \n",
    "        current.next = prev      \n",
    "        prev = current            \n",
    "        current = next_node\n",
    "    \n",
    "    return prev  # prev is the new head of the reversed list\n",
    "\n",
    "def print_linked_list(head):\n",
    "    current = head\n",
    "    while current:\n",
    "        print(current.value, end=\" -> \" if current.next else \"\")\n",
    "        current = current.next\n",
    "    print()\n",
    "\n",
    "head = ListNode(1, ListNode(2, ListNode(3, ListNode(4, ListNode(5)))))\n",
    "\n",
    "print(\"Original list:\")\n",
    "print_linked_list(head)\n",
    "\n",
    "# Reversing the linked list\n",
    "reversed_head = reverse_linked_list(head)\n",
    "\n",
    "print(\"Reversed list:\")\n",
    "print_linked_list(reversed_head)\n"
   ]
  },
  {
   "cell_type": "code",
   "execution_count": 2,
   "id": "a0f65869-7ea4-42cb-8ca5-93c41a92e3e6",
   "metadata": {},
   "outputs": [
    {
     "name": "stdout",
     "output_type": "stream",
     "text": [
      "List 1:\n",
      "1 -> 3 -> 5\n",
      "List 2:\n",
      "2 -> 4 -> 6\n",
      "Merged list:\n",
      "1 -> 2 -> 3 -> 4 -> 5 -> 6\n"
     ]
    }
   ],
   "source": [
    "#Merge two sorted linked lists into one sorted linked list. \n",
    "# Input: List 1: 1 -> 3 -> 5, List 2: 2 -> 4 -> 6  Output: 1 -> 2 -> 3 -> 4 -> 5 -> 6  \n",
    "class ListNode:\n",
    "    def __init__(self, value=0, next=None):\n",
    "        self.value = value\n",
    "        self.next = next\n",
    "\n",
    "def merge_sorted_lists(l1, l2):\n",
    "\n",
    "    dummy = ListNode()\n",
    "    current = dummy\n",
    "    \n",
    "    while l1 and l2:\n",
    "        if l1.value <= l2.value:\n",
    "            current.next = l1\n",
    "            l1 = l1.next\n",
    "        else:\n",
    "            current.next = l2\n",
    "            l2 = l2.next\n",
    "        current = current.next\n",
    "    \n",
    "\n",
    "    if l1:\n",
    "        current.next = l1\n",
    "    if l2:\n",
    "        current.next = l2\n",
    "    \n",
    "    return dummy.next\n",
    "\n",
    "def print_linked_list(head):\n",
    "    current = head\n",
    "    while current:\n",
    "        print(current.value, end=\" -> \" if current.next else \"\")\n",
    "        current = current.next\n",
    "    print()\n",
    "\n",
    "\n",
    "list1 = ListNode(1, ListNode(3, ListNode(5)))\n",
    "\n",
    "list2 = ListNode(2, ListNode(4, ListNode(6)))\n",
    "\n",
    "print(\"List 1:\")\n",
    "print_linked_list(list1)\n",
    "\n",
    "print(\"List 2:\")\n",
    "print_linked_list(list2)\n",
    "\n",
    "# Merging the two lists\n",
    "merged_list = merge_sorted_lists(list1, list2)\n",
    "\n",
    "print(\"Merged list:\")\n",
    "print_linked_list(merged_list)\n"
   ]
  },
  {
   "cell_type": "code",
   "execution_count": 3,
   "id": "e41b1b74-458c-45e7-8325-0f951fa967ae",
   "metadata": {},
   "outputs": [
    {
     "name": "stdout",
     "output_type": "stream",
     "text": [
      "Original list:\n",
      "1 -> 2 -> 3 -> 4 -> 5\n",
      "List after removing the 2nd node from the end:\n",
      "1 -> 2 -> 3 -> 5\n"
     ]
    }
   ],
   "source": [
    "# #Remove the nth node from the end of a linked list.  \n",
    "# Input: 1 -> 2 -> 3 -> 4 -> 5, n = 2  Output: 1 -> 2 -> 3 -> 5  \n",
    "class ListNode:\n",
    "    def __init__(self, value=0, next=None):\n",
    "        self.value = value\n",
    "        self.next = next\n",
    "\n",
    "def remove_nth_from_end(head, n):\n",
    "    dummy = ListNode(0)\n",
    "    dummy.next = head\n",
    "    first = dummy\n",
    "    second = dummy\n",
    "    \n",
    "    # Move first pointer so that it is n+1 nodes ahead of second pointer\n",
    "    for _ in range(n + 1):\n",
    "        first = first.next\n",
    "    \n",
    "    # Move first to the end, maintaining the gap\n",
    "    while first is not None:\n",
    "        first = first.next\n",
    "        second = second.next\n",
    "    \n",
    "    # Remove the nth node from the end\n",
    "    second.next = second.next.next\n",
    "    \n",
    "    return dummy.next\n",
    "\n",
    "def print_linked_list(head):\n",
    "    current = head\n",
    "    while current:\n",
    "        print(current.value, end=\" -> \" if current.next else \"\")\n",
    "        current = current.next\n",
    "    print()\n",
    "\n",
    "\n",
    "head = ListNode(1, ListNode(2, ListNode(3, ListNode(4, ListNode(5)))))\n",
    "\n",
    "print(\"Original list:\")\n",
    "print_linked_list(head)\n",
    "\n",
    "# Removing the 2nd node from the end\n",
    "new_head = remove_nth_from_end(head, 2)\n",
    "\n",
    "print(\"List after removing the 2nd node from the end:\")\n",
    "print_linked_list(new_head)\n"
   ]
  },
  {
   "cell_type": "code",
   "execution_count": 4,
   "id": "4bc8633c-256d-4c37-ae52-5289294562bc",
   "metadata": {},
   "outputs": [
    {
     "name": "stdout",
     "output_type": "stream",
     "text": [
      "Intersection node value: 3\n"
     ]
    }
   ],
   "source": [
    "# Find the intersection point of two linked lists.  \n",
    "# Input: List 1: 1 -> 2 -> 3 -> 4, List 2: 9 -> 8 -> 3 -> 4  Output: Node with value 3  \n",
    "class ListNode:\n",
    "    def __init__(self, value=0, next=None):\n",
    "        self.value = value\n",
    "        self.next = next\n",
    "\n",
    "def get_intersection_node(head1, head2):\n",
    "    if not head1 or not head2:\n",
    "        return None\n",
    "    \n",
    "    pointer1 = head1\n",
    "    pointer2 = head2\n",
    "    \n",
    "    # Traverse both lists\n",
    "    while pointer1 != pointer2:\n",
    "        # Move to the next node or to the head of the other list\n",
    "        pointer1 = pointer1.next if pointer1 else head2\n",
    "        pointer2 = pointer2.next if pointer2 else head1\n",
    "    \n",
    "    # Either pointer1 or pointer2 is now at the intersection node, or both are None\n",
    "    return pointer1\n",
    "\n",
    "def print_linked_list(head):\n",
    "    current = head\n",
    "    while current:\n",
    "        print(current.value, end=\" -> \" if current.next else \"\")\n",
    "        current = current.next\n",
    "    print()\n",
    "\n",
    "\n",
    "list1 = ListNode(1, ListNode(2, ListNode(3, ListNode(4))))\n",
    "\n",
    "\n",
    "list2 = ListNode(9, ListNode(8, list1.next.next)) \n",
    "\n",
    "\n",
    "intersection_node = get_intersection_node(list1, list2)\n",
    "\n",
    "print(\"Intersection node value:\", intersection_node.value if intersection_node else \"No intersection\")\n"
   ]
  },
  {
   "cell_type": "code",
   "execution_count": 1,
   "id": "47bfa60e-2c58-454b-b3f5-300d70593769",
   "metadata": {},
   "outputs": [
    {
     "name": "stdout",
     "output_type": "stream",
     "text": [
      "Original list:\n",
      "1 -> 1 -> 2 -> 3 -> 3\n",
      "List after removing duplicates:\n",
      "1 -> 2 -> 3\n"
     ]
    }
   ],
   "source": [
    "# Remove duplicates from a sorted linked list.  \n",
    "# Input: 1 -> 1 -> 2 -> 3 -> 3  Output: 1 -> 2 -> 3  \n",
    "class ListNode:\n",
    "    def __init__(self, value=0, next=None):\n",
    "        self.value = value\n",
    "        self.next = next\n",
    "\n",
    "def remove_duplicates(head):\n",
    "    current = head\n",
    "    \n",
    "    while current and current.next:\n",
    "        if current.value == current.next.value:\n",
    "            # Skip the duplicate node\n",
    "            current.next = current.next.next\n",
    "        else:\n",
    "            # Move to the next distinct node\n",
    "            current = current.next\n",
    "    \n",
    "    return head\n",
    "\n",
    "def print_linked_list(head):\n",
    "    current = head\n",
    "    while current:\n",
    "        print(current.value, end=\" -> \" if current.next else \"\")\n",
    "        current = current.next\n",
    "    print()\n",
    "\n",
    "\n",
    "head = ListNode(1, ListNode(1, ListNode(2, ListNode(3, ListNode(3)))))\n",
    "\n",
    "print(\"Original list:\")\n",
    "print_linked_list(head)\n",
    "\n",
    "# Removing duplicates\n",
    "new_head = remove_duplicates(head)\n",
    "\n",
    "print(\"List after removing duplicates:\")\n",
    "print_linked_list(new_head)\n"
   ]
  },
  {
   "cell_type": "code",
   "execution_count": 2,
   "id": "7b8b1f5e-5eb0-4d76-ad49-35c01821dba0",
   "metadata": {},
   "outputs": [
    {
     "name": "stdout",
     "output_type": "stream",
     "text": [
      "List 1:\n",
      "2 -> 4 -> 3\n",
      "List 2:\n",
      "5 -> 6 -> 4\n",
      "Result list:\n",
      "7 -> 0 -> 8\n"
     ]
    }
   ],
   "source": [
    "# Add two numbers represented by linked lists (where each node contains a single digit).  \n",
    "# Input: List 1: 2 -> 4 -> 3, List 2: 5 -> 6 -> 4 (represents 342 + 465)  Output: 7 -> 0 -> 8 (represents 807)  \n",
    "class ListNode:\n",
    "    def __init__(self, value=0, next=None):\n",
    "        self.value = value\n",
    "        self.next = next\n",
    "\n",
    "def add_two_numbers(l1, l2):\n",
    "    # Create a dummy node to start the result list\n",
    "    dummy = ListNode()\n",
    "    current = dummy\n",
    "    carry = 0\n",
    "    \n",
    "    # Traverse both lists\n",
    "    while l1 or l2 or carry:\n",
    "        val1 = l1.value if l1 else 0\n",
    "        val2 = l2.value if l2 else 0\n",
    "        \n",
    "        # Compute the sum and the new carry\n",
    "        total = val1 + val2 + carry\n",
    "        carry = total // 10\n",
    "        total = total % 10\n",
    "        \n",
    "        # Create a new node for the sum and advance the pointer\n",
    "        current.next = ListNode(total)\n",
    "        current = current.next\n",
    "        \n",
    "        # Move to the next nodes in the lists\n",
    "        if l1:\n",
    "            l1 = l1.next\n",
    "        if l2:\n",
    "            l2 = l2.next\n",
    "    \n",
    "    return dummy.next\n",
    "\n",
    "def print_linked_list(head):\n",
    "    current = head\n",
    "    while current:\n",
    "        print(current.value, end=\" -> \" if current.next else \"\")\n",
    "        current = current.next\n",
    "    print()\n",
    "\n",
    "\n",
    "l1 = ListNode(2, ListNode(4, ListNode(3)))\n",
    "\n",
    "\n",
    "l2 = ListNode(5, ListNode(6, ListNode(4)))\n",
    "\n",
    "print(\"List 1:\")\n",
    "print_linked_list(l1)\n",
    "\n",
    "print(\"List 2:\")\n",
    "print_linked_list(l2)\n",
    "\n",
    "# Adding the two lists\n",
    "result = add_two_numbers(l1, l2)\n",
    "\n",
    "print(\"Result list:\")\n",
    "print_linked_list(result)\n"
   ]
  },
  {
   "cell_type": "code",
   "execution_count": 3,
   "id": "101fb418-ca5b-43d7-8cf0-7cc467d1b410",
   "metadata": {},
   "outputs": [
    {
     "name": "stdout",
     "output_type": "stream",
     "text": [
      "Original list:\n",
      "1 -> 2 -> 3 -> 4\n",
      "List after swapping nodes in pairs:\n",
      "2 -> 1 -> 4 -> 3\n"
     ]
    }
   ],
   "source": [
    "# Swap nodes in pairs in a linked list.  \n",
    "# Input: 1 -> 2 -> 3 -> 4  Output: 2 -> 1 -> 4 -> 3  \n",
    "# # \n",
    "\n",
    "class ListNode:\n",
    "    def __init__(self, value=0, next=None):\n",
    "        self.value = value\n",
    "        self.next = next\n",
    "\n",
    "def swap_pairs(head):\n",
    "    # Create a dummy node to point to the head\n",
    "    dummy = ListNode(0)\n",
    "    dummy.next = head\n",
    "    current = dummy\n",
    "    \n",
    "    # Traverse the list and swap pairs\n",
    "    while current.next and current.next.next:\n",
    "        # Nodes to be swapped\n",
    "        first_node = current.next\n",
    "        second_node = current.next.next\n",
    "        \n",
    "        # Swapping\n",
    "        first_node.next = second_node.next\n",
    "        second_node.next = first_node\n",
    "        current.next = second_node\n",
    "        \n",
    "        # Move to the next pair\n",
    "        current = first_node\n",
    "    \n",
    "    # Return the new head\n",
    "    return dummy.next\n",
    "\n",
    "def print_linked_list(head):\n",
    "    current = head\n",
    "    while current:\n",
    "        print(current.value, end=\" -> \" if current.next else \"\")\n",
    "        current = current.next\n",
    "    print()\n",
    "\n",
    "\n",
    "head = ListNode(1, ListNode(2, ListNode(3, ListNode(4))))\n",
    "\n",
    "print(\"Original list:\")\n",
    "print_linked_list(head)\n",
    "\n",
    "# Swapping nodes in pairs\n",
    "new_head = swap_pairs(head)\n",
    "\n",
    "print(\"List after swapping nodes in pairs:\")\n",
    "print_linked_list(new_head)\n"
   ]
  },
  {
   "cell_type": "code",
   "execution_count": 4,
   "id": "5cead643-68bd-4f1f-9060-78c5fc607a3e",
   "metadata": {},
   "outputs": [
    {
     "name": "stdout",
     "output_type": "stream",
     "text": [
      "Original list:\n",
      "1 -> 2 -> 3 -> 4 -> 5\n",
      "List after reversing nodes in groups of k = 3:\n",
      "3 -> 2 -> 1 -> 4 -> 5\n"
     ]
    }
   ],
   "source": [
    "# Reverse nodes in a linked list in groups of k.  \n",
    "# Input: 1 -> 2 -> 3 -> 4 -> 5, k = 3  Output: 3 -> 2 -> 1 -> 4 -> 5  \n",
    "class ListNode:\n",
    "    def __init__(self, value=0, next=None):\n",
    "        self.value = value\n",
    "        self.next = next\n",
    "\n",
    "def reverse_k_group(head, k):\n",
    "    # Create a dummy node to point to the head\n",
    "    dummy = ListNode(0)\n",
    "    dummy.next = head\n",
    "    current = dummy\n",
    "    next_node = None\n",
    "    prev = dummy\n",
    "    \n",
    "    # Count the total number of nodes in the linked list\n",
    "    count = 0\n",
    "    while head:\n",
    "        count += 1\n",
    "        head = head.next\n",
    "    \n",
    "    # Loop to reverse every k nodes\n",
    "    while count >= k:\n",
    "        current = prev.next\n",
    "        next_node = current.next\n",
    "        \n",
    "        # Reverse the group of k nodes\n",
    "        for _ in range(1, k):\n",
    "            current.next = next_node.next\n",
    "            next_node.next = prev.next\n",
    "            prev.next = next_node\n",
    "            next_node = current.next\n",
    "        \n",
    "        # Move prev pointer k nodes ahead\n",
    "        prev = current\n",
    "        count -= k\n",
    "    \n",
    "    return dummy.next\n",
    "\n",
    "def print_linked_list(head):\n",
    "    current = head\n",
    "    while current:\n",
    "        print(current.value, end=\" -> \" if current.next else \"\")\n",
    "        current = current.next\n",
    "    print()\n",
    "\n",
    "# Creating the linked list 1 -> 2 -> 3 -> 4 -> 5\n",
    "head = ListNode(1, ListNode(2, ListNode(3, ListNode(4, ListNode(5)))))\n",
    "\n",
    "print(\"Original list:\")\n",
    "print_linked_list(head)\n",
    "\n",
    "# Reversing nodes in groups of k = 3\n",
    "k = 3\n",
    "new_head = reverse_k_group(head, k)\n",
    "\n",
    "print(\"List after reversing nodes in groups of k = 3:\")\n",
    "print_linked_list(new_head)\n"
   ]
  },
  {
   "cell_type": "code",
   "execution_count": 5,
   "id": "c6cbea54-7af6-4509-8857-e7e941fb9d2a",
   "metadata": {},
   "outputs": [
    {
     "name": "stdout",
     "output_type": "stream",
     "text": [
      "Original list:\n",
      "1 -> 2 -> 2 -> 1\n",
      "Is the linked list a palindrome?\n",
      "True\n"
     ]
    }
   ],
   "source": [
    "#  Determine if a linked list is a palindrome.  \n",
    "# Input: 1 -> 2 -> 2 -> 1  Output: True  \n",
    "class ListNode:\n",
    "    def __init__(self, value=0, next=None):\n",
    "        self.value = value\n",
    "        self.next = next\n",
    "\n",
    "def is_palindrome(head):\n",
    "    if not head or not head.next:\n",
    "        return True\n",
    "    \n",
    "    # Step 1: Find the middle of the linked list\n",
    "    slow, fast = head, head\n",
    "    while fast and fast.next:\n",
    "        slow = slow.next\n",
    "        fast = fast.next.next\n",
    "    \n",
    "    # Step 2: Reverse the second half of the list\n",
    "    prev = None\n",
    "    while slow:\n",
    "        next_node = slow.next\n",
    "        slow.next = prev\n",
    "        prev = slow\n",
    "        slow = next_node\n",
    "    \n",
    "    # Step 3: Compare the first half and the reversed second half\n",
    "    left, right = head, prev\n",
    "    while right:\n",
    "        if left.value != right.value:\n",
    "            return False\n",
    "        left = left.next\n",
    "        right = right.next\n",
    "        \n",
    "    return True\n",
    "\n",
    "def print_linked_list(head):\n",
    "    current = head\n",
    "    while current:\n",
    "        print(current.value, end=\" -> \" if current.next else \"\")\n",
    "        current = current.next\n",
    "    print()\n",
    "\n",
    "\n",
    "head = ListNode(1, ListNode(2, ListNode(2, ListNode(1))))\n",
    "\n",
    "print(\"Original list:\")\n",
    "print_linked_list(head)\n",
    "\n",
    "result = is_palindrome(head)\n",
    "\n",
    "print(\"Is the linked list a palindrome?\")\n",
    "print(result)\n"
   ]
  },
  {
   "cell_type": "code",
   "execution_count": 6,
   "id": "bd3d6101-e89a-48a7-87f4-a2bb09ed0ec4",
   "metadata": {},
   "outputs": [
    {
     "name": "stdout",
     "output_type": "stream",
     "text": [
      "Original list:\n",
      "1 -> 2 -> 3 -> 4 -> 5\n",
      "List after rotating to the right by k = 2:\n",
      "4 -> 5 -> 1 -> 2 -> 3\n"
     ]
    }
   ],
   "source": [
    "#  Rotate a linked list to the right by k places. \n",
    "# Input: 1 -> 2 -> 3 -> 4 -> 5, k = 2  Output: 4 -> 5 -> 1 -> 2 -> 3  \n",
    "class ListNode:\n",
    "    def __init__(self, value=0, next=None):\n",
    "        self.value = value\n",
    "        self.next = next\n",
    "\n",
    "def rotate_right(head, k):\n",
    "    if not head or not head.next or k == 0:\n",
    "        return head\n",
    "\n",
    "    # Calculate the length of the list and find the last node\n",
    "    length = 1\n",
    "    last_node = head\n",
    "    while last_node.next:\n",
    "        last_node = last_node.next\n",
    "        length += 1\n",
    "\n",
    "    # Make the list circular\n",
    "    last_node.next = head\n",
    "\n",
    "    # Find the new tail and the new head\n",
    "    k = k % length  # Adjust k in case it's greater than the length\n",
    "    steps_to_new_tail = length - k\n",
    "    new_tail = head\n",
    "    \n",
    "    for _ in range(steps_to_new_tail - 1):\n",
    "        new_tail = new_tail.next\n",
    "    \n",
    "    new_head = new_tail.next\n",
    "    # Break the circular list to form the new list\n",
    "    new_tail.next = None\n",
    "    \n",
    "    return new_head\n",
    "\n",
    "def print_linked_list(head):\n",
    "    current = head\n",
    "    while current:\n",
    "        print(current.value, end=\" -> \" if current.next else \"\")\n",
    "        current = current.next\n",
    "    print()\n",
    "\n",
    "# Creating the linked list 1 -> 2 -> 3 -> 4 -> 5\n",
    "head = ListNode(1, ListNode(2, ListNode(3, ListNode(4, ListNode(5)))))\n",
    "\n",
    "print(\"Original list:\")\n",
    "print_linked_list(head)\n",
    "\n",
    "# Rotate the list to the right by k = 2 places\n",
    "k = 2\n",
    "new_head = rotate_right(head, k)\n",
    "\n",
    "print(\"List after rotating to the right by k = 2:\")\n",
    "print_linked_list(new_head)\n"
   ]
  },
  {
   "cell_type": "code",
   "execution_count": 9,
   "id": "d72a96ff-7c2a-4675-8d5c-85e1486c2b52",
   "metadata": {},
   "outputs": [
    {
     "name": "stdout",
     "output_type": "stream",
     "text": [
      "Original multilevel doubly linked list:\n",
      "1 <-> 2 <-> 3 <-> 4 <-> 5 <-> 6\n",
      "\n",
      "Flattened linked list:\n",
      "1 <-> 2 <-> 3 <-> 7 <-> 8 <-> 11 <-> 12 <-> 4 <-> 5 <-> 9 <-> 10 <-> 6 <-> 13\n"
     ]
    }
   ],
   "source": [
    "class Node:\n",
    "    def __init__(self, value=0, next=None, prev=None, child=None):\n",
    "        self.value = value\n",
    "        self.next = next\n",
    "        self.prev = prev\n",
    "        self.child = child\n",
    "\n",
    "def flatten(head):\n",
    "    if not head:\n",
    "        return head\n",
    "\n",
    "    # Helper function to flatten the list\n",
    "    def flatten_recursively(node):\n",
    "        current = node\n",
    "        tail = node\n",
    "\n",
    "        while current:\n",
    "            next_node = current.next\n",
    "            # If the current node has a child, flatten the child list\n",
    "            if current.child:\n",
    "                # Recursively flatten the child list\n",
    "                child_head = flatten_recursively(current.child)\n",
    "                \n",
    "                # Connect the current node to the child head\n",
    "                current.next = child_head\n",
    "                child_head.prev = current\n",
    "\n",
    "                # Find the tail of the flattened child list\n",
    "                child_tail = child_head\n",
    "                while child_tail.next:\n",
    "                    child_tail = child_tail.next\n",
    "\n",
    "                # If there's a next_node, connect the tail of the child list to it\n",
    "                if next_node:\n",
    "                    child_tail.next = next_node\n",
    "                    next_node.prev = child_tail\n",
    "\n",
    "                # Remove the child pointer\n",
    "                current.child = None\n",
    "                tail = child_tail\n",
    "            else:\n",
    "                tail = current\n",
    "\n",
    "            # Move to the next node\n",
    "            current = next_node\n",
    "        \n",
    "        return node\n",
    "\n",
    "    flatten_recursively(head)\n",
    "    return head\n",
    "\n",
    "def print_linked_list(head):\n",
    "    current = head\n",
    "    while current:\n",
    "        print(current.value, end=\" <-> \" if current.next else \"\")\n",
    "        current = current.next\n",
    "    print()\n",
    "\n",
    "\n",
    "# Creating the multilevel doubly linked list\n",
    "head = Node(1)\n",
    "head.next = Node(2)\n",
    "head.next.prev = head\n",
    "head.next.next = Node(3)\n",
    "head.next.next.prev = head.next\n",
    "\n",
    "head.next.next.child = Node(7)\n",
    "head.next.next.child.next = Node(8)\n",
    "head.next.next.child.next.prev = head.next.next.child\n",
    "\n",
    "head.next.next.child.next.child = Node(11)\n",
    "head.next.next.child.next.child.next = Node(12)\n",
    "head.next.next.child.next.child.next.prev = head.next.next.child.next.child\n",
    "\n",
    "head.next.next.next = Node(4)\n",
    "head.next.next.next.prev = head.next.next\n",
    "head.next.next.next.next = Node(5)\n",
    "head.next.next.next.next.prev = head.next.next.next\n",
    "\n",
    "head.next.next.next.next.child = Node(9)\n",
    "head.next.next.next.next.child.next = Node(10)\n",
    "head.next.next.next.next.child.next.prev = head.next.next.next.next.child\n",
    "\n",
    "head.next.next.next.next.next = Node(6)\n",
    "head.next.next.next.next.next.prev = head.next.next.next.next\n",
    "\n",
    "head.next.next.next.next.next.child = Node(13)\n",
    "\n",
    "print(\"Original multilevel doubly linked list:\")\n",
    "print_linked_list(head)\n",
    "\n",
    "# Flatten the multilevel doubly linked list\n",
    "flattened_head = flatten(head)\n",
    "\n",
    "print(\"\\nFlattened linked list:\")\n",
    "print_linked_list(flattened_head)\n"
   ]
  },
  {
   "cell_type": "code",
   "execution_count": 1,
   "id": "b911dc5a-9100-4d4b-961f-d20e6387bf91",
   "metadata": {},
   "outputs": [
    {
     "name": "stdout",
     "output_type": "stream",
     "text": [
      "Original linked list:\n",
      "1 -> 2 -> 3 -> 4 -> 5\n",
      "\n",
      "Rearranged linked list:\n",
      "1 -> 3 -> 5 -> 2 -> 4\n"
     ]
    }
   ],
   "source": [
    "# Rearrange a linked list such that all even positioned nodes are placed at the end.  \n",
    "# Input: 1 -> 2 -> 3 -> 4 -> 5  Output: 1 -> 3 -> 5 -> 2 -> 4  \n",
    "class ListNode:\n",
    "    def __init__(self, value=0, next=None):\n",
    "        self.value = value\n",
    "        self.next = next\n",
    "\n",
    "def rearrange_linked_list(head):\n",
    "    if not head or not head.next:\n",
    "        return head\n",
    "\n",
    "    # Initialize pointers for odd and even lists\n",
    "    odd_head = head\n",
    "    even_head = head.next\n",
    "    odd = odd_head\n",
    "    even = even_head\n",
    "\n",
    "    # Traverse the list\n",
    "    while even and even.next:\n",
    "        odd.next = even.next  # Link current odd node to the next odd node\n",
    "        odd = odd.next        # Move the odd pointer\n",
    "        even.next = odd.next  # Link current even node to the next even node\n",
    "        even = even.next      # Move the even pointer\n",
    "\n",
    "    # Connect odd list with even list\n",
    "    odd.next = even_head\n",
    "\n",
    "    return odd_head\n",
    "\n",
    "def print_linked_list(head):\n",
    "    current = head\n",
    "    while current:\n",
    "        print(current.value, end=\" -> \" if current.next else \"\")\n",
    "        current = current.next\n",
    "    print()\n",
    "\n",
    "# Creating the linked list 1 -> 2 -> 3 -> 4 -> 5\n",
    "head = ListNode(1)\n",
    "head.next = ListNode(2)\n",
    "head.next.next = ListNode(3)\n",
    "head.next.next.next = ListNode(4)\n",
    "head.next.next.next.next = ListNode(5)\n",
    "\n",
    "print(\"Original linked list:\")\n",
    "print_linked_list(head)\n",
    "\n",
    "# Rearrange the linked list\n",
    "rearranged_head = rearrange_linked_list(head)\n",
    "\n",
    "print(\"\\nRearranged linked list:\")\n",
    "print_linked_list(rearranged_head)\n"
   ]
  },
  {
   "cell_type": "code",
   "execution_count": 3,
   "id": "2a1d0ad0-c65f-482b-b17f-e08cc3217788",
   "metadata": {},
   "outputs": [
    {
     "name": "stdout",
     "output_type": "stream",
     "text": [
      "Original linked list:\n",
      "1 -> 2 -> 3\n",
      "\n",
      "Linked list after adding one:\n",
      "1 -> 2 -> 4\n"
     ]
    }
   ],
   "source": [
    "class ListNode:\n",
    "    def __init__(self, value=0, next=None):\n",
    "        self.value = value\n",
    "        self.next = next\n",
    "\n",
    "def reverse_linked_list(head):\n",
    "    prev = None\n",
    "    current = head\n",
    "    while current:\n",
    "        next_node = current.next\n",
    "        current.next = prev\n",
    "        prev = current\n",
    "        current = next_node\n",
    "    return prev\n",
    "\n",
    "def add_one(head):\n",
    "    # Step 1: Reverse the linked list\n",
    "    head = reverse_linked_list(head)\n",
    "\n",
    "    # Step 2: Add one to the reversed list\n",
    "    current = head\n",
    "    carry = 1  # Start with carry as 1 since we're adding one\n",
    "\n",
    "    while current:\n",
    "        current.value += carry\n",
    "        if current.value < 10:\n",
    "            carry = 0  # No further carry is needed\n",
    "            break\n",
    "        current.value = 0  # Set current node to 0 as it is 10 now\n",
    "        carry = 1  # Set carry for next node\n",
    "        if current.next is None and carry == 1:\n",
    "            current.next = ListNode(1)  # Add a new node with 1 if we're at the end\n",
    "            carry = 0  # Reset carry as we've handled it\n",
    "        current = current.next\n",
    "\n",
    "    # Step 3: Reverse the list again to restore original order\n",
    "    head = reverse_linked_list(head)\n",
    "    \n",
    "    return head\n",
    "\n",
    "def print_linked_list(head):\n",
    "    current = head\n",
    "    while current:\n",
    "        print(current.value, end=\" -> \" if current.next else \"\")\n",
    "        current = current.next\n",
    "    print()\n",
    "\n",
    "# Creating the linked list 1 -> 2 -> 3\n",
    "head = ListNode(1)\n",
    "head.next = ListNode(2)\n",
    "head.next.next = ListNode(3)\n",
    "\n",
    "print(\"Original linked list:\")\n",
    "print_linked_list(head)\n",
    "\n",
    "# Add one to the linked list\n",
    "result_head = add_one(head)\n",
    "\n",
    "print(\"\\nLinked list after adding one:\")\n",
    "print_linked_list(result_head)\n"
   ]
  },
  {
   "cell_type": "code",
   "execution_count": 4,
   "id": "09b2710a-9e31-4c84-9600-5cb8f90cf57f",
   "metadata": {},
   "outputs": [
    {
     "name": "stdout",
     "output_type": "stream",
     "text": [
      "2\n"
     ]
    }
   ],
   "source": [
    "# Given a sorted array and a target value, return the index if the target is found. If not, return the index where it would be inserted.  \n",
    "# Input: nums = [1, 3, 5, 6], target = 5  \n",
    "def search_insert(nums, target):\n",
    "    left, right = 0, len(nums) - 1\n",
    "    \n",
    "    while left <= right:\n",
    "        mid = (left + right) // 2\n",
    "        \n",
    "        # Check if the target is found\n",
    "        if nums[mid] == target:\n",
    "            return mid\n",
    "        # If target is smaller, go left\n",
    "        elif nums[mid] < target:\n",
    "            left = mid + 1\n",
    "        # If target is larger, go right\n",
    "        else:\n",
    "            right = mid - 1\n",
    "    \n",
    "    # If target is not found, left is the insertion point\n",
    "    return left\n",
    "\n",
    "nums = [1, 3, 5, 6]\n",
    "target = 5\n",
    "print(search_insert(nums, target)) \n"
   ]
  },
  {
   "cell_type": "code",
   "execution_count": 5,
   "id": "a361852b-5ed1-42d2-9906-b7d8c8181971",
   "metadata": {},
   "outputs": [
    {
     "name": "stdout",
     "output_type": "stream",
     "text": [
      "0\n"
     ]
    }
   ],
   "source": [
    "# Find the minimum element in a rotated sorted array. \n",
    "# Input: [4, 5, 6, 7, 0, 1, 2]  Output: 0  \n",
    "def find_min_rotated_sorted_array(nums):\n",
    "    left, right = 0, len(nums) - 1\n",
    "\n",
    "    while left < right:\n",
    "        mid = (left + right) // 2\n",
    "        \n",
    "        # If mid element is greater than the rightmost element, the min is in the right half\n",
    "        if nums[mid] > nums[right]:\n",
    "            left = mid + 1\n",
    "        else:\n",
    "            # If mid element is less than or equal to the rightmost element, the min is in the left half including mid\n",
    "            right = mid\n",
    "\n",
    "    # At the end of loop, left == right pointing to the minimum element\n",
    "    return nums[left]\n",
    "\n",
    "nums = [4, 5, 6, 7, 0, 1, 2]\n",
    "print(find_min_rotated_sorted_array(nums))  \n"
   ]
  },
  {
   "cell_type": "code",
   "execution_count": 6,
   "id": "3d403fb3-468f-4000-831a-7f77c837fd37",
   "metadata": {},
   "outputs": [
    {
     "name": "stdout",
     "output_type": "stream",
     "text": [
      "4\n"
     ]
    }
   ],
   "source": [
    "# Search for a target value in a rotated sorted array.   \n",
    "# Input: nums = [4, 5, 6, 7, 0, 1, 2], target = 0  \n",
    "\n",
    "def search_rotated_sorted_array(nums, target):\n",
    "    left, right = 0, len(nums) - 1\n",
    "    \n",
    "    while left <= right:\n",
    "        mid = (left + right) // 2\n",
    "        \n",
    "        # Check if mid is the target\n",
    "        if nums[mid] == target:\n",
    "            return mid\n",
    "        \n",
    "        # Check if the left half is sorted\n",
    "        if nums[left] <= nums[mid]:\n",
    "            # Target is within the left half\n",
    "            if nums[left] <= target < nums[mid]:\n",
    "                right = mid - 1\n",
    "            else:\n",
    "                left = mid + 1\n",
    "        else:\n",
    "            # The right half is sorted\n",
    "            # Target is within the right half\n",
    "            if nums[mid] < target <= nums[right]:\n",
    "                left = mid + 1\n",
    "            else:\n",
    "                right = mid - 1\n",
    "\n",
    "    return -1\n",
    "\n",
    "nums = [4, 5, 6, 7, 0, 1, 2]\n",
    "target = 0\n",
    "print(search_rotated_sorted_array(nums, target))\n"
   ]
  },
  {
   "cell_type": "code",
   "execution_count": 7,
   "id": "05181b8c-caaa-47bb-984f-550c129609ca",
   "metadata": {},
   "outputs": [
    {
     "name": "stdout",
     "output_type": "stream",
     "text": [
      "2\n"
     ]
    }
   ],
   "source": [
    "# Find the peak element in an array. A peak element is greater than its neighbors.  \n",
    "# Input: nums = [1, 2, 3, 1]  Output: 2 (index of peak element)   \n",
    "def find_peak_element(nums):\n",
    "    left, right = 0, len(nums) - 1\n",
    "\n",
    "    while left < right:\n",
    "        mid = (left + right) // 2\n",
    "        \n",
    "        # Check if mid is a peak\n",
    "        if nums[mid] > nums[mid + 1]:\n",
    "            # If the middle element is greater than the next element, the peak is in the left half (including mid)\n",
    "            right = mid\n",
    "        else:\n",
    "            # If the middle element is less than the next element, the peak is in the right half\n",
    "            left = mid + 1\n",
    "    return left\n",
    "\n",
    "nums = [1, 2, 3, 1]\n",
    "print(find_peak_element(nums))  \n"
   ]
  },
  {
   "cell_type": "code",
   "execution_count": 8,
   "id": "930e7d8c-d058-46fb-b78b-e358639c92b1",
   "metadata": {},
   "outputs": [
    {
     "name": "stdout",
     "output_type": "stream",
     "text": [
      "8\n"
     ]
    }
   ],
   "source": [
    "#  Given a m x n matrix where each row and column is sorted in ascending order, count the number of negative numbers.   \n",
    "# Input: grid = [[4, 3, 2, -1], [3, 2, 1, -1], [1, 1, -1, -2], [-1, -1, -2, -3]]  Output: 8   \n",
    "def count_negatives(grid):\n",
    "    m = len(grid)    # number of rows\n",
    "    n = len(grid[0]) # number of columns\n",
    "    row, col = 0, n - 1\n",
    "    count = 0\n",
    "\n",
    "    while row < m and col >= 0:\n",
    "        if grid[row][col] < 0:\n",
    "            # All elements below grid[row][col] in this column are also negative\n",
    "            count += (m - row)\n",
    "            col -= 1\n",
    "        else:\n",
    "            # Move down to the next row\n",
    "            row += 1\n",
    "    \n",
    "    return count\n",
    "\n",
    "grid = [[4, 3, 2, -1], [3, 2, 1, -1], [1, 1, -1, -2], [-1, -1, -2, -3]]\n",
    "print(count_negatives(grid))\n"
   ]
  },
  {
   "cell_type": "code",
   "execution_count": 9,
   "id": "c0082d96-1f3a-4196-b91e-b4419d005152",
   "metadata": {},
   "outputs": [
    {
     "name": "stdout",
     "output_type": "stream",
     "text": [
      "True\n"
     ]
    }
   ],
   "source": [
    "# : Given a 2D matrix sorted in ascending order in each row, and the first integer of each row is greater than the last integer of the previous row, determine if a target value is present in the matrix. \n",
    "# Input: matrix = [[1, 3, 5, 7], [10, 11, 16, 20], [23, 30, 34, 60]], target = 3  Output: True  \n",
    "def search_matrix(matrix, target):\n",
    "    if not matrix or not matrix[0]:\n",
    "        return False\n",
    "\n",
    "    m, n = len(matrix), len(matrix[0])\n",
    "    left, right = 0, m * n - 1\n",
    "\n",
    "    while left <= right:\n",
    "        mid = (left + right) // 2\n",
    "        mid_value = matrix[mid // n][mid % n]\n",
    "        \n",
    "        if mid_value == target:\n",
    "            return True\n",
    "        elif mid_value < target:\n",
    "            left = mid + 1\n",
    "        else:\n",
    "            right = mid - 1\n",
    "\n",
    "    return False\n",
    "\n",
    "matrix = [[1, 3, 5, 7], [10, 11, 16, 20], [23, 30, 34, 60]]\n",
    "target = 3\n",
    "print(search_matrix(matrix, target))  "
   ]
  },
  {
   "cell_type": "code",
   "execution_count": 10,
   "id": "2ddfb1e2-5953-4f6e-af54-1fd44a04e5d1",
   "metadata": {},
   "outputs": [
    {
     "name": "stdout",
     "output_type": "stream",
     "text": [
      "2\n"
     ]
    }
   ],
   "source": [
    "# Find Median in Two Sorted Arrays  Problem: Given two sorted arrays, find the median of the combined sorted array.   \n",
    "# Input: nums1 = [1, 3], nums2 = [2]  Output: 2.0  \n",
    "def find_median_sorted_arrays(nums1, nums2):\n",
    "    # Ensure nums1 is the smaller array\n",
    "    if len(nums1) > len(nums2):\n",
    "        nums1, nums2 = nums2, nums1\n",
    "    \n",
    "    x, y = len(nums1), len(nums2)\n",
    "    low, high = 0, x\n",
    "\n",
    "    while low <= high:\n",
    "        partitionX = (low + high) // 2\n",
    "        partitionY = (x + y + 1) // 2 - partitionX\n",
    "\n",
    "        # Handling the case when there is nothing left on the left side\n",
    "        maxX = float('-inf') if partitionX == 0 else nums1[partitionX - 1]\n",
    "        minX = float('inf') if partitionX == x else nums1[partitionX]\n",
    "\n",
    "        maxY = float('-inf') if partitionY == 0 else nums2[partitionY - 1]\n",
    "        minY = float('inf') if partitionY == y else nums2[partitionY]\n",
    "\n",
    "        if maxX <= minY and maxY <= minX:\n",
    "            # Found the right partition\n",
    "            if (x + y) % 2 == 0:\n",
    "                return (max(maxX, maxY) + min(minX, minY)) / 2\n",
    "            else:\n",
    "                return max(maxX, maxY)\n",
    "        elif maxX > minY:\n",
    "            # Move towards the left side in nums1\n",
    "            high = partitionX - 1\n",
    "        else:\n",
    "            # Move towards the right side in nums1\n",
    "            low = partitionX + 1\n",
    "\n",
    "    raise ValueError(\"Input arrays are not sorted.\")\n",
    "\n",
    "nums1 = [1, 3]\n",
    "nums2 = [2]\n",
    "print(find_median_sorted_arrays(nums1, nums2))  "
   ]
  },
  {
   "cell_type": "code",
   "execution_count": 11,
   "id": "2f3cb025-73aa-4029-91e5-0ffa592f2bad",
   "metadata": {},
   "outputs": [
    {
     "name": "stdout",
     "output_type": "stream",
     "text": [
      "c\n"
     ]
    }
   ],
   "source": [
    "# Given a sorted character array and a target letter, find the smallest letter in the array that is greater than the target. \n",
    "# Input: letters = ['c', 'f', 'j'], target = 'a'  Output: 'c'  \n",
    "def next_greatest_letter(letters, target):\n",
    "    left, right = 0, len(letters) - 1\n",
    "\n",
    "    while left <= right:\n",
    "        mid = (left + right) // 2\n",
    "\n",
    "        if letters[mid] > target:\n",
    "            right = mid - 1\n",
    "        else:\n",
    "            left = mid + 1\n",
    "\n",
    "    # left is the smallest index where letters[left] > target\n",
    "    # If no such letter exists, return the first character due to circular wrapping\n",
    "    return letters[left % len(letters)]\n",
    "\n",
    "letters = ['c', 'f', 'j']\n",
    "target = 'a'\n",
    "print(next_greatest_letter(letters, target))"
   ]
  },
  {
   "cell_type": "code",
   "execution_count": 12,
   "id": "f7767fd1-e1c0-4c80-b54b-5ce7cd1404a2",
   "metadata": {},
   "outputs": [
    {
     "name": "stdout",
     "output_type": "stream",
     "text": [
      "[0, 0, 1, 1, 2, 2]\n"
     ]
    }
   ],
   "source": [
    "#  Given an array with n objects colored red, white, or blue, sort them in-place so that objects of the same color are adjacent, with the colors in the order red, white, and blue. \n",
    "# Input: nums = [2, 0, 2, 1, 1, 0]  Output: [0, 0, 1, 1, 2, 2]  \n",
    "def sort_colors(nums):\n",
    "    low, mid, high = 0, 0, len(nums) - 1\n",
    "\n",
    "    while mid <= high:\n",
    "        if nums[mid] == 0:\n",
    "            nums[low], nums[mid] = nums[mid], nums[low]\n",
    "            low += 1\n",
    "            mid += 1\n",
    "        elif nums[mid] == 1:\n",
    "            mid += 1\n",
    "        else:  # nums[mid] == 2\n",
    "            nums[high], nums[mid] = nums[mid], nums[high]\n",
    "            high -= 1\n",
    "\n",
    "nums = [2, 0, 2, 1, 1, 0]\n",
    "sort_colors(nums)\n",
    "print(nums)  \n"
   ]
  },
  {
   "cell_type": "code",
   "execution_count": 13,
   "id": "9b823fef-6018-459f-8b83-46e68af4a717",
   "metadata": {},
   "outputs": [
    {
     "name": "stdout",
     "output_type": "stream",
     "text": [
      "5\n"
     ]
    }
   ],
   "source": [
    "#  Find the kth largest element in an unsorted array. \n",
    "# Input: nums = [3, 2, 1, 5, 6, 4], k = 2  Output: 5  \n",
    "import heapq\n",
    "\n",
    "def find_kth_largest(nums, k):\n",
    "    min_heap = []\n",
    "    \n",
    "    for num in nums:\n",
    "        heapq.heappush(min_heap, num)\n",
    "        if len(min_heap) > k:\n",
    "            heapq.heappop(min_heap)\n",
    "    \n",
    "    return min_heap[0]\n",
    "\n",
    "nums = [3, 2, 1, 5, 6, 4]\n",
    "k = 2\n",
    "print(find_kth_largest(nums, k))  \n"
   ]
  },
  {
   "cell_type": "code",
   "execution_count": 13,
   "id": "406be041-d3a3-4931-8ed7-0ad01f59f62c",
   "metadata": {},
   "outputs": [
    {
     "name": "stdout",
     "output_type": "stream",
     "text": [
      "[3, 5, 1, 6, 2, 4]\n"
     ]
    }
   ],
   "source": [
    "# Given an unsorted array, reorder it in-place such that nums[0] <= nums[1] >= nums[2] <= nums[3]... \n",
    "# Input: nums = [3, 5, 2, 1, 6, 4]  Output: [3, 5, 1, 6, 2, 4]  \n",
    "\n",
    "def wiggle_sort(nums):\n",
    "    # Traverse through the array\n",
    "    for i in range(len(nums)):\n",
    "        if i % 2 == 0:  # Even index\n",
    "            # Ensure nums[i] <= nums[i + 1] if i + 1 is within bounds\n",
    "            if i + 1 < len(nums) and nums[i] > nums[i + 1]:\n",
    "                nums[i], nums[i + 1] = nums[i + 1], nums[i]\n",
    "        else:  # Odd index\n",
    "            # Ensure nums[i] >= nums[i + 1] if i + 1 is within bounds\n",
    "            if i + 1 < len(nums) and nums[i] < nums[i + 1]:\n",
    "                nums[i], nums[i + 1] = nums[i + 1], nums[i]\n",
    "\n",
    "nums = [3, 5, 2, 1, 6, 4]\n",
    "wiggle_sort(nums)\n",
    "print(nums) \n"
   ]
  },
  {
   "cell_type": "code",
   "execution_count": 14,
   "id": "c379e4eb-067b-4a25-ae0e-10583dc2a302",
   "metadata": {},
   "outputs": [
    {
     "name": "stdout",
     "output_type": "stream",
     "text": [
      "15\n"
     ]
    }
   ],
   "source": [
    "#  Given an array of integers, calculate the sum of all its elements. \n",
    "# Input: [1, 2, 3, 4, 5]  Output: 15  \n",
    "def sum_of_elements(nums):\n",
    "    total_sum = 0\n",
    "    for num in nums:\n",
    "        total_sum += num\n",
    "    return total_sum\n",
    "\n",
    "\n",
    "nums = [1, 2, 3, 4, 5]\n",
    "print(sum_of_elements(nums)) \n"
   ]
  },
  {
   "cell_type": "code",
   "execution_count": 4,
   "id": "6654ad32-5990-4db8-b2c6-9d67f505457c",
   "metadata": {},
   "outputs": [
    {
     "name": "stdout",
     "output_type": "stream",
     "text": [
      "9\n"
     ]
    }
   ],
   "source": [
    "#  Find the maximum element in an array of integers. \n",
    "# Input: [3, 7, 2, 9, 4, 1]  Output: 9  \n",
    "arr= [3, 7, 2, 9, 4, 1]\n",
    "arr.sort()\n",
    "\n",
    "print(arr[len(arr)-1])"
   ]
  },
  {
   "cell_type": "code",
   "execution_count": 6,
   "id": "013653df-f6fe-403f-9b06-520aa5958231",
   "metadata": {},
   "outputs": [
    {
     "name": "stdout",
     "output_type": "stream",
     "text": [
      "2\n"
     ]
    }
   ],
   "source": [
    "# Implement linear search to find the index of a target element in an array. \n",
    "# Input: [5, 3, 8, 2, 7, 4], target = 8  Output: 2  \n",
    "def linear_search(arr,k):\n",
    "    for i in range(0,len(arr)):\n",
    "                   \n",
    "        if arr[i]== k:\n",
    "            return i\n",
    "    return -1\n",
    "                   \n",
    "arr=[5, 3, 8, 2, 7, 4]\n",
    "k= 8\n",
    "item_search= linear_search(arr,k)\n",
    "print(item_search)\n",
    "                   \n",
    "        "
   ]
  },
  {
   "cell_type": "code",
   "execution_count": 7,
   "id": "19e150c3-4e7c-46ea-9407-8d7c713c2693",
   "metadata": {},
   "outputs": [
    {
     "name": "stdout",
     "output_type": "stream",
     "text": [
      "120\n"
     ]
    }
   ],
   "source": [
    "# Calculate the factorial of a given number.  \n",
    "# Input: 5  Output: 120 (as 5! = 5 * 4 * 3 * 2 * 1 = 120)  \n",
    "\n",
    "def factorial(n):\n",
    "    if n < 0:\n",
    "        return None  # Factorial is not defined for negative numbers\n",
    "    result = 1\n",
    "    for i in range(2, n + 1):\n",
    "        result *= i\n",
    "    return result\n",
    "\n",
    "\n",
    "input_number = 5\n",
    "output = factorial(input_number)\n",
    "print(output)\n"
   ]
  },
  {
   "cell_type": "code",
   "execution_count": 8,
   "id": "0f00bf01-4baf-401f-874c-362db4a11168",
   "metadata": {},
   "outputs": [
    {
     "name": "stdout",
     "output_type": "stream",
     "text": [
      "True\n"
     ]
    }
   ],
   "source": [
    "# Check if a given number is a prime number.  \n",
    "# Input: 7  Output: True  \n",
    "def is_prime(n):\n",
    "    if n <= 1:\n",
    "        return False  # 0 and 1 are not prime numbers\n",
    "    if n <= 3:\n",
    "        return True  # 2 and 3 are prime numbers\n",
    "\n",
    "    if n % 2 == 0 or n % 3 == 0:\n",
    "        return False  # Multiples of 2 and 3 are not prime numbers\n",
    "\n",
    "    i = 5\n",
    "    while i * i <= n:\n",
    "        if n % i == 0 or n % (i + 2) == 0:\n",
    "            return False\n",
    "        i += 6\n",
    "    return True\n",
    "\n",
    "\n",
    "input_number = 7\n",
    "output = is_prime(input_number)\n",
    "print(output) \n"
   ]
  },
  {
   "cell_type": "code",
   "execution_count": 9,
   "id": "bc942cb9-9bfa-4860-9d02-9b9811d94468",
   "metadata": {},
   "outputs": [
    {
     "name": "stdout",
     "output_type": "stream",
     "text": [
      "[0, 1, 1, 2, 3, 5, 8]\n"
     ]
    }
   ],
   "source": [
    "#  Generate the Fibonacci series up to a given number n.  \n",
    "# Input: 8  Output: [0, 1, 1, 2, 3, 5, 8, 13]  \n",
    "def fibonacci_series(n):\n",
    "    if n < 0:\n",
    "        return []  # Return an empty list for negative inputs\n",
    "    \n",
    "    series = [0, 1]  # Start with the first two Fibonacci numbers\n",
    "    \n",
    "    while series[-1] + series[-2] <= n:\n",
    "        series.append(series[-1] + series[-2])\n",
    "    \n",
    "    return series\n",
    "\n",
    "input_number = 8\n",
    "output = fibonacci_series(input_number)\n",
    "print(output)  \n"
   ]
  },
  {
   "cell_type": "code",
   "execution_count": null,
   "id": "8773e0fc-ff14-4e11-b8dc-bdbdaa03532a",
   "metadata": {},
   "outputs": [
    {
     "name": "stdout",
     "output_type": "stream",
     "text": [
      "81\n"
     ]
    }
   ],
   "source": [
    "def power(base, exponent):\n",
    "    # Base case: Any number to the power of 0 is 1\n",
    "    if exponent == 0:\n",
    "        return 1\n",
    "    # Recursive case: Multiply base by the result of power(base, exponent - 1)\n",
    "    return base * power(base, exponent - 1)\n",
    "\n",
    "\n",
    "base = 3\n",
    "exponent = 4\n",
    "output = power(base, exponent)\n",
    "print(output) \n"
   ]
  },
  {
   "cell_type": "code",
   "execution_count": 12,
   "id": "296f81e4-4d96-4efd-a111-31bd9c6bdb9e",
   "metadata": {},
   "outputs": [
    {
     "name": "stdout",
     "output_type": "stream",
     "text": [
      "olleh\n"
     ]
    }
   ],
   "source": [
    "def reverse_string(s):\n",
    "    return s[::-1]\n",
    "\n",
    "# Example usage\n",
    "input_string = \"hello\"\n",
    "output = reverse_string(input_string)\n",
    "print(output)  \n"
   ]
  },
  {
   "cell_type": "code",
   "execution_count": null,
   "id": "36c72cd8-4776-4513-bf93-13618b9e73de",
   "metadata": {},
   "outputs": [],
   "source": []
  }
 ],
 "metadata": {
  "kernelspec": {
   "display_name": "Python 3 (ipykernel)",
   "language": "python",
   "name": "python3"
  },
  "language_info": {
   "codemirror_mode": {
    "name": "ipython",
    "version": 3
   },
   "file_extension": ".py",
   "mimetype": "text/x-python",
   "name": "python",
   "nbconvert_exporter": "python",
   "pygments_lexer": "ipython3",
   "version": "3.10.8"
  }
 },
 "nbformat": 4,
 "nbformat_minor": 5
}

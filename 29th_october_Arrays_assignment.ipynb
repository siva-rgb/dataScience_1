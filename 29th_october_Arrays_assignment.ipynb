{
 "cells": [
  {
   "cell_type": "code",
   "execution_count": 4,
   "id": "1481a991-8429-4ef5-8a2b-9158c6317891",
   "metadata": {},
   "outputs": [
    {
     "name": "stdout",
     "output_type": "stream",
     "text": [
      "True\n",
      "False\n"
     ]
    }
   ],
   "source": [
    "#1. Given an array, check if it contains any duplicates or not.\n",
    "#time Complexity: O(n)\n",
    "# space Complexity O(n)\n",
    "def isDuplicate(a):\n",
    "    sets= set(a)\n",
    "    \n",
    "    if len(sets) == len(a):\n",
    "        return False\n",
    "    return True\n",
    "\n",
    "a=[1,2,4,2,5,9]\n",
    "\n",
    "b= [1,2,3,5]\n",
    "print(isDuplicate(a))\n",
    "\n",
    "print(isDuplicate(b))"
   ]
  },
  {
   "cell_type": "code",
   "execution_count": 6,
   "id": "2b665042-6a32-4f67-bb1c-f81e21b1fa3e",
   "metadata": {},
   "outputs": [
    {
     "name": "stdout",
     "output_type": "stream",
     "text": [
      "[12, 9, 7, 5, 4, 2]\n"
     ]
    }
   ],
   "source": [
    "#Reverse the given array in-place, means without using any extra data structure.\n",
    "#time Complexity O(logn)\n",
    "def reverse(a):\n",
    "    low=0\n",
    "    high= len(a)-1\n",
    "    \n",
    "    while low<=high:\n",
    "        a[low], a[high] = a[high], a[low]\n",
    "        low +=1\n",
    "        high -=1\n",
    "    return a\n",
    "\n",
    "a= [2, 4, 5, 7, 9, 12]\n",
    "\n",
    "a= reverse(a)\n",
    "print(a)"
   ]
  },
  {
   "cell_type": "code",
   "execution_count": 8,
   "id": "7c39f405-b54b-4d84-ae5d-2bb6a790d952",
   "metadata": {},
   "outputs": [
    {
     "data": {
      "text/plain": [
       "20"
      ]
     },
     "execution_count": 8,
     "metadata": {},
     "output_type": "execute_result"
    }
   ],
   "source": [
    "#4. Given an array of integers, find the maximum element in an array\n",
    "\n",
    "#time Complexity: O(n)\n",
    "def maxi(arr):\n",
    "    max_elem=0\n",
    "    for i in arr:\n",
    "        if i> max_elem:\n",
    "            max_elem=i\n",
    "    return max_elem\n",
    "\n",
    "\n",
    "arr = [10, 5, 20, 8, 15]\n",
    "\n",
    "maxi(arr)"
   ]
  },
  {
   "cell_type": "code",
   "execution_count": 9,
   "id": "c2a758cf-ee7b-4b24-b1a2-b092447efa37",
   "metadata": {},
   "outputs": [
    {
     "name": "stdout",
     "output_type": "stream",
     "text": [
      "1\n",
      "2\n",
      "3\n",
      "4\n",
      "5\n"
     ]
    }
   ],
   "source": [
    "#Given a sorted array, remove the duplicate element without using any extra data structure.\n",
    "#time Complexity O(n)\n",
    "def remove_duplicate(a):\n",
    "    n=len(a)\n",
    "    i=0\n",
    "    j=1\n",
    "    \n",
    "    for j in range(1,n):\n",
    "        if(a[i]!=a[j]):\n",
    "            i +=1\n",
    "            a[i]=a[j]\n",
    "    return a, i+1\n",
    "\n",
    "arr = [1, 1, 2, 2, 2, 3, 3, 4, 4, 4, 5, 5]\n",
    "\n",
    "arr, res= remove_duplicate(arr)\n",
    "\n",
    "for i in range (0,res):\n",
    "    print(arr[i])"
   ]
  },
  {
   "cell_type": "code",
   "execution_count": 24,
   "id": "78fe22ce-0819-4316-9fdf-1d2644b2e610",
   "metadata": {},
   "outputs": [
    {
     "name": "stdout",
     "output_type": "stream",
     "text": [
      "[5, 6, 7, 1, 2, 3, 4]\n"
     ]
    }
   ],
   "source": [
    "#2. Given an array and an integer k, rotate the array to the right by k steps.\n",
    "##time Complexity O(n)\n",
    "#space Complexity O(1)\n",
    "def reverse(a, l,h):\n",
    "    \n",
    "    while l<=h:\n",
    "        a[l], a[h]=a[h],a[l]\n",
    "        l+=1\n",
    "        h-=1\n",
    "    return a\n",
    "    \n",
    "                         \n",
    "\n",
    "arr = [1, 2, 3, 4, 5, 6, 7]\n",
    "k = 3\n",
    "\n",
    "l=0\n",
    "h=len(arr)-1\n",
    "\n",
    "arr= reverse(arr, l, k)\n",
    "\n",
    "arr= reverse(arr,k+1,h)\n",
    "\n",
    "arr= reverse(arr, l, h)\n",
    "\n",
    "print(arr)\n"
   ]
  }
 ],
 "metadata": {
  "kernelspec": {
   "display_name": "Python 3 (ipykernel)",
   "language": "python",
   "name": "python3"
  },
  "language_info": {
   "codemirror_mode": {
    "name": "ipython",
    "version": 3
   },
   "file_extension": ".py",
   "mimetype": "text/x-python",
   "name": "python",
   "nbconvert_exporter": "python",
   "pygments_lexer": "ipython3",
   "version": "3.10.8"
  }
 },
 "nbformat": 4,
 "nbformat_minor": 5
}

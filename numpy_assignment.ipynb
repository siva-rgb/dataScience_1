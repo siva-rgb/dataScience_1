{
 "cells": [
  {
   "cell_type": "markdown",
   "id": "f140782b-6e56-4ab9-be59-e6980f1cb135",
   "metadata": {},
   "source": [
    "# What is a Python library? Why do we use Python libraries?\n",
    "\n",
    "## A Python library is a collection of modules and packages that provide pre-written code to perform common tasks. \n",
    "## Libraries in Python can include functions, classes, and variables that can be reused in different programs to perform specific tasks without needing to write code from scratch.\n",
    "<!-- Python libraries are distributed in a variety of formats, such as single modules (e.g., a single .py file) or packages (e.g., directories containing multiple modules along with __init__.py files). Some well-known Python libraries include numpy for numerical computing, pandas for data analysis, requests for making HTTP requests, and matplotlib for data visualization. -->\n",
    "\n",
    "# Python libraries are used for several reasons:\n",
    "# Code Reusability and Efficiency:\n",
    "# Simplification of Complex Tasks\n",
    "# Consistency and Reliability"
   ]
  },
  {
   "cell_type": "markdown",
   "id": "3833380d-ca73-4860-89e4-a5a1af677908",
   "metadata": {},
   "source": [
    "# 2. What is the difference between Numpy array and List?\n",
    "# A NumPy array is a fixed-size, homogeneous data structure optimized for numerical computations, providing efficient storage and operations on numerical data. A Python list is a flexible, dynamic-sized, heterogeneous data structure that can hold different data types but is less efficient for numerical and large-scale computations."
   ]
  },
  {
   "cell_type": "code",
   "execution_count": 2,
   "id": "26c18782-cb0c-477b-b3de-a2d3d7adaa6a",
   "metadata": {},
   "outputs": [],
   "source": [
    "import numpy as np"
   ]
  },
  {
   "cell_type": "code",
   "execution_count": 5,
   "id": "42fcf4f4-d0b0-49ca-882d-06125200d6c6",
   "metadata": {},
   "outputs": [
    {
     "data": {
      "text/plain": [
       "(3, 4)"
      ]
     },
     "execution_count": 5,
     "metadata": {},
     "output_type": "execute_result"
    }
   ],
   "source": [
    "# #3. Find the shape, size and dimension of the following array?\n",
    "# [[1, 2, 3, 4]\n",
    "# [5, 6, 7, 8],\n",
    "# [9, 10, 11, 12]]\n",
    "arr= [[1, 2, 3, 4],\n",
    "[5, 6, 7, 8],\n",
    "[9, 10, 11, 12]]\n",
    "np.shape(arr)"
   ]
  },
  {
   "cell_type": "code",
   "execution_count": 10,
   "id": "dbc325d3-596b-4f8d-8198-b82cb93aeaf0",
   "metadata": {},
   "outputs": [
    {
     "data": {
      "text/plain": [
       "array([1, 2, 3, 4])"
      ]
     },
     "execution_count": 10,
     "metadata": {},
     "output_type": "execute_result"
    }
   ],
   "source": [
    "# 4. Write python code to access the first row of the following array?\n",
    "# [[1, 2, 3, 4]\n",
    "# [5, 6, 7, 8],\n",
    "# [9, 10, 11, 12]]\n",
    "\n",
    "array = np.array([[1, 2, 3, 4],\n",
    "                  [5, 6, 7, 8],\n",
    "                  [9, 10, 11, 12]])\n",
    "array[0]"
   ]
  },
  {
   "cell_type": "code",
   "execution_count": 9,
   "id": "a94cf038-a753-4eb2-b751-48f3f9271cac",
   "metadata": {},
   "outputs": [
    {
     "name": "stdout",
     "output_type": "stream",
     "text": [
      "12\n"
     ]
    }
   ],
   "source": [
    "# How do you access the element at the third row and fourth column from the given numpy array?\n",
    "# [[1, 2, 3, 4]\n",
    "# [5, 6, 7, 8],\n",
    "# [9, 10, 11, 12]]\n",
    "\n",
    "array = np.array([[1, 2, 3, 4],\n",
    "                  [5, 6, 7, 8],\n",
    "                  [9, 10, 11, 12]])\n",
    "\n",
    "# Accessing the element at the third row and fourth column\n",
    "element = array[2, 3]\n",
    "print(element)  # Output: 12"
   ]
  },
  {
   "cell_type": "code",
   "execution_count": 11,
   "id": "8e9ef66e-4798-4ad9-8bff-379889580698",
   "metadata": {},
   "outputs": [
    {
     "name": "stdout",
     "output_type": "stream",
     "text": [
      "[[6 8]]\n"
     ]
    }
   ],
   "source": [
    "# Write code to extract all odd-indexed elements from the given numpy array?\n",
    "# [[1, 2, 3, 4]\n",
    "# [5, 6, 7, 8],\n",
    "# [9, 10, 11, 12]]\n",
    "\n",
    "array = np.array([[1, 2, 3, 4],\n",
    "                  [5, 6, 7, 8],\n",
    "                  [9, 10, 11, 12]])\n",
    "odd_indexed_elements = array[1::2, 1::2]\n",
    "\n",
    "print(odd_indexed_elements)"
   ]
  },
  {
   "cell_type": "code",
   "execution_count": 13,
   "id": "ab8d6d03-f027-4bdc-b36d-b1168c80dbbf",
   "metadata": {},
   "outputs": [
    {
     "data": {
      "text/plain": [
       "array([[0.91900696, 0.53754796, 0.93799235],\n",
       "       [0.49838258, 0.28903996, 0.49055261],\n",
       "       [0.76145389, 0.04463831, 0.60049256]])"
      ]
     },
     "execution_count": 13,
     "metadata": {},
     "output_type": "execute_result"
    }
   ],
   "source": [
    "# How can you generate a random 3x3 matrix with values between 0 and 1?\n",
    "\n",
    "arr= np.random.rand(3, 3)\n",
    "arr"
   ]
  },
  {
   "cell_type": "code",
   "execution_count": 14,
   "id": "977ef250-2d0d-45aa-ba20-93a4cf5c2159",
   "metadata": {},
   "outputs": [
    {
     "name": "stdout",
     "output_type": "stream",
     "text": [
      "[[0.02539998 0.96873367 0.15003867]\n",
      " [0.65275262 0.6055597  0.96115551]\n",
      " [0.35577825 0.53162346 0.15754449]]\n",
      "[[-0.91791927  0.79275263  0.40422596]\n",
      " [ 0.80744399  0.24769876  0.66974243]\n",
      " [ 1.14035357 -1.06896791  0.11628125]]\n"
     ]
    }
   ],
   "source": [
    "#Describe the difference between np.random.rand and np.random.randn?\n",
    "# Generate a 3x3 matrix with uniform random values between 0 and 1\n",
    "random_uniform = np.random.rand(3, 3)\n",
    "print(random_uniform)\n",
    "\n",
    "# Generate a 3x3 matrix with standard normal random values\n",
    "random_normal = np.random.randn(3, 3)\n",
    "print(random_normal)"
   ]
  },
  {
   "cell_type": "code",
   "execution_count": 1,
   "id": "2c9b123f-5708-4ae5-93de-371a57f8cc1b",
   "metadata": {},
   "outputs": [
    {
     "name": "stdout",
     "output_type": "stream",
     "text": [
      "[[[ 1  2  3  4]\n",
      "  [ 5  6  7  8]\n",
      "  [ 9 10 11 12]]]\n",
      "Shape of expanded array: (1, 3, 4)\n"
     ]
    }
   ],
   "source": [
    "import numpy as np\n",
    "\n",
    "array = np.array([[1, 2, 3, 4],\n",
    "                  [5, 6, 7, 8],\n",
    "                  [9, 10, 11, 12]])\n",
    "\n",
    "expanded_array = np.expand_dims(array, axis=0)  \n",
    "print(expanded_array)\n",
    "print(\"Shape of expanded array:\", expanded_array.shape)\n"
   ]
  },
  {
   "cell_type": "code",
   "execution_count": 2,
   "id": "4157eaff-dc82-4fd3-b9fe-0b978faf852c",
   "metadata": {},
   "outputs": [
    {
     "name": "stdout",
     "output_type": "stream",
     "text": [
      "[[ 1  5  9]\n",
      " [ 2  6 10]\n",
      " [ 3  7 11]\n",
      " [ 4  8 12]]\n"
     ]
    }
   ],
   "source": [
    "# How to transpose the following array in NumPy?\n",
    "# [[1, 2, 3, 4]\n",
    "# [5, 6, 7, 8],\n",
    "# [9, 10, 11, 12]]\n",
    "\n",
    "array = np.array([[1, 2, 3, 4],\n",
    "                  [5, 6, 7, 8],\n",
    "                  [9, 10, 11, 12]])\n",
    "\n",
    "\n",
    "transposed_array = array.T\n",
    "\n",
    "print(transposed_array)\n"
   ]
  }
 ],
 "metadata": {
  "kernelspec": {
   "display_name": "Python 3 (ipykernel)",
   "language": "python",
   "name": "python3"
  },
  "language_info": {
   "codemirror_mode": {
    "name": "ipython",
    "version": 3
   },
   "file_extension": ".py",
   "mimetype": "text/x-python",
   "name": "python",
   "nbconvert_exporter": "python",
   "pygments_lexer": "ipython3",
   "version": "3.10.8"
  }
 },
 "nbformat": 4,
 "nbformat_minor": 5
}
